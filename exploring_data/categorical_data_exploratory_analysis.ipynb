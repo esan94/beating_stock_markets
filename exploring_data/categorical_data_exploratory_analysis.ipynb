{
 "cells": [
  {
   "cell_type": "markdown",
   "metadata": {},
   "source": [
    "# **EXPLORATORY ANALYSIS**"
   ]
  },
  {
   "cell_type": "markdown",
   "metadata": {},
   "source": [
    " "
   ]
  },
  {
   "cell_type": "markdown",
   "metadata": {},
   "source": [
    "Let's go to see what are in data/db_bsm_categorical.csv"
   ]
  },
  {
   "cell_type": "code",
   "execution_count": 1,
   "metadata": {},
   "outputs": [],
   "source": [
    "import pandas as pd\n",
    "import numpy as np\n",
    "import plotly.plotly as py\n",
    "import plotly.graph_objs as go\n",
    "import folium\n",
    "import geopy\n",
    "import vincent\n",
    "from folium import plugins\n",
    "from geopy.geocoders import Nominatim\n",
    "from vincent import AxisProperties, PropertySet, ValueRef"
   ]
  },
  {
   "cell_type": "code",
   "execution_count": 2,
   "metadata": {},
   "outputs": [],
   "source": [
    "path_ = '../data/db_bsm_categorical.csv'"
   ]
  },
  {
   "cell_type": "code",
   "execution_count": 3,
   "metadata": {},
   "outputs": [
    {
     "data": {
      "text/html": [
       "<div>\n",
       "<style scoped>\n",
       "    .dataframe tbody tr th:only-of-type {\n",
       "        vertical-align: middle;\n",
       "    }\n",
       "\n",
       "    .dataframe tbody tr th {\n",
       "        vertical-align: top;\n",
       "    }\n",
       "\n",
       "    .dataframe thead th {\n",
       "        text-align: right;\n",
       "    }\n",
       "</style>\n",
       "<table border=\"1\" class=\"dataframe\">\n",
       "  <thead>\n",
       "    <tr style=\"text-align: right;\">\n",
       "      <th></th>\n",
       "      <th>ticker</th>\n",
       "      <th>company</th>\n",
       "      <th>sector_gics</th>\n",
       "      <th>sector_icb</th>\n",
       "      <th>stock_index</th>\n",
       "      <th>country</th>\n",
       "    </tr>\n",
       "  </thead>\n",
       "  <tbody>\n",
       "    <tr>\n",
       "      <th>1583</th>\n",
       "      <td>TER.MI</td>\n",
       "      <td>TerniEnergia S.p.A.</td>\n",
       "      <td>Utilities</td>\n",
       "      <td>Utilities</td>\n",
       "      <td>NaN</td>\n",
       "      <td>Italy</td>\n",
       "    </tr>\n",
       "    <tr>\n",
       "      <th>621</th>\n",
       "      <td>USLM</td>\n",
       "      <td>United States Lime &amp;amp; Minerals, Inc.</td>\n",
       "      <td>NaN</td>\n",
       "      <td>Basic materials</td>\n",
       "      <td>NaN</td>\n",
       "      <td>United States</td>\n",
       "    </tr>\n",
       "    <tr>\n",
       "      <th>936</th>\n",
       "      <td>FIT</td>\n",
       "      <td>Fitbit, Inc.</td>\n",
       "      <td>Information technology</td>\n",
       "      <td>Technology</td>\n",
       "      <td>NaN</td>\n",
       "      <td>United States</td>\n",
       "    </tr>\n",
       "    <tr>\n",
       "      <th>1218</th>\n",
       "      <td>ITX.MC</td>\n",
       "      <td>Industria de Diseño Textil, S.A.</td>\n",
       "      <td>Consumer discretionary</td>\n",
       "      <td>Consumer goods</td>\n",
       "      <td>Ibex 35</td>\n",
       "      <td>Spain</td>\n",
       "    </tr>\n",
       "    <tr>\n",
       "      <th>1649</th>\n",
       "      <td>MS</td>\n",
       "      <td>Morgan Stanley</td>\n",
       "      <td>Financials</td>\n",
       "      <td>Financials</td>\n",
       "      <td>NaN</td>\n",
       "      <td>United States</td>\n",
       "    </tr>\n",
       "  </tbody>\n",
       "</table>\n",
       "</div>"
      ],
      "text/plain": [
       "      ticker                                  company             sector_gics  \\\n",
       "1583  TER.MI                      TerniEnergia S.p.A.               Utilities   \n",
       "621     USLM  United States Lime &amp; Minerals, Inc.                     NaN   \n",
       "936      FIT                             Fitbit, Inc.  Information technology   \n",
       "1218  ITX.MC         Industria de Diseño Textil, S.A.  Consumer discretionary   \n",
       "1649      MS                           Morgan Stanley              Financials   \n",
       "\n",
       "           sector_icb stock_index        country  \n",
       "1583        Utilities         NaN          Italy  \n",
       "621   Basic materials         NaN  United States  \n",
       "936        Technology         NaN  United States  \n",
       "1218   Consumer goods     Ibex 35          Spain  \n",
       "1649       Financials         NaN  United States  "
      ]
     },
     "execution_count": 3,
     "metadata": {},
     "output_type": "execute_result"
    }
   ],
   "source": [
    "db_bsm = pd.read_csv(path_)\n",
    "db_bsm.sample(5)"
   ]
  },
  {
   "cell_type": "markdown",
   "metadata": {},
   "source": [
    " "
   ]
  },
  {
   "cell_type": "markdown",
   "metadata": {},
   "source": [
    "What type of data are there in *path_*?"
   ]
  },
  {
   "cell_type": "code",
   "execution_count": 4,
   "metadata": {},
   "outputs": [
    {
     "data": {
      "text/plain": [
       "ticker         object\n",
       "company        object\n",
       "sector_gics    object\n",
       "sector_icb     object\n",
       "stock_index    object\n",
       "country        object\n",
       "dtype: object"
      ]
     },
     "execution_count": 4,
     "metadata": {},
     "output_type": "execute_result"
    }
   ],
   "source": [
    "db_bsm.dtypes"
   ]
  },
  {
   "cell_type": "code",
   "execution_count": 5,
   "metadata": {},
   "outputs": [
    {
     "data": {
      "text/html": [
       "<div>\n",
       "<style scoped>\n",
       "    .dataframe tbody tr th:only-of-type {\n",
       "        vertical-align: middle;\n",
       "    }\n",
       "\n",
       "    .dataframe tbody tr th {\n",
       "        vertical-align: top;\n",
       "    }\n",
       "\n",
       "    .dataframe thead th {\n",
       "        text-align: right;\n",
       "    }\n",
       "</style>\n",
       "<table border=\"1\" class=\"dataframe\">\n",
       "  <thead>\n",
       "    <tr style=\"text-align: right;\">\n",
       "      <th></th>\n",
       "      <th>ticker</th>\n",
       "      <th>company</th>\n",
       "      <th>sector_gics</th>\n",
       "      <th>sector_icb</th>\n",
       "      <th>stock_index</th>\n",
       "      <th>country</th>\n",
       "    </tr>\n",
       "  </thead>\n",
       "  <tbody>\n",
       "    <tr>\n",
       "      <th>count</th>\n",
       "      <td>2023</td>\n",
       "      <td>2023</td>\n",
       "      <td>1517</td>\n",
       "      <td>1834</td>\n",
       "      <td>328</td>\n",
       "      <td>1762</td>\n",
       "    </tr>\n",
       "    <tr>\n",
       "      <th>unique</th>\n",
       "      <td>1983</td>\n",
       "      <td>1868</td>\n",
       "      <td>11</td>\n",
       "      <td>11</td>\n",
       "      <td>12</td>\n",
       "      <td>35</td>\n",
       "    </tr>\n",
       "    <tr>\n",
       "      <th>top</th>\n",
       "      <td>AMZN</td>\n",
       "      <td>GlaxoSmithKline plc</td>\n",
       "      <td>Information technology</td>\n",
       "      <td>Technology</td>\n",
       "      <td>CAC 40</td>\n",
       "      <td>United States</td>\n",
       "    </tr>\n",
       "    <tr>\n",
       "      <th>freq</th>\n",
       "      <td>3</td>\n",
       "      <td>4</td>\n",
       "      <td>523</td>\n",
       "      <td>523</td>\n",
       "      <td>34</td>\n",
       "      <td>1005</td>\n",
       "    </tr>\n",
       "  </tbody>\n",
       "</table>\n",
       "</div>"
      ],
      "text/plain": [
       "       ticker              company             sector_gics  sector_icb  \\\n",
       "count    2023                 2023                    1517        1834   \n",
       "unique   1983                 1868                      11          11   \n",
       "top      AMZN  GlaxoSmithKline plc  Information technology  Technology   \n",
       "freq        3                    4                     523         523   \n",
       "\n",
       "       stock_index        country  \n",
       "count          328           1762  \n",
       "unique          12             35  \n",
       "top         CAC 40  United States  \n",
       "freq            34           1005  "
      ]
     },
     "execution_count": 5,
     "metadata": {},
     "output_type": "execute_result"
    }
   ],
   "source": [
    "db_bsm.describe()"
   ]
  },
  {
   "cell_type": "code",
   "execution_count": 6,
   "metadata": {},
   "outputs": [
    {
     "data": {
      "text/plain": [
       "ticker            0\n",
       "company           0\n",
       "sector_gics     506\n",
       "sector_icb      189\n",
       "stock_index    1695\n",
       "country         261\n",
       "dtype: int64"
      ]
     },
     "execution_count": 6,
     "metadata": {},
     "output_type": "execute_result"
    }
   ],
   "source": [
    "db_bsm.isnull().sum()"
   ]
  },
  {
   "cell_type": "markdown",
   "metadata": {},
   "source": [
    " "
   ]
  },
  {
   "cell_type": "markdown",
   "metadata": {},
   "source": [
    "##### First analysis is to know how many **company** there are by **country**. So **company** column must be unique."
   ]
  },
  {
   "cell_type": "code",
   "execution_count": 7,
   "metadata": {},
   "outputs": [],
   "source": [
    "df_company_by_countr = db_bsm[['company', 'country']].drop_duplicates()"
   ]
  },
  {
   "cell_type": "code",
   "execution_count": 8,
   "metadata": {},
   "outputs": [],
   "source": [
    "mask = df_company_by_countr[df_company_by_countr['company'].duplicated(keep=False)]\n",
    "mask = mask[mask['country'].isna()].index"
   ]
  },
  {
   "cell_type": "code",
   "execution_count": 9,
   "metadata": {},
   "outputs": [],
   "source": [
    "df_company_by_countr = df_company_by_countr.drop(mask)\n",
    "df_company_by_countr = df_company_by_countr.groupby(['country'])['company'].count().to_frame()"
   ]
  },
  {
   "cell_type": "code",
   "execution_count": 10,
   "metadata": {},
   "outputs": [
    {
     "name": "stderr",
     "output_type": "stream",
     "text": [
      "C:\\Users\\em.sanchez\\AppData\\Local\\Continuum\\anaconda3\\lib\\site-packages\\IPython\\core\\display.py:689: UserWarning:\n",
      "\n",
      "Consider using IPython.display.IFrame instead\n",
      "\n"
     ]
    },
    {
     "data": {
      "text/html": [
       "<iframe id=\"igraph\" scrolling=\"no\" style=\"border:none;\" seamless=\"seamless\" src=\"https://plot.ly/~esan_94/2.embed\" height=\"525px\" width=\"100%\"></iframe>"
      ],
      "text/plain": [
       "<plotly.tools.PlotlyDisplay object>"
      ]
     },
     "execution_count": 10,
     "metadata": {},
     "output_type": "execute_result"
    }
   ],
   "source": [
    "data = [go.Bar(x=df_company_by_countr.index, y=df_company_by_countr['company'].tolist(), \n",
    "               marker=dict(color='rgb(141,224,94)', line=dict(color='rgb(69,129,34)', width=1.5)), opacity=0.4)]\n",
    "layout = go.Layout(title='Companies by country', yaxis=dict(type='log', autorange=True))\n",
    "fig = go.Figure(data=data, layout=layout)\n",
    "py.iplot(fig, filename='companies-by-country')"
   ]
  },
  {
   "cell_type": "markdown",
   "metadata": {},
   "source": [
    "The chosen of logaritmic scale on y axis is to see differences between countries with less companies."
   ]
  },
  {
   "cell_type": "markdown",
   "metadata": {},
   "source": [
    " "
   ]
  },
  {
   "cell_type": "markdown",
   "metadata": {},
   "source": [
    "##### Next, we are going to see **sectors** by **country** so must be a unique record by **company** and **sector** for each **country**."
   ]
  },
  {
   "cell_type": "code",
   "execution_count": 11,
   "metadata": {},
   "outputs": [],
   "source": [
    "df_company_by_gics = db_bsm[['company', 'country', 'sector_gics']].drop_duplicates()\n",
    "df_company_by_icb = db_bsm[['company', 'country', 'sector_icb']].drop_duplicates()"
   ]
  },
  {
   "cell_type": "code",
   "execution_count": 12,
   "metadata": {},
   "outputs": [
    {
     "data": {
      "text/html": [
       "<div>\n",
       "<style scoped>\n",
       "    .dataframe tbody tr th:only-of-type {\n",
       "        vertical-align: middle;\n",
       "    }\n",
       "\n",
       "    .dataframe tbody tr th {\n",
       "        vertical-align: top;\n",
       "    }\n",
       "\n",
       "    .dataframe thead th {\n",
       "        text-align: right;\n",
       "    }\n",
       "</style>\n",
       "<table border=\"1\" class=\"dataframe\">\n",
       "  <thead>\n",
       "    <tr style=\"text-align: right;\">\n",
       "      <th></th>\n",
       "      <th>company</th>\n",
       "      <th>country</th>\n",
       "      <th>sector_gics</th>\n",
       "    </tr>\n",
       "  </thead>\n",
       "  <tbody>\n",
       "    <tr>\n",
       "      <th>count</th>\n",
       "      <td>1931</td>\n",
       "      <td>1670</td>\n",
       "      <td>1441</td>\n",
       "    </tr>\n",
       "    <tr>\n",
       "      <th>unique</th>\n",
       "      <td>1868</td>\n",
       "      <td>35</td>\n",
       "      <td>11</td>\n",
       "    </tr>\n",
       "    <tr>\n",
       "      <th>top</th>\n",
       "      <td>Amazon.com, Inc.</td>\n",
       "      <td>United States</td>\n",
       "      <td>Information technology</td>\n",
       "    </tr>\n",
       "    <tr>\n",
       "      <th>freq</th>\n",
       "      <td>3</td>\n",
       "      <td>958</td>\n",
       "      <td>500</td>\n",
       "    </tr>\n",
       "  </tbody>\n",
       "</table>\n",
       "</div>"
      ],
      "text/plain": [
       "                 company        country             sector_gics\n",
       "count               1931           1670                    1441\n",
       "unique              1868             35                      11\n",
       "top     Amazon.com, Inc.  United States  Information technology\n",
       "freq                   3            958                     500"
      ]
     },
     "execution_count": 12,
     "metadata": {},
     "output_type": "execute_result"
    }
   ],
   "source": [
    "df_company_by_gics.describe()"
   ]
  },
  {
   "cell_type": "code",
   "execution_count": 13,
   "metadata": {},
   "outputs": [
    {
     "data": {
      "text/html": [
       "<div>\n",
       "<style scoped>\n",
       "    .dataframe tbody tr th:only-of-type {\n",
       "        vertical-align: middle;\n",
       "    }\n",
       "\n",
       "    .dataframe tbody tr th {\n",
       "        vertical-align: top;\n",
       "    }\n",
       "\n",
       "    .dataframe thead th {\n",
       "        text-align: right;\n",
       "    }\n",
       "</style>\n",
       "<table border=\"1\" class=\"dataframe\">\n",
       "  <thead>\n",
       "    <tr style=\"text-align: right;\">\n",
       "      <th></th>\n",
       "      <th>company</th>\n",
       "      <th>country</th>\n",
       "      <th>sector_icb</th>\n",
       "    </tr>\n",
       "  </thead>\n",
       "  <tbody>\n",
       "    <tr>\n",
       "      <th>count</th>\n",
       "      <td>1924</td>\n",
       "      <td>1663</td>\n",
       "      <td>1735</td>\n",
       "    </tr>\n",
       "    <tr>\n",
       "      <th>unique</th>\n",
       "      <td>1868</td>\n",
       "      <td>35</td>\n",
       "      <td>11</td>\n",
       "    </tr>\n",
       "    <tr>\n",
       "      <th>top</th>\n",
       "      <td>Petróleo Brasileiro S.A. - Petrobras</td>\n",
       "      <td>United States</td>\n",
       "      <td>Technology</td>\n",
       "    </tr>\n",
       "    <tr>\n",
       "      <th>freq</th>\n",
       "      <td>3</td>\n",
       "      <td>953</td>\n",
       "      <td>500</td>\n",
       "    </tr>\n",
       "  </tbody>\n",
       "</table>\n",
       "</div>"
      ],
      "text/plain": [
       "                                     company        country  sector_icb\n",
       "count                                   1924           1663        1735\n",
       "unique                                  1868             35          11\n",
       "top     Petróleo Brasileiro S.A. - Petrobras  United States  Technology\n",
       "freq                                       3            953         500"
      ]
     },
     "execution_count": 13,
     "metadata": {},
     "output_type": "execute_result"
    }
   ],
   "source": [
    "df_company_by_icb.describe()"
   ]
  },
  {
   "cell_type": "code",
   "execution_count": 14,
   "metadata": {},
   "outputs": [
    {
     "data": {
      "text/html": [
       "<div>\n",
       "<style scoped>\n",
       "    .dataframe tbody tr th:only-of-type {\n",
       "        vertical-align: middle;\n",
       "    }\n",
       "\n",
       "    .dataframe tbody tr th {\n",
       "        vertical-align: top;\n",
       "    }\n",
       "\n",
       "    .dataframe thead th {\n",
       "        text-align: right;\n",
       "    }\n",
       "</style>\n",
       "<table border=\"1\" class=\"dataframe\">\n",
       "  <thead>\n",
       "    <tr style=\"text-align: right;\">\n",
       "      <th></th>\n",
       "      <th>company</th>\n",
       "      <th>country</th>\n",
       "      <th>sector_gics</th>\n",
       "    </tr>\n",
       "  </thead>\n",
       "  <tbody>\n",
       "    <tr>\n",
       "      <th>1155</th>\n",
       "      <td>Amazon.com, Inc.</td>\n",
       "      <td>United States</td>\n",
       "      <td>Information technology</td>\n",
       "    </tr>\n",
       "    <tr>\n",
       "      <th>1156</th>\n",
       "      <td>Amazon.com, Inc.</td>\n",
       "      <td>United States</td>\n",
       "      <td>Industrials</td>\n",
       "    </tr>\n",
       "    <tr>\n",
       "      <th>1157</th>\n",
       "      <td>Amazon.com, Inc.</td>\n",
       "      <td>United States</td>\n",
       "      <td>Consumer discretionary</td>\n",
       "    </tr>\n",
       "  </tbody>\n",
       "</table>\n",
       "</div>"
      ],
      "text/plain": [
       "               company        country             sector_gics\n",
       "1155  Amazon.com, Inc.  United States  Information technology\n",
       "1156  Amazon.com, Inc.  United States             Industrials\n",
       "1157  Amazon.com, Inc.  United States  Consumer discretionary"
      ]
     },
     "execution_count": 14,
     "metadata": {},
     "output_type": "execute_result"
    }
   ],
   "source": [
    "df_company_by_gics[df_company_by_gics['company'] == 'Amazon.com, Inc.']"
   ]
  },
  {
   "cell_type": "code",
   "execution_count": 15,
   "metadata": {},
   "outputs": [
    {
     "data": {
      "text/html": [
       "<div>\n",
       "<style scoped>\n",
       "    .dataframe tbody tr th:only-of-type {\n",
       "        vertical-align: middle;\n",
       "    }\n",
       "\n",
       "    .dataframe tbody tr th {\n",
       "        vertical-align: top;\n",
       "    }\n",
       "\n",
       "    .dataframe thead th {\n",
       "        text-align: right;\n",
       "    }\n",
       "</style>\n",
       "<table border=\"1\" class=\"dataframe\">\n",
       "  <thead>\n",
       "    <tr style=\"text-align: right;\">\n",
       "      <th></th>\n",
       "      <th>company</th>\n",
       "      <th>country</th>\n",
       "      <th>sector_icb</th>\n",
       "    </tr>\n",
       "  </thead>\n",
       "  <tbody>\n",
       "    <tr>\n",
       "      <th>633</th>\n",
       "      <td>Petróleo Brasileiro S.A. - Petrobras</td>\n",
       "      <td>Brazil</td>\n",
       "      <td>Basic materials</td>\n",
       "    </tr>\n",
       "    <tr>\n",
       "      <th>1110</th>\n",
       "      <td>Petróleo Brasileiro S.A. - Petrobras</td>\n",
       "      <td>Brazil</td>\n",
       "      <td>Utilities</td>\n",
       "    </tr>\n",
       "    <tr>\n",
       "      <th>1963</th>\n",
       "      <td>Petróleo Brasileiro S.A. - Petrobras</td>\n",
       "      <td>Brazil</td>\n",
       "      <td>NaN</td>\n",
       "    </tr>\n",
       "  </tbody>\n",
       "</table>\n",
       "</div>"
      ],
      "text/plain": [
       "                                   company country       sector_icb\n",
       "633   Petróleo Brasileiro S.A. - Petrobras  Brazil  Basic materials\n",
       "1110  Petróleo Brasileiro S.A. - Petrobras  Brazil        Utilities\n",
       "1963  Petróleo Brasileiro S.A. - Petrobras  Brazil              NaN"
      ]
     },
     "execution_count": 15,
     "metadata": {},
     "output_type": "execute_result"
    }
   ],
   "source": [
    "df_company_by_icb[df_company_by_icb['company'] == 'Petróleo Brasileiro S.A. - Petrobras']"
   ]
  },
  {
   "cell_type": "markdown",
   "metadata": {},
   "source": [
    "The reason of a company is included in different sectors is due to the way of download from yahoo finance on different countries. This means that the company is bigger because we can set it in different sectors."
   ]
  },
  {
   "cell_type": "code",
   "execution_count": 16,
   "metadata": {},
   "outputs": [],
   "source": [
    "df_company_by_gics = df_company_by_gics.groupby(['country', 'sector_gics'], as_index=False)['company'].count()\n",
    "df_company_by_gics = df_company_by_gics.sort_values(by=['company'], ascending=[False])\n",
    "\n",
    "df_company_by_icb = df_company_by_icb.groupby(['country', 'sector_icb'], as_index=False)['company'].count()\n",
    "df_company_by_icb = df_company_by_icb.sort_values(by=['company'], ascending=[False])"
   ]
  },
  {
   "cell_type": "code",
   "execution_count": 17,
   "metadata": {},
   "outputs": [
    {
     "data": {
      "text/html": [
       "<iframe id=\"igraph\" scrolling=\"no\" style=\"border:none;\" seamless=\"seamless\" src=\"https://plot.ly/~esan_94/8.embed\" height=\"525px\" width=\"100%\"></iframe>"
      ],
      "text/plain": [
       "<plotly.tools.PlotlyDisplay object>"
      ]
     },
     "execution_count": 17,
     "metadata": {},
     "output_type": "execute_result"
    }
   ],
   "source": [
    "trace = []\n",
    "for sector in df_company_by_gics['sector_gics'].unique():\n",
    "    trace.append({\n",
    "        'x': df_company_by_gics[df_company_by_gics['sector_gics'] == sector]['country'].tolist(),\n",
    "        'y': df_company_by_gics[df_company_by_gics['sector_gics'] == sector]['company'].tolist(),\n",
    "        'name': sector,\n",
    "        'type': 'bar'\n",
    "    })\n",
    "layout = {\n",
    "  'yaxis': {'title': 'Companies', \n",
    "            'type': 'log', \n",
    "            'autorange': True},\n",
    "  'barmode': 'relative',\n",
    "  'title': 'Sectors GICS by country'\n",
    "}\n",
    "py.iplot({'data': trace, 'layout': layout}, filename='sectors-by-country-gics')"
   ]
  },
  {
   "cell_type": "code",
   "execution_count": 18,
   "metadata": {},
   "outputs": [
    {
     "data": {
      "text/html": [
       "<iframe id=\"igraph\" scrolling=\"no\" style=\"border:none;\" seamless=\"seamless\" src=\"https://plot.ly/~esan_94/10.embed\" height=\"525px\" width=\"100%\"></iframe>"
      ],
      "text/plain": [
       "<plotly.tools.PlotlyDisplay object>"
      ]
     },
     "execution_count": 18,
     "metadata": {},
     "output_type": "execute_result"
    }
   ],
   "source": [
    "trace = []\n",
    "for sector in df_company_by_icb['sector_icb'].unique():\n",
    "    trace.append({\n",
    "        'x': df_company_by_icb[df_company_by_icb['sector_icb'] == sector]['country'].tolist(),\n",
    "        'y': df_company_by_icb[df_company_by_icb['sector_icb'] == sector]['company'].tolist(),\n",
    "        'name': sector,\n",
    "        'type': 'bar'\n",
    "    })\n",
    "layout = {\n",
    "  'yaxis': {'title': 'Companies', \n",
    "            'type': 'log', \n",
    "            'autorange': True},\n",
    "  'barmode': 'relative',\n",
    "  'title': 'Sectors ICB by country'\n",
    "}\n",
    "py.iplot({'data': trace, 'layout': layout}, filename='sectors-by-country-icb')"
   ]
  },
  {
   "cell_type": "markdown",
   "metadata": {},
   "source": [
    "In both graphics we can see that *Information technology* for **GICS** and *Technology* for **ICB** are the sectors with more companies in most of countries. <span style=\"color:red\">**CAUTION**:</span> Be aware to understand the logaritmic scale in y-axis. However *Technology* in *Sectors ICB by country* for United States, for example, looks like the highest such difference is not \"real\" because of the logaritmic scale, the diference is over the y-axis."
   ]
  },
  {
   "cell_type": "markdown",
   "metadata": {},
   "source": [
    " "
   ]
  },
  {
   "cell_type": "markdown",
   "metadata": {},
   "source": [
    "##### In order to show the real differences between sectors, let's plot it in a map. First of all it is needed to do a previous process."
   ]
  },
  {
   "cell_type": "code",
   "execution_count": null,
   "metadata": {},
   "outputs": [],
   "source": [
    "path_country_capital = 'https://en.wikipedia.org/wiki/List_of_national_capitals'\n",
    "df_country_cap = pd.read_html(path_country_capital, header=0)[1][['City', 'Country']]\n",
    "df_country_cap = df_country_cap.rename(columns={'Country': 'country', 'City': 'city'})\n",
    "\n",
    "df_country = db_bsm['country'].drop_duplicates().to_frame()"
   ]
  },
  {
   "cell_type": "code",
   "execution_count": null,
   "metadata": {},
   "outputs": [],
   "source": [
    "df_country_cap = pd.merge(left=df_country, right=df_country_cap, how='left', on='country')"
   ]
  },
  {
   "cell_type": "code",
   "execution_count": null,
   "metadata": {},
   "outputs": [],
   "source": [
    "df_country_cap.loc[df_country_cap['country'] == 'Africa', 'city'] = 'South Africa'\n",
    "df_country_cap.loc[df_country_cap['country'] == 'Netherland', 'city'] = 'Amsterdam'\n",
    "df_country_cap.loc[df_country_cap['country'] == 'Kingdom', 'city'] = 'London'\n",
    "df_country_cap.loc[df_country_cap['country'] == 'Hong Kong', 'city'] = 'Victoria City'\n",
    "df_country_cap.loc[df_country_cap['country'] == 'Israel', 'city'] = 'Jerusalem'\n",
    "df_country_cap.loc[df_country_cap['country'] == 'Korea', 'city'] = 'Seoul'\n",
    "df_country_cap.loc[df_country_cap['country'] == 'Chile', 'city'] = 'Santiago de Chile'\n",
    "\n",
    "df_country_cap = df_country_cap.dropna()"
   ]
  },
  {
   "cell_type": "code",
   "execution_count": null,
   "metadata": {},
   "outputs": [],
   "source": [
    "def get_lat_long(df_, col_city):\n",
    "    \"\"\"\n",
    "    This function yields the longitude and latitude given a list of cities.\n",
    "    \n",
    "    :param pd.DataFrame df_: Dataframe with information about cities.\n",
    "    :param str col_city: Name of the column that has data about cities.\n",
    "    \"\"\"\n",
    "    \n",
    "    df_['lat'] = np.nan\n",
    "    df_['lon'] = np.nan\n",
    "    geolocator = Nominatim(user_agent='user-agent-app')\n",
    "    for city in df_[col_city].unique():\n",
    "        df_.loc[df_[col_city] == city, 'lat'] = geolocator.geocode(city, timeout=geopy.geocoders.base.DEFAULT_SENTINEL).latitude\n",
    "        df_.loc[df_[col_city] == city, 'lon'] = geolocator.geocode(city, timeout=geopy.geocoders.base.DEFAULT_SENTINEL).longitude\n",
    "    return df_\n",
    "\n",
    "df_country_cap = get_lat_long(df_country_cap, 'city')\n",
    "df_country_cap.sample(5)"
   ]
  },
  {
   "cell_type": "code",
   "execution_count": null,
   "metadata": {},
   "outputs": [],
   "source": [
    "df_sector_capital_gics = pd.merge(left=df_company_by_gics, right=df_country_cap, how='left', on=['country'])\n",
    "df_sector_capital_icb = pd.merge(left=df_company_by_icb, right=df_country_cap, how='left', on=['country'])"
   ]
  },
  {
   "cell_type": "markdown",
   "metadata": {},
   "source": [
    "And finally let's create the maps."
   ]
  },
  {
   "cell_type": "markdown",
   "metadata": {},
   "source": [
    "**GICS**"
   ]
  },
  {
   "cell_type": "code",
   "execution_count": null,
   "metadata": {},
   "outputs": [],
   "source": [
    "map_ = folium.Map([40, 0], zoom_start=2)\n",
    "for country in df_sector_capital_gics['country'].unique():\n",
    "    df_axu = df_sector_capital_gics[df_sector_capital_gics['country'] == country][['sector_gics', 'company']].set_index(['sector_gics'])\n",
    "    bar = vincent.Bar(df_axu)\n",
    "    bar.axis_titles(y='Companies', x='')\n",
    "    bar.x_axis_properties(title_offset=200)\n",
    "    ax = AxisProperties(\n",
    "         labels = PropertySet(angle=ValueRef(value=90), dx=ValueRef(value=55)))\n",
    "    bar.axes[0].properties = ax\n",
    "    bar_dict = bar.grammar()\n",
    "    bar_dict['width'] = 200\n",
    "    bar_dict['height'] = 150\n",
    "    popup = folium.Popup(max_width=650)\n",
    "    folium.Vega(bar_dict, height=280, width=250).add_to(popup)\n",
    "    bubble = folium.Circle(\n",
    "        location=[df_sector_capital_gics[df_sector_capital_gics['country'] == country]['lat'].unique()[0],\n",
    "                  df_sector_capital_gics[df_sector_capital_gics['country'] == country]['lon'].unique()[0]],\n",
    "        tooltip=country,\n",
    "        popup=popup,\n",
    "        radius=int(df_sector_capital_gics.groupby('country')['company'].sum().loc[country]) * 2500,\n",
    "        color='#458122',\n",
    "        fill=True,\n",
    "        fill_color='#8de05e'\n",
    "    )\n",
    "    bubble.add_to(map_)\n",
    "map_"
   ]
  },
  {
   "cell_type": "markdown",
   "metadata": {},
   "source": [
    "**ICB**"
   ]
  },
  {
   "cell_type": "code",
   "execution_count": null,
   "metadata": {},
   "outputs": [],
   "source": [
    "map_ = folium.Map([40, 0], zoom_start=2)\n",
    "for country in df_sector_capital_icb['country'].unique():\n",
    "    df_axu = df_sector_capital_icb[df_sector_capital_icb['country'] == country][['sector_icb', 'company']].set_index(['sector_icb'])\n",
    "    bar = vincent.Bar(df_axu)\n",
    "    bar.axis_titles(y='Companies', x='')\n",
    "    bar.x_axis_properties(title_offset=200)\n",
    "    ax = AxisProperties(\n",
    "         labels = PropertySet(angle=ValueRef(value=90), dx=ValueRef(value=55)))\n",
    "    bar.axes[0].properties = ax\n",
    "    bar_dict = bar.grammar()\n",
    "    bar_dict['width'] = 200\n",
    "    bar_dict['height'] = 150\n",
    "    popup = folium.Popup(max_width=650)\n",
    "    folium.Vega(bar_dict, height=280, width=250).add_to(popup)\n",
    "    bubble = folium.Circle(\n",
    "        location=[df_sector_capital_icb[df_sector_capital_icb['country'] == country]['lat'].unique()[0],\n",
    "                  df_sector_capital_icb[df_sector_capital_icb['country'] == country]['lon'].unique()[0]],\n",
    "        tooltip=country,\n",
    "        popup=popup,\n",
    "        radius=int(df_sector_capital_icb.groupby('country')['company'].sum().loc[country]) * 2500,\n",
    "        color='#102b56',\n",
    "        fill=True,\n",
    "        fill_color='#6499ef'\n",
    "    )\n",
    "    bubble.add_to(map_)\n",
    "map_"
   ]
  }
 ],
 "metadata": {
  "kernelspec": {
   "display_name": "Python 3",
   "language": "python",
   "name": "python3"
  },
  "language_info": {
   "codemirror_mode": {
    "name": "ipython",
    "version": 3
   },
   "file_extension": ".py",
   "mimetype": "text/x-python",
   "name": "python",
   "nbconvert_exporter": "python",
   "pygments_lexer": "ipython3",
   "version": "3.7.1"
  }
 },
 "nbformat": 4,
 "nbformat_minor": 2
}
