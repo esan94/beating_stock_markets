{
 "cells": [
  {
   "cell_type": "markdown",
   "metadata": {},
   "source": [
    "# Financial Model Prediction"
   ]
  },
  {
   "cell_type": "code",
   "execution_count": 58,
   "metadata": {},
   "outputs": [],
   "source": [
    "import pandas as pd\n",
    "import numpy as np\n",
    "import seaborn as sbn\n",
    "import re\n",
    "\n",
    "import warnings\n",
    "warnings.filterwarnings('ignore')\n",
    "\n",
    "import matplotlib.pyplot as plt\n",
    "\n",
    "from sklearn.model_selection import train_test_split, GridSearchCV, cross_val_score\n",
    "from sklearn.linear_model import LogisticRegression\n",
    "from sklearn.neighbors import KNeighborsClassifier\n",
    "from sklearn.tree import DecisionTreeClassifier\n",
    "from sklearn.ensemble import RandomForestClassifier, VotingClassifier, BaggingClassifier, AdaBoostClassifier\n",
    "from sklearn.preprocessing import RobustScaler\n",
    "from sklearn.metrics import precision_score, recall_score\n",
    "from sklearn.decomposition import PCA\n",
    "\n",
    "import lightgbm as lgb\n",
    "\n",
    "%matplotlib inline"
   ]
  },
  {
   "cell_type": "code",
   "execution_count": 4,
   "metadata": {},
   "outputs": [],
   "source": [
    "def add_shifts(df_, col_to_shift, new_col, shift):\n",
    "    \"\"\"\n",
    "    This function add shifted columns to data by ticker.\n",
    "    \n",
    "    :param pd.DataFrame df_: Dataframe with financial data.\n",
    "    :param str col_to_shift: Column over to create the shift.\n",
    "    :param str new_col: Name of the shifted column.\n",
    "    :param int shift: Days to use as shift.\n",
    "    :return pd.DataFrame: Dataframe with the shift added.\n",
    "    \"\"\"\n",
    "    \n",
    "    for id_ in df_['ticker'].unique():\n",
    "        df_by_id = df_[df_['ticker'] == id_]\n",
    "        df_.loc[df_['ticker'] == id_, new_col] = df_by_id[col_to_shift] - df_by_id[col_to_shift].shift(shift)\n",
    "        \n",
    "    return df_"
   ]
  },
  {
   "cell_type": "code",
   "execution_count": 5,
   "metadata": {},
   "outputs": [],
   "source": [
    "def get_non_n_cols(df_, n):\n",
    "    \"\"\"\n",
    "    Get the columns that his window is not n days\n",
    "    \n",
    "    :param pd.DataFrame df_: Dataframe with financial data.\n",
    "    :param int n: n days to get columns with.\n",
    "    :return list: List with the name of the columns.\n",
    "    \"\"\"\n",
    "    \n",
    "    return [elem for elem in df_.columns if (re.search(r'\\d+$', elem) is not None) and (int(elem[-2:].strip().strip('_')) < n)]"
   ]
  },
  {
   "cell_type": "code",
   "execution_count": 6,
   "metadata": {},
   "outputs": [],
   "source": [
    "def get_unwanted_cols(df_):\n",
    "    \n",
    "    return [elem for elem in df_.columns if elem.startswith('close_shifted') or elem.startswith('cat_close_shifted')]"
   ]
  },
  {
   "cell_type": "code",
   "execution_count": 7,
   "metadata": {},
   "outputs": [],
   "source": [
    "def interpolate_nan_values(df_, to_interpolate):\n",
    "    \"\"\"\n",
    "    Interpolate and extrapolate nan values for numerical columns.\n",
    "    \n",
    "    :param pd.DataFrame df_: Dataframe with financial data with NaN values.\n",
    "    :param list to_interpolate: List with columns to interpolate.\n",
    "    :return pd.DataFrame: Dataframe with financial data without NaN values.\n",
    "    \"\"\"\n",
    "    \n",
    "    list_df = []\n",
    "    for tick in df_['ticker'].unique():\n",
    "        df_by_ticker = df_[df_['ticker'] == tick]\n",
    "        for col in to_interpolate:\n",
    "            df_by_ticker[col] = df_by_ticker[col].interpolate(method='linear', limit_direction='both')\n",
    "        list_df.append(df_by_ticker)\n",
    "    return pd.concat(list_df)"
   ]
  },
  {
   "cell_type": "code",
   "execution_count": 8,
   "metadata": {},
   "outputs": [],
   "source": [
    "def categorize_each_difference(num_list, df_):\n",
    "    \"\"\"\n",
    "    This function categorize the shifted columns in Weak Bull o Bear (W. Bull, W. Bear), \n",
    "    Bull or Bear and Strong Bull or Bear (S. Bull, S. Bear) depending on the value of the shifted column and\n",
    "    his statistics (median, p25, p75) by ticker, year, month and sign.\n",
    "    \n",
    "    :param list num_list: List with days to categorize.\n",
    "    :param pd.DataFrame df_: Dataframe to categorize.\n",
    "    :return pd.DataFrame: Dataframe recalculated.\n",
    "    \"\"\"\n",
    "    cols_to_keep = list(df_.columns)\n",
    "    df_['year'], df_['month'] = df_['date'].dt.year, df_['date'].dt.month\n",
    "    for num_ in num_list:\n",
    "        df_.loc[df_['close_shifted_%i' % num_] >= 0, 'sign_%i' % num_] = 'Bull'\n",
    "        df_.loc[df_['close_shifted_%i' % num_] < 0, 'sign_%i' % num_] = 'Bear'\n",
    "        group = df_.groupby(['ticker', 'year', 'month', 'sign_%i' % num_])['close_shifted_%i' % num_].describe()\n",
    "        group = group[['25%', '50%', '75%', 'std']].reset_index()\n",
    "        group.rename({'std': 'std_%i' % num_}, axis='columns', inplace=True)\n",
    "        df_ = pd.merge(left=df_, right=group, on=['ticker', 'year', 'month', 'sign_%i' % num_], how='inner')\n",
    "        \n",
    "        df_.loc[(df_['sign_%i' % num_] == 'Bull') & \n",
    "                (df_['close_shifted_%i' % num_] <= df_['50%']), 'cat_close_shifted_%i' % num_] = 'W. ' + df_['sign_%i' % num_]\n",
    "        df_.loc[(df_['sign_%i' % num_] == 'Bull') & \n",
    "                   (df_['close_shifted_%i' % num_] > df_['50%']) &\n",
    "                   (df_['close_shifted_%i' % num_] < df_['75%']), 'cat_close_shifted_%i' % num_] = df_['sign_%i' % num_]\n",
    "        df_.loc[(df_['sign_%i' % num_] == 'Bull') &\n",
    "                   (df_['close_shifted_%i' % num_] >= df_['75%']), 'cat_close_shifted_%i' % num_] = 'S. ' + df_['sign_%i' % num_]\n",
    "        df_.loc[(df_['sign_%i' % num_] == 'Bear') & \n",
    "                (df_['close_shifted_%i' % num_] >= df_['50%']), 'cat_close_shifted_%i' % num_] = 'W. ' + df_['sign_%i' % num_]\n",
    "        df_.loc[(df_['sign_%i' % num_] == 'Bear') & \n",
    "                   (df_['close_shifted_%i' % num_] < df_['50%']) &\n",
    "                   (df_['close_shifted_%i' % num_] > df_['25%']), 'cat_close_shifted_%i' % num_] = df_['sign_%i' % num_]\n",
    "        df_.loc[(df_['sign_%i' % num_] == 'Bear') & \n",
    "                   (df_['close_shifted_%i' % num_] <= df_['25%']), 'cat_close_shifted_%i' % num_] = 'S. ' + df_['sign_%i' % num_]\n",
    "        \n",
    "        df_.drop(['25%', '50%', '75%', 'std_%i' % num_], axis='columns', inplace=True)\n",
    "        cols_to_keep.extend(['cat_close_shifted_%i' % num_])\n",
    "    return df_[cols_to_keep]"
   ]
  },
  {
   "cell_type": "code",
   "execution_count": 25,
   "metadata": {},
   "outputs": [],
   "source": [
    "def get_correlated_columns(X_train, features_col):\n",
    "\n",
    "    df_ = pd.DataFrame(data=X_train, columns=features_col)\n",
    "    df_ = df_.corr()\n",
    "    df_ = df_.drop('close', axis=1)\n",
    "    df_ = df_.drop('close', axis=0)\n",
    "    dict_ = {}\n",
    "    df__ = df_[df_.abs() >=.9]\n",
    "    df__ = df__[df__ < 1].dropna(axis=1, how='all').dropna(axis=0, how='all')\n",
    "    list_ = list(df__.columns)\n",
    "    for col in list_:\n",
    "        dict_[col] = list(df__[df__[col].notnull()].index)\n",
    "        for elem in dict_[col]:\n",
    "            if elem in list_:\n",
    "                list_.remove(elem)\n",
    "    return dict_"
   ]
  },
  {
   "cell_type": "code",
   "execution_count": 57,
   "metadata": {},
   "outputs": [],
   "source": [
    "def split_df_train_test_by_date(df_, year_, mode_debug=True):\n",
    "    \"\"\"\n",
    "    This function separe the df_ in test and train by year and month\n",
    "    \n",
    "    :param pd.DataFrame df_: Dataframe to split.\n",
    "    :param int year_: Year to use as split.\n",
    "    :param bool mode_debug: Choose if return a df_train shorter.\n",
    "    :return tuple: Tuple which contains both df's (train, test).\n",
    "    \"\"\"\n",
    "    \n",
    "    df_train = df_[(df_['date'].dt.year < year_)]\n",
    "    if mode_debug:\n",
    "        df_train = df_train[df_train['date'].dt.year >= year_ - 2]\n",
    "    df_test = df_[(df_['date'].dt.year >= year_)]\n",
    "    return df_train, df_test"
   ]
  },
  {
   "cell_type": "code",
   "execution_count": null,
   "metadata": {},
   "outputs": [],
   "source": [
    "def basic_models(X_train, y_train, X_test, y_test, day_, sector):\n",
    "    scorings = ['recall_macro', 'recall_weighted', 'recall_micro', \n",
    "                'precision_macro', 'precision_micro', 'precisison_weighted']\n",
    "    dict_log_reg = {}\n",
    "    dict_knn = {}\n",
    "    dict_dec_tree = {}\n",
    "    dict_total = {}\n",
    "\n",
    "    for scoring in scorings:\n",
    "        log_reg = GridSearchCV(LogisticRegression(),\n",
    "                               param_grid={'C': [1.2, 1, 0.8],\n",
    "                                           'tol': [1e-3, 1e-4, 1e-5],\n",
    "                                           'multi_class': ['ovr', 'multinomial']}, \n",
    "                               scoring=scoring, cv=5)\n",
    "        print('Time to train log_reg for %d days, %s sector and %s' % (day_, sector, scoring))\n",
    "        %time log_reg.fit(X_train, y_train)\n",
    "        best_params = log_reg.best_params_\n",
    "        log_reg = LogisticRegression(**log_reg.best_params_)\n",
    "        val_score_log_reg = cross_val_score(log_reg, X_train, y_train, cv=5, scoring=scoring).mean()\n",
    "        report = classification_report(y_test, log_reg.predict(X_test), digits=4, output_dict=True)\n",
    "        dict_log_reg['log_reg'] = [log_reg, val_score_log_reg, report, best_params]\n",
    "        \n",
    "        knn = GridSearchCV(KNeighborsClassifier(),\n",
    "                           param_grid={'n_neighbors': range(3, 9),\n",
    "                                          'weights' : ['uniform', 'distance']}, \n",
    "                           scoring=scoring, cv=5)\n",
    "        print('Time to train knn for %d days, %s sector and %s' % (day_, sector, scoring))\n",
    "        %time knn.fit(X_train, y_train)\n",
    "        best_params = knn.best_params_\n",
    "        knn = KNeighborsClassifier(**knn.best_params_)\n",
    "        val_score_knn = cross_val_score(knn, X_train, y_train, cv=5, scoring=scoring).mean()\n",
    "        report = classification_report(y_test, knn.predict(X_test), digits=4, output_dict=True)\n",
    "        dict_knn['knn'] = [knn, val_score_knn, report, best_params]\n",
    "        \n",
    "        dec_tree = GridSearchCV(DecisionTreeClassifier(),\n",
    "                                param_grid={'criterion': ['gini', 'entropy'],\n",
    "                                           'max_depth': range(10, 17),\n",
    "                                           'min_samples_split': [2, 4, 6],\n",
    "                                           'min_samples_leaf': [1, 2, 3]}, \n",
    "                                scoring=scoring, cv=5)\n",
    "        print('Time to train dec_tree for %d days, %s sector and %s' % (day_, sector, scoring))\n",
    "        %time dec_tree.fit(X_train, y_train)\n",
    "        best_params = dec_tree.best_params_\n",
    "        dec_tree = DecisionTreeClassifier(**dec_tree.best_params_)\n",
    "        val_score_dec_tree = cross_val_score(dec_tree, X_train, y_train, cv=5, scoring=scoring).mean()\n",
    "        report = classification_report(y_test, dec_tree.predict(X_test), digits=4, output_dict=True)\n",
    "        dict_dec_tree['dec_tree'] = [dec_tree, val_score_dec_tree, report, best_params]\n",
    "        \n",
    "        if dict_log_reg['log_reg'][1] >= dict_knn['knn'][1]:\n",
    "            if dict_log_reg['log_reg'][1] >= dict_dec_tree['dec_tree'][1]:\n",
    "                if dict_total['total'][1] < dict_log_reg['log_reg'][1]:\n",
    "                    dict_total['total'] = dict_log_reg['log_reg']\n",
    "            else:\n",
    "                if dict_total['total'][1] < dict_dec_tree['log_reg'][1]:\n",
    "                    dict_total['total'] = dict_dec_tree['log_reg']\n",
    "        else:\n",
    "            if dict_knn['knn'][1] >= dict_dec_tree['dec_tree'][1]:\n",
    "                if dict_total['total'][1] < dict_knn['log_reg'][1]:\n",
    "                    dict_total['total'] = dict_knn['knn']\n",
    "            else:\n",
    "                if dict_total['total'][1] < dict_dec_tree['log_reg'][1]:\n",
    "                    dict_total['total'] = dict_dec_tree['dec_tree']\n",
    "            \n",
    "                    \n",
    "        \n",
    "        \n",
    "        \n",
    "        \n",
    "        \n"
   ]
  },
  {
   "cell_type": "code",
   "execution_count": null,
   "metadata": {},
   "outputs": [],
   "source": [
    "def make_magic(df_, days_, mode_debug=True):\n",
    "    df_train, df_test = split_df_train_test_by_date(df_, 2019, mode_debug)\n",
    "    for sector in df_['sector_gics'].unique():\n",
    "        df_train_sct = df_train[df_train['sector_gics'] == sector]\n",
    "        df_test_sct = df_test[df_test['sector_gics'] == sector]\n",
    "        for day_ in days_:\n",
    "            list_to_drop = get_non_n_cols(df_final_train_inf_tech, int(day_))\n",
    "            df_train_sct_non_n = df_train_sct.drop(df_train_sct, axis='columns')\n",
    "            df_test_sct_non_n = df_test_sct.drop(df_test_sct, axis='columns')\n",
    "            \n",
    "            target_train = df_train_sct_non_n['cat_close_shifted_%d' % day_]\n",
    "            feat_train = df_train_sct_non_n[df_train_sct_non_n.select_dtypes(float).columns]\n",
    "            \n",
    "            target_test = df_test_sct_non_n['cat_close_shifted_%d' % day_]\n",
    "            feat_test = df_test_sct_non_n[df_test_sct_non_n.select_dtypes(float).columns]\n",
    "            \n",
    "            list_to_drop_2 = get_unwanted_cols(feat_train)\n",
    "\n",
    "            feat_train = feat_train.drop(list_to_drop_2, axis='columns')\n",
    "            feat_test = feat_test.drop(list_to_drop_2, axis='columns')\n",
    "            \n",
    "\n",
    "\n",
    "    "
   ]
  },
  {
   "cell_type": "code",
   "execution_count": 9,
   "metadata": {},
   "outputs": [],
   "source": [
    "df_categorical = pd.read_csv('../data/db_bsm_categorical.csv')\n",
    "df_financial = pd.read_csv('../data/db_bsm_financial.csv')"
   ]
  },
  {
   "cell_type": "code",
   "execution_count": 10,
   "metadata": {},
   "outputs": [
    {
     "data": {
      "text/html": [
       "<div>\n",
       "<style scoped>\n",
       "    .dataframe tbody tr th:only-of-type {\n",
       "        vertical-align: middle;\n",
       "    }\n",
       "\n",
       "    .dataframe tbody tr th {\n",
       "        vertical-align: top;\n",
       "    }\n",
       "\n",
       "    .dataframe thead th {\n",
       "        text-align: right;\n",
       "    }\n",
       "</style>\n",
       "<table border=\"1\" class=\"dataframe\">\n",
       "  <thead>\n",
       "    <tr style=\"text-align: right;\">\n",
       "      <th></th>\n",
       "      <th>Null Values</th>\n",
       "    </tr>\n",
       "  </thead>\n",
       "  <tbody>\n",
       "    <tr>\n",
       "      <th>close</th>\n",
       "      <td>1081</td>\n",
       "    </tr>\n",
       "    <tr>\n",
       "      <th>volume</th>\n",
       "      <td>1996</td>\n",
       "    </tr>\n",
       "  </tbody>\n",
       "</table>\n",
       "</div>"
      ],
      "text/plain": [
       "        Null Values\n",
       "close          1081\n",
       "volume         1996"
      ]
     },
     "execution_count": 10,
     "metadata": {},
     "output_type": "execute_result"
    }
   ],
   "source": [
    "df_financial.replace(0, np.NaN, inplace=True)\n",
    "df_financial.isnull().sum().to_frame('Null Values').loc[['close', 'volume']]"
   ]
  },
  {
   "cell_type": "code",
   "execution_count": 11,
   "metadata": {},
   "outputs": [],
   "source": [
    "df_financial_not_nan = interpolate_nan_values(df_financial, ['close', 'volume'])"
   ]
  },
  {
   "cell_type": "code",
   "execution_count": 12,
   "metadata": {},
   "outputs": [
    {
     "data": {
      "text/html": [
       "<div>\n",
       "<style scoped>\n",
       "    .dataframe tbody tr th:only-of-type {\n",
       "        vertical-align: middle;\n",
       "    }\n",
       "\n",
       "    .dataframe tbody tr th {\n",
       "        vertical-align: top;\n",
       "    }\n",
       "\n",
       "    .dataframe thead th {\n",
       "        text-align: right;\n",
       "    }\n",
       "</style>\n",
       "<table border=\"1\" class=\"dataframe\">\n",
       "  <thead>\n",
       "    <tr style=\"text-align: right;\">\n",
       "      <th></th>\n",
       "      <th>Null Values</th>\n",
       "    </tr>\n",
       "  </thead>\n",
       "  <tbody>\n",
       "    <tr>\n",
       "      <th>close</th>\n",
       "      <td>0</td>\n",
       "    </tr>\n",
       "    <tr>\n",
       "      <th>volume</th>\n",
       "      <td>0</td>\n",
       "    </tr>\n",
       "  </tbody>\n",
       "</table>\n",
       "</div>"
      ],
      "text/plain": [
       "        Null Values\n",
       "close             0\n",
       "volume            0"
      ]
     },
     "execution_count": 12,
     "metadata": {},
     "output_type": "execute_result"
    }
   ],
   "source": [
    "df_financial_not_nan.isnull().sum().to_frame('Null Values').loc[['close', 'volume']]"
   ]
  },
  {
   "cell_type": "code",
   "execution_count": 13,
   "metadata": {},
   "outputs": [],
   "source": [
    "num_list = [3, 5, 7, 14, 21]"
   ]
  },
  {
   "cell_type": "code",
   "execution_count": 14,
   "metadata": {},
   "outputs": [],
   "source": [
    "df_financial_not_nan = df_financial_not_nan.sort_values(['ticker', 'date'], ascending=[True, False])"
   ]
  },
  {
   "cell_type": "code",
   "execution_count": 15,
   "metadata": {},
   "outputs": [],
   "source": [
    "for num_ in num_list:\n",
    "    df_fin = add_shifts(df_financial_not_nan, 'close', 'close_shifted_%i' % num_, num_)"
   ]
  },
  {
   "cell_type": "code",
   "execution_count": 16,
   "metadata": {},
   "outputs": [],
   "source": [
    "df_fin.dropna(subset=['close_shifted_21'], inplace=True)"
   ]
  },
  {
   "cell_type": "code",
   "execution_count": 17,
   "metadata": {},
   "outputs": [],
   "source": [
    "df_fin_not_nan = interpolate_nan_values(df_fin, list(df_fin.select_dtypes(float)))"
   ]
  },
  {
   "cell_type": "code",
   "execution_count": 18,
   "metadata": {},
   "outputs": [
    {
     "data": {
      "text/html": [
       "<div>\n",
       "<style scoped>\n",
       "    .dataframe tbody tr th:only-of-type {\n",
       "        vertical-align: middle;\n",
       "    }\n",
       "\n",
       "    .dataframe tbody tr th {\n",
       "        vertical-align: top;\n",
       "    }\n",
       "\n",
       "    .dataframe thead th {\n",
       "        text-align: right;\n",
       "    }\n",
       "</style>\n",
       "<table border=\"1\" class=\"dataframe\">\n",
       "  <thead>\n",
       "    <tr style=\"text-align: right;\">\n",
       "      <th></th>\n",
       "      <th>Null Values</th>\n",
       "    </tr>\n",
       "  </thead>\n",
       "  <tbody>\n",
       "    <tr>\n",
       "      <th>ADX 14</th>\n",
       "      <td>0</td>\n",
       "    </tr>\n",
       "    <tr>\n",
       "      <th>RSI 21</th>\n",
       "      <td>0</td>\n",
       "    </tr>\n",
       "    <tr>\n",
       "      <th>ROCR 14</th>\n",
       "      <td>0</td>\n",
       "    </tr>\n",
       "  </tbody>\n",
       "</table>\n",
       "</div>"
      ],
      "text/plain": [
       "         Null Values\n",
       "ADX 14             0\n",
       "RSI 21             0\n",
       "ROCR 14            0"
      ]
     },
     "execution_count": 18,
     "metadata": {},
     "output_type": "execute_result"
    }
   ],
   "source": [
    "df_fin_not_nan.isnull().sum().to_frame('Null Values').sort_values(by='Null Values', ascending=False).head(3)"
   ]
  },
  {
   "cell_type": "code",
   "execution_count": 19,
   "metadata": {},
   "outputs": [],
   "source": [
    "df_fin_not_nan['date'] = pd.to_datetime(df_fin_not_nan['date'])"
   ]
  },
  {
   "cell_type": "code",
   "execution_count": 48,
   "metadata": {},
   "outputs": [
    {
     "name": "stdout",
     "output_type": "stream",
     "text": [
      "Wall time: 3min 59s\n"
     ]
    }
   ],
   "source": [
    "%time df_final = categorize_each_difference(num_list, df_fin_not_nan)"
   ]
  },
  {
   "cell_type": "code",
   "execution_count": 49,
   "metadata": {},
   "outputs": [],
   "source": [
    "df_categorical = df_categorical.dropna()\n",
    "df_categorical = df_categorical.drop_duplicates(subset=['ticker'], keep='first')"
   ]
  },
  {
   "cell_type": "code",
   "execution_count": 50,
   "metadata": {},
   "outputs": [],
   "source": [
    "df_final = pd.merge(left=df_final, right=df_categorical, how='inner', on='ticker')"
   ]
  },
  {
   "cell_type": "code",
   "execution_count": 51,
   "metadata": {},
   "outputs": [
    {
     "data": {
      "text/plain": [
       "array(['Consumer discretionary', 'Industrials', 'Financials',\n",
       "       'Consumer staples', 'Energy', 'Information technology',\n",
       "       'Healthcare', 'Communication services', 'Utilities'], dtype=object)"
      ]
     },
     "execution_count": 51,
     "metadata": {},
     "output_type": "execute_result"
    }
   ],
   "source": [
    "df_final['sector_gics'].unique()"
   ]
  },
  {
   "cell_type": "code",
   "execution_count": 52,
   "metadata": {},
   "outputs": [],
   "source": [
    "df_final = df_final.dropna()"
   ]
  },
  {
   "cell_type": "code",
   "execution_count": 53,
   "metadata": {},
   "outputs": [],
   "source": [
    "df_train, df_test = split_df_train_test_by_date(df_final, 2019)"
   ]
  },
  {
   "cell_type": "code",
   "execution_count": 54,
   "metadata": {},
   "outputs": [
    {
     "data": {
      "text/plain": [
       "297064"
      ]
     },
     "execution_count": 54,
     "metadata": {},
     "output_type": "execute_result"
    }
   ],
   "source": [
    "df_train.shape[0] + df_test.shape[0]"
   ]
  },
  {
   "cell_type": "code",
   "execution_count": 55,
   "metadata": {},
   "outputs": [
    {
     "data": {
      "text/plain": [
       "(294687, 166)"
      ]
     },
     "execution_count": 55,
     "metadata": {},
     "output_type": "execute_result"
    }
   ],
   "source": [
    "df_final.shape"
   ]
  },
  {
   "cell_type": "code",
   "execution_count": 126,
   "metadata": {},
   "outputs": [
    {
     "name": "stdout",
     "output_type": "stream",
     "text": [
      "(292310, 166)\n",
      "(2377, 166)\n"
     ]
    }
   ],
   "source": [
    "df_final_train = df_final[df_final['date'].dt.year < 2019]\n",
    "print(df_final_train.shape)\n",
    "df_final_test = df_final[df_final['date'].dt.year >= 2019]\n",
    "print(df_final_test.shape)"
   ]
  },
  {
   "cell_type": "code",
   "execution_count": 77,
   "metadata": {},
   "outputs": [],
   "source": [
    "df_final_train = df_final_train[df_final_train['date'].dt.year >= 2017]"
   ]
  },
  {
   "cell_type": "markdown",
   "metadata": {},
   "source": [
    "# Inforation Tech"
   ]
  },
  {
   "cell_type": "code",
   "execution_count": 127,
   "metadata": {},
   "outputs": [
    {
     "name": "stdout",
     "output_type": "stream",
     "text": [
      "(31880, 166)\n",
      "(272, 166)\n"
     ]
    }
   ],
   "source": [
    "df_final_train_inf_tech = df_final_train[df_final_train['sector_gics'] == 'Information technology']\n",
    "df_final_test_inf_tech = df_final_test[df_final_test['sector_gics'] == 'Information technology']"
   ]
  },
  {
   "cell_type": "code",
   "execution_count": 112,
   "metadata": {},
   "outputs": [],
   "source": [
    "list_to_drop = get_non_n_cols(df_final_train_inf_tech, 7)"
   ]
  },
  {
   "cell_type": "code",
   "execution_count": 113,
   "metadata": {},
   "outputs": [],
   "source": [
    "df_final_train_inf_tech.drop(list_to_drop, axis='columns', inplace=True)\n",
    "df_final_test_inf_tech.drop(list_to_drop, axis='columns', inplace=True)"
   ]
  },
  {
   "cell_type": "markdown",
   "metadata": {},
   "source": [
    "# 7 Days prediction"
   ]
  },
  {
   "cell_type": "code",
   "execution_count": 114,
   "metadata": {},
   "outputs": [],
   "source": [
    "target_train = df_final_train_inf_tech['cat_close_shifted_7']\n",
    "features_train = df_final_train_inf_tech[df_final_train_inf_tech.select_dtypes(float).columns]"
   ]
  },
  {
   "cell_type": "code",
   "execution_count": 115,
   "metadata": {},
   "outputs": [],
   "source": [
    "target_test = df_final_test_inf_tech['cat_close_shifted_7']\n",
    "features_test = df_final_test_inf_tech[df_final_test_inf_tech.select_dtypes(float).columns]"
   ]
  },
  {
   "cell_type": "code",
   "execution_count": 116,
   "metadata": {},
   "outputs": [],
   "source": [
    "list_to_drop_2 = get_unwanted_cols(features_train)"
   ]
  },
  {
   "cell_type": "code",
   "execution_count": 117,
   "metadata": {},
   "outputs": [],
   "source": [
    "features_train.drop(list_to_drop_2, axis='columns', inplace=True)"
   ]
  },
  {
   "cell_type": "code",
   "execution_count": 118,
   "metadata": {},
   "outputs": [],
   "source": [
    "features_test.drop(list_to_drop_2, axis='columns', inplace=True)"
   ]
  },
  {
   "cell_type": "code",
   "execution_count": 61,
   "metadata": {},
   "outputs": [
    {
     "ename": "NameError",
     "evalue": "name 'features_train' is not defined",
     "output_type": "error",
     "traceback": [
      "\u001b[1;31m---------------------------------------------------------------------------\u001b[0m",
      "\u001b[1;31mNameError\u001b[0m                                 Traceback (most recent call last)",
      "\u001b[1;32m<timed eval>\u001b[0m in \u001b[0;36m<module>\u001b[1;34m\u001b[0m\n",
      "\u001b[1;31mNameError\u001b[0m: name 'features_train' is not defined"
     ]
    },
    {
     "ename": "AttributeError",
     "evalue": "'GridSearchCV' object has no attribute 'best_params_'",
     "output_type": "error",
     "traceback": [
      "\u001b[1;31m---------------------------------------------------------------------------\u001b[0m",
      "\u001b[1;31mAttributeError\u001b[0m                            Traceback (most recent call last)",
      "\u001b[1;32m<ipython-input-61-24ba79d6ddc4>\u001b[0m in \u001b[0;36m<module>\u001b[1;34m\u001b[0m\n\u001b[0;32m      5\u001b[0m                    cv=3, verbose=4)\n\u001b[0;32m      6\u001b[0m \u001b[0mget_ipython\u001b[0m\u001b[1;33m(\u001b[0m\u001b[1;33m)\u001b[0m\u001b[1;33m.\u001b[0m\u001b[0mrun_line_magic\u001b[0m\u001b[1;33m(\u001b[0m\u001b[1;34m'time'\u001b[0m\u001b[1;33m,\u001b[0m \u001b[1;34m'random_forest.fit(features_train.values, target_train.values)'\u001b[0m\u001b[1;33m)\u001b[0m\u001b[1;33m\u001b[0m\u001b[1;33m\u001b[0m\u001b[0m\n\u001b[1;32m----> 7\u001b[1;33m \u001b[0mprint\u001b[0m\u001b[1;33m(\u001b[0m\u001b[1;34m'Best Params: '\u001b[0m\u001b[1;33m,\u001b[0m \u001b[0mrandom_forest\u001b[0m\u001b[1;33m.\u001b[0m\u001b[0mbest_params_\u001b[0m\u001b[1;33m)\u001b[0m\u001b[1;33m\u001b[0m\u001b[1;33m\u001b[0m\u001b[0m\n\u001b[0m\u001b[0;32m      8\u001b[0m \u001b[0mrandom_forest\u001b[0m \u001b[1;33m=\u001b[0m \u001b[0mRandomForestClassifier\u001b[0m\u001b[1;33m(\u001b[0m\u001b[1;33m**\u001b[0m\u001b[0mrandom_forest\u001b[0m\u001b[1;33m.\u001b[0m\u001b[0mbest_params_\u001b[0m\u001b[1;33m)\u001b[0m\u001b[1;33m\u001b[0m\u001b[1;33m\u001b[0m\u001b[0m\n\u001b[0;32m      9\u001b[0m \u001b[0mrandom_forest\u001b[0m\u001b[1;33m.\u001b[0m\u001b[0mfit\u001b[0m\u001b[1;33m(\u001b[0m\u001b[0mfeatures_train\u001b[0m\u001b[1;33m.\u001b[0m\u001b[0mvalues\u001b[0m\u001b[1;33m,\u001b[0m \u001b[0mtarget_train\u001b[0m\u001b[1;33m.\u001b[0m\u001b[0mvalues\u001b[0m\u001b[1;33m)\u001b[0m\u001b[1;33m\u001b[0m\u001b[1;33m\u001b[0m\u001b[0m\n",
      "\u001b[1;31mAttributeError\u001b[0m: 'GridSearchCV' object has no attribute 'best_params_'"
     ]
    }
   ],
   "source": [
    "random_forest = GridSearchCV(RandomForestClassifier(criterion='gini'),\n",
    "                   param_grid={\n",
    "                              'max_depth': range(10, 15)}, \n",
    "                   scoring='kk', \n",
    "                   cv=3, verbose=4)\n",
    "%time random_forest.fit(features_train.values, target_train.values)\n",
    "print('Best Params: ', random_forest.best_params_)\n",
    "random_forest = RandomForestClassifier(**random_forest.best_params_)\n",
    "random_forest.fit(features_train.values, target_train.values)\n",
    "print(classification_report(target_test.values, random_forest.predict(features_test.values)))"
   ]
  },
  {
   "cell_type": "code",
   "execution_count": 122,
   "metadata": {},
   "outputs": [
    {
     "name": "stdout",
     "output_type": "stream",
     "text": [
      "              precision    recall  f1-score   support\n",
      "\n",
      "        Bear       0.00      0.00      0.00        29\n",
      "        Bull       0.00      0.00      0.00        15\n",
      "     S. Bear       0.46      0.11      0.17        56\n",
      "     S. Bull       0.20      0.11      0.14        27\n",
      "     W. Bear       0.41      0.66      0.51        97\n",
      "     W. Bull       0.17      0.31      0.22        48\n",
      "\n",
      "   micro avg       0.32      0.32      0.32       272\n",
      "   macro avg       0.21      0.20      0.17       272\n",
      "weighted avg       0.29      0.32      0.27       272\n",
      "\n"
     ]
    }
   ],
   "source": [
    "random_forest = RandomForestClassifier(max_depth=13, n_estimators=11, criterion='entropy')\n",
    "random_forest.fit(features_train.values, target_train.values)\n",
    "print(classification_report(target_test.values, random_forest.predict(features_test.values)))"
   ]
  },
  {
   "cell_type": "code",
   "execution_count": null,
   "metadata": {},
   "outputs": [],
   "source": []
  },
  {
   "cell_type": "code",
   "execution_count": 136,
   "metadata": {},
   "outputs": [
    {
     "name": "stdout",
     "output_type": "stream",
     "text": [
      "Fitting 3 folds for each of 7 candidates, totalling 21 fits\n",
      "[CV] n_neighbors=3 ...................................................\n"
     ]
    },
    {
     "name": "stderr",
     "output_type": "stream",
     "text": [
      "[Parallel(n_jobs=1)]: Using backend SequentialBackend with 1 concurrent workers.\n"
     ]
    },
    {
     "name": "stdout",
     "output_type": "stream",
     "text": [
      "[CV] ......... n_neighbors=3, score=0.16195887721603572, total=   0.8s\n",
      "[CV] n_neighbors=3 ...................................................\n"
     ]
    },
    {
     "name": "stderr",
     "output_type": "stream",
     "text": [
      "[Parallel(n_jobs=1)]: Done   1 out of   1 | elapsed:    1.7s remaining:    0.0s\n"
     ]
    },
    {
     "name": "stdout",
     "output_type": "stream",
     "text": [
      "[CV] ......... n_neighbors=3, score=0.16048265200005754, total=   1.0s\n",
      "[CV] n_neighbors=3 ...................................................\n"
     ]
    },
    {
     "name": "stderr",
     "output_type": "stream",
     "text": [
      "[Parallel(n_jobs=1)]: Done   2 out of   2 | elapsed:    3.7s remaining:    0.0s\n"
     ]
    },
    {
     "name": "stdout",
     "output_type": "stream",
     "text": [
      "[CV] ............ n_neighbors=3, score=0.16030873633901, total=   0.8s\n",
      "[CV] n_neighbors=4 ...................................................\n"
     ]
    },
    {
     "name": "stderr",
     "output_type": "stream",
     "text": [
      "[Parallel(n_jobs=1)]: Done   3 out of   3 | elapsed:    5.5s remaining:    0.0s\n"
     ]
    },
    {
     "name": "stdout",
     "output_type": "stream",
     "text": [
      "[CV] ......... n_neighbors=4, score=0.16335392291917344, total=   0.8s\n",
      "[CV] n_neighbors=4 ...................................................\n",
      "[CV] ......... n_neighbors=4, score=0.15857739053911743, total=   1.1s\n",
      "[CV] n_neighbors=4 ...................................................\n",
      "[CV] .......... n_neighbors=4, score=0.1594448884051454, total=   0.9s\n",
      "[CV] n_neighbors=5 ...................................................\n",
      "[CV] ......... n_neighbors=5, score=0.16423004389879844, total=   1.0s\n",
      "[CV] n_neighbors=5 ...................................................\n",
      "[CV] ......... n_neighbors=5, score=0.15829957612885817, total=   1.1s\n",
      "[CV] n_neighbors=5 ...................................................\n",
      "[CV] ......... n_neighbors=5, score=0.15845938140385749, total=   0.9s\n",
      "[CV] n_neighbors=6 ...................................................\n",
      "[CV] ......... n_neighbors=6, score=0.16612131631930263, total=   0.9s\n",
      "[CV] n_neighbors=6 ...................................................\n",
      "[CV] ......... n_neighbors=6, score=0.15636875122120178, total=   1.1s\n",
      "[CV] n_neighbors=6 ...................................................\n",
      "[CV] ......... n_neighbors=6, score=0.16002285893505694, total=   0.9s\n",
      "[CV] n_neighbors=7 ...................................................\n",
      "[CV] ......... n_neighbors=7, score=0.16593551779205903, total=   0.9s\n",
      "[CV] n_neighbors=7 ...................................................\n",
      "[CV] ......... n_neighbors=7, score=0.15769396961004212, total=   1.1s\n",
      "[CV] n_neighbors=7 ...................................................\n",
      "[CV] ......... n_neighbors=7, score=0.16153944429592806, total=   0.9s\n",
      "[CV] n_neighbors=8 ...................................................\n",
      "[CV] ......... n_neighbors=8, score=0.16215538801873994, total=   0.9s\n",
      "[CV] n_neighbors=8 ...................................................\n",
      "[CV] ......... n_neighbors=8, score=0.15788494499154523, total=   1.2s\n",
      "[CV] n_neighbors=8 ...................................................\n",
      "[CV] ......... n_neighbors=8, score=0.15977996949376624, total=   0.9s\n",
      "[CV] n_neighbors=9 ...................................................\n",
      "[CV] ......... n_neighbors=9, score=0.16168375599593177, total=   0.9s\n",
      "[CV] n_neighbors=9 ...................................................\n",
      "[CV] ......... n_neighbors=9, score=0.15939447820976696, total=   1.1s\n",
      "[CV] n_neighbors=9 ...................................................\n",
      "[CV] ......... n_neighbors=9, score=0.16559011832392112, total=   0.9s\n"
     ]
    },
    {
     "name": "stderr",
     "output_type": "stream",
     "text": [
      "[Parallel(n_jobs=1)]: Done  21 out of  21 | elapsed:   42.2s finished\n"
     ]
    },
    {
     "name": "stdout",
     "output_type": "stream",
     "text": [
      "Wall time: 42.7 s\n",
      "Best Params:  {'n_neighbors': 9}\n"
     ]
    }
   ],
   "source": [
    "knn = GridSearchCV(KNeighborsClassifier(),\n",
    "                   param_grid={'n_neighbors': range(3, 10)}, \n",
    "                   scoring='recall_macro', \n",
    "                   cv=3, verbose=4)\n",
    "%time knn.fit(features_train.values, target_train.values)\n",
    "print('Best Params: ', knn.best_params_)"
   ]
  },
  {
   "cell_type": "code",
   "execution_count": 137,
   "metadata": {},
   "outputs": [
    {
     "name": "stdout",
     "output_type": "stream",
     "text": [
      "              precision    recall  f1-score   support\n",
      "\n",
      "        Bear       0.00      0.00      0.00        29\n",
      "        Bull       0.00      0.00      0.00        15\n",
      "     S. Bear       0.23      0.25      0.24        56\n",
      "     S. Bull       0.09      0.15      0.11        27\n",
      "     W. Bear       0.30      0.25      0.27        97\n",
      "     W. Bull       0.19      0.27      0.22        48\n",
      "\n",
      "   micro avg       0.20      0.20      0.20       272\n",
      "   macro avg       0.13      0.15      0.14       272\n",
      "weighted avg       0.19      0.20      0.20       272\n",
      "\n"
     ]
    }
   ],
   "source": [
    "knn = KNeighborsClassifier(**knn.best_params_)\n",
    "knn.fit(features_train.values, target_train.values)\n",
    "print(classification_report(target_test.values, knn.predict(features_test.values)))"
   ]
  },
  {
   "cell_type": "code",
   "execution_count": 138,
   "metadata": {},
   "outputs": [
    {
     "name": "stdout",
     "output_type": "stream",
     "text": [
      "Fitting 3 folds for each of 7 candidates, totalling 21 fits\n",
      "[CV] n_neighbors=3 ...................................................\n"
     ]
    },
    {
     "name": "stderr",
     "output_type": "stream",
     "text": [
      "[Parallel(n_jobs=1)]: Using backend SequentialBackend with 1 concurrent workers.\n"
     ]
    },
    {
     "name": "stdout",
     "output_type": "stream",
     "text": [
      "[CV] .......... n_neighbors=3, score=0.1621027090500441, total=   0.9s\n",
      "[CV] n_neighbors=3 ...................................................\n"
     ]
    },
    {
     "name": "stderr",
     "output_type": "stream",
     "text": [
      "[Parallel(n_jobs=1)]: Done   1 out of   1 | elapsed:    1.8s remaining:    0.0s\n"
     ]
    },
    {
     "name": "stdout",
     "output_type": "stream",
     "text": [
      "[CV] ......... n_neighbors=3, score=0.16081995274617153, total=   1.1s\n",
      "[CV] n_neighbors=3 ...................................................\n"
     ]
    },
    {
     "name": "stderr",
     "output_type": "stream",
     "text": [
      "[Parallel(n_jobs=1)]: Done   2 out of   2 | elapsed:    3.8s remaining:    0.0s\n"
     ]
    },
    {
     "name": "stdout",
     "output_type": "stream",
     "text": [
      "[CV] ......... n_neighbors=3, score=0.16457754313528414, total=   0.8s\n",
      "[CV] n_neighbors=4 ...................................................\n"
     ]
    },
    {
     "name": "stderr",
     "output_type": "stream",
     "text": [
      "[Parallel(n_jobs=1)]: Done   3 out of   3 | elapsed:    5.6s remaining:    0.0s\n"
     ]
    },
    {
     "name": "stdout",
     "output_type": "stream",
     "text": [
      "[CV] ......... n_neighbors=4, score=0.16497095896298683, total=   0.8s\n",
      "[CV] n_neighbors=4 ...................................................\n",
      "[CV] ......... n_neighbors=4, score=0.15789179564914255, total=   1.1s\n",
      "[CV] n_neighbors=4 ...................................................\n",
      "[CV] ......... n_neighbors=4, score=0.16253280912537707, total=   0.9s\n",
      "[CV] n_neighbors=5 ...................................................\n",
      "[CV] ......... n_neighbors=5, score=0.16494521263180248, total=   0.9s\n",
      "[CV] n_neighbors=5 ...................................................\n",
      "[CV] .......... n_neighbors=5, score=0.1581398323614827, total=   1.1s\n",
      "[CV] n_neighbors=5 ...................................................\n",
      "[CV] ......... n_neighbors=5, score=0.16023776973318316, total=   0.9s\n",
      "[CV] n_neighbors=6 ...................................................\n",
      "[CV] .......... n_neighbors=6, score=0.1635097351675134, total=   0.9s\n",
      "[CV] n_neighbors=6 ...................................................\n",
      "[CV] ......... n_neighbors=6, score=0.15715570870122017, total=   1.3s\n",
      "[CV] n_neighbors=6 ...................................................\n",
      "[CV] ......... n_neighbors=6, score=0.15989299158641787, total=   0.9s\n",
      "[CV] n_neighbors=7 ...................................................\n",
      "[CV] .......... n_neighbors=7, score=0.1647815784512293, total=   0.9s\n",
      "[CV] n_neighbors=7 ...................................................\n",
      "[CV] ......... n_neighbors=7, score=0.15886564442749063, total=   1.3s\n",
      "[CV] n_neighbors=7 ...................................................\n",
      "[CV] ......... n_neighbors=7, score=0.16206388271194885, total=   0.9s\n",
      "[CV] n_neighbors=8 ...................................................\n",
      "[CV] ......... n_neighbors=8, score=0.16196251876346748, total=   0.9s\n",
      "[CV] n_neighbors=8 ...................................................\n",
      "[CV] .......... n_neighbors=8, score=0.1585546509080792, total=   1.2s\n",
      "[CV] n_neighbors=8 ...................................................\n",
      "[CV] .......... n_neighbors=8, score=0.1607848660143862, total=   0.9s\n",
      "[CV] n_neighbors=9 ...................................................\n",
      "[CV] .......... n_neighbors=9, score=0.1617387525664121, total=   0.9s\n",
      "[CV] n_neighbors=9 ...................................................\n",
      "[CV] ......... n_neighbors=9, score=0.16012805247210246, total=   1.2s\n",
      "[CV] n_neighbors=9 ...................................................\n",
      "[CV] ......... n_neighbors=9, score=0.16337983356173605, total=   1.0s\n"
     ]
    },
    {
     "name": "stderr",
     "output_type": "stream",
     "text": [
      "[Parallel(n_jobs=1)]: Done  21 out of  21 | elapsed:   43.5s finished\n"
     ]
    },
    {
     "name": "stdout",
     "output_type": "stream",
     "text": [
      "Wall time: 44.2 s\n",
      "Best Params:  {'n_neighbors': 3}\n"
     ]
    }
   ],
   "source": [
    "knn = GridSearchCV(KNeighborsClassifier(weights='distance'),\n",
    "                   param_grid={'n_neighbors': range(3, 10)}, \n",
    "                   scoring='recall_macro', \n",
    "                   cv=3, verbose=4)\n",
    "%time knn.fit(features_train.values, target_train.values)\n",
    "print('Best Params: ', knn.best_params_)"
   ]
  },
  {
   "cell_type": "code",
   "execution_count": 144,
   "metadata": {},
   "outputs": [
    {
     "name": "stdout",
     "output_type": "stream",
     "text": [
      "              precision    recall  f1-score   support\n",
      "\n",
      "        Bear       0.20      0.07      0.10        29\n",
      "        Bull       0.10      0.20      0.14        15\n",
      "     S. Bear       0.33      0.32      0.32        56\n",
      "     S. Bull       0.06      0.07      0.07        27\n",
      "     W. Bear       0.42      0.30      0.35        97\n",
      "     W. Bull       0.16      0.25      0.20        48\n",
      "\n",
      "   micro avg       0.24      0.24      0.24       272\n",
      "   macro avg       0.21      0.20      0.20       272\n",
      "weighted avg       0.28      0.24      0.25       272\n",
      "\n"
     ]
    }
   ],
   "source": [
    "knn = KNeighborsClassifier(n_neighbors=3, weights='distance')\n",
    "knn.fit(features_train.values, target_train.values)\n",
    "print(classification_report(target_test.values, knn.predict(features_test.values)))"
   ]
  },
  {
   "cell_type": "code",
   "execution_count": 161,
   "metadata": {},
   "outputs": [
    {
     "name": "stdout",
     "output_type": "stream",
     "text": [
      "              precision    recall  f1-score   support\n",
      "\n",
      "        Bear       0.00      0.00      0.00        29\n",
      "        Bull       0.00      0.00      0.00        15\n",
      "     S. Bear       0.29      0.18      0.22        56\n",
      "     S. Bull       0.23      0.26      0.25        27\n",
      "     W. Bear       0.39      0.42      0.40        97\n",
      "     W. Bull       0.19      0.31      0.24        48\n",
      "\n",
      "   micro avg       0.27      0.27      0.27       272\n",
      "   macro avg       0.18      0.20      0.18       272\n",
      "weighted avg       0.26      0.27      0.26       272\n",
      "\n"
     ]
    }
   ],
   "source": [
    "features_train_rs = RobustScaler().fit_transform(features_train.values)\n",
    "features_test_rs = RobustScaler().fit_transform(features_test.values)\n",
    "knn = KNeighborsClassifier(n_neighbors=10, weights='distance')\n",
    "knn.fit(features_train_rs, target_train)\n",
    "print(classification_report(target_test, knn.predict(features_test_rs)))"
   ]
  },
  {
   "cell_type": "code",
   "execution_count": 184,
   "metadata": {},
   "outputs": [],
   "source": [
    "pca = PCA(n_components=int(features_train.shape[1]/3))"
   ]
  },
  {
   "cell_type": "code",
   "execution_count": 185,
   "metadata": {},
   "outputs": [],
   "source": [
    "X_train_pca = pca.fit_transform(features_train)\n",
    "X_test_pca = pca.transform(features_test)"
   ]
  },
  {
   "cell_type": "code",
   "execution_count": 230,
   "metadata": {},
   "outputs": [],
   "source": [
    "target_test.loc[target_test.str.endswith('Bear')] = 'Bear'\n",
    "target_test.loc[target_test.str.endswith('Bull')] = 'Bull'"
   ]
  },
  {
   "cell_type": "code",
   "execution_count": 231,
   "metadata": {},
   "outputs": [],
   "source": [
    "target_train.loc[target_train.str.endswith('Bear')] = 'Bear'\n",
    "target_train.loc[target_train.str.endswith('Bull')] = 'Bull'"
   ]
  },
  {
   "cell_type": "code",
   "execution_count": 232,
   "metadata": {},
   "outputs": [
    {
     "name": "stdout",
     "output_type": "stream",
     "text": [
      "              precision    recall  f1-score   support\n",
      "\n",
      "        Bear       0.68      0.54      0.60       182\n",
      "        Bull       0.34      0.48      0.40        90\n",
      "\n",
      "   micro avg       0.52      0.52      0.52       272\n",
      "   macro avg       0.51      0.51      0.50       272\n",
      "weighted avg       0.57      0.52      0.54       272\n",
      "\n"
     ]
    }
   ],
   "source": [
    "knn = KNeighborsClassifier(n_neighbors=3, weights='distance')\n",
    "knn.fit(X_train_pca, target_train)\n",
    "print(classification_report(target_test, knn.predict(X_test_pca)))"
   ]
  },
  {
   "cell_type": "code",
   "execution_count": 192,
   "metadata": {},
   "outputs": [
    {
     "name": "stdout",
     "output_type": "stream",
     "text": [
      "              precision    recall  f1-score   support\n",
      "\n",
      "        Bear       0.11      0.14      0.12        29\n",
      "        Bull       0.13      0.33      0.19        15\n",
      "     S. Bear       0.26      0.32      0.29        56\n",
      "     S. Bull       0.08      0.07      0.08        27\n",
      "     W. Bear       0.46      0.24      0.31        97\n",
      "     W. Bull       0.18      0.21      0.19        48\n",
      "\n",
      "   micro avg       0.23      0.23      0.23       272\n",
      "   macro avg       0.20      0.22      0.20       272\n",
      "weighted avg       0.28      0.23      0.24       272\n",
      "\n"
     ]
    }
   ],
   "source": [
    "knn = KNeighborsClassifier(n_neighbors=3)\n",
    "knn.fit(X_train_pca, target_train)\n",
    "print(classification_report(target_test, knn.predict(X_test_pca)))"
   ]
  },
  {
   "cell_type": "code",
   "execution_count": 220,
   "metadata": {},
   "outputs": [],
   "source": [
    "vot = VotingClassifier(estimators=[('RanFor', RandomForestClassifier(max_depth=14, n_estimators=10)),\n",
    "                                   ('KNN', KNeighborsClassifier(n_neighbors=3, weights='distance'))])"
   ]
  },
  {
   "cell_type": "code",
   "execution_count": 221,
   "metadata": {},
   "outputs": [
    {
     "data": {
      "text/plain": [
       "VotingClassifier(estimators=[('RanFor', RandomForestClassifier(bootstrap=True, class_weight=None, criterion='gini',\n",
       "            max_depth=14, max_features='auto', max_leaf_nodes=None,\n",
       "            min_impurity_decrease=0.0, min_impurity_split=None,\n",
       "            min_samples_leaf=1, min_samples_split=2,\n",
       "            min_...i',\n",
       "           metric_params=None, n_jobs=None, n_neighbors=3, p=2,\n",
       "           weights='distance'))],\n",
       "         flatten_transform=None, n_jobs=None, voting='hard', weights=None)"
      ]
     },
     "execution_count": 221,
     "metadata": {},
     "output_type": "execute_result"
    }
   ],
   "source": [
    "vot.fit(X_train_pca, target_train)"
   ]
  },
  {
   "cell_type": "code",
   "execution_count": 222,
   "metadata": {},
   "outputs": [
    {
     "name": "stdout",
     "output_type": "stream",
     "text": [
      "              precision    recall  f1-score   support\n",
      "\n",
      "        Bear       0.15      0.07      0.10        29\n",
      "        Bull       0.13      0.27      0.17        15\n",
      "     S. Bear       0.33      0.38      0.35        56\n",
      "     S. Bull       0.09      0.15      0.11        27\n",
      "     W. Bear       0.43      0.38      0.40        97\n",
      "     W. Bull       0.18      0.12      0.15        48\n",
      "\n",
      "   micro avg       0.27      0.27      0.27       272\n",
      "   macro avg       0.22      0.23      0.21       272\n",
      "weighted avg       0.28      0.27      0.27       272\n",
      "\n"
     ]
    }
   ],
   "source": [
    "print(classification_report(target_test, vot.predict(X_test_pca)))"
   ]
  },
  {
   "cell_type": "code",
   "execution_count": 219,
   "metadata": {},
   "outputs": [],
   "source": [
    "bagg = BaggingClassifier(base_estimator=KNeighborsClassifier(n_neighbors=3, weights='distance'), n_estimators=100)"
   ]
  },
  {
   "cell_type": "code",
   "execution_count": 218,
   "metadata": {},
   "outputs": [
    {
     "name": "stdout",
     "output_type": "stream",
     "text": [
      "              precision    recall  f1-score   support\n",
      "\n",
      "        Bear       0.11      0.03      0.05        29\n",
      "        Bull       0.11      0.20      0.14        15\n",
      "     S. Bear       0.32      0.32      0.32        56\n",
      "     S. Bull       0.09      0.11      0.10        27\n",
      "     W. Bear       0.38      0.28      0.32        97\n",
      "     W. Bull       0.16      0.25      0.19        48\n",
      "\n",
      "   micro avg       0.24      0.24      0.24       272\n",
      "   macro avg       0.20      0.20      0.19       272\n",
      "weighted avg       0.26      0.24      0.24       272\n",
      "\n"
     ]
    }
   ],
   "source": [
    "bagg.fit(X_train_pca, target_train)\n",
    "print(classification_report(target_test, bagg.predict(X_test_pca)))"
   ]
  },
  {
   "cell_type": "code",
   "execution_count": 204,
   "metadata": {},
   "outputs": [],
   "source": [
    "ada = AdaBoostClassifier(n_estimators=75)"
   ]
  },
  {
   "cell_type": "code",
   "execution_count": 208,
   "metadata": {},
   "outputs": [
    {
     "data": {
      "text/plain": [
       "array([0.18140262, 0.17161353, 0.1878066 ])"
      ]
     },
     "execution_count": 208,
     "metadata": {},
     "output_type": "execute_result"
    }
   ],
   "source": [
    "cross_val_score(ada, X_train_pca, target_train, scoring='recall_macro')"
   ]
  },
  {
   "cell_type": "code",
   "execution_count": 206,
   "metadata": {},
   "outputs": [
    {
     "name": "stdout",
     "output_type": "stream",
     "text": [
      "              precision    recall  f1-score   support\n",
      "\n",
      "        Bear       0.00      0.00      0.00        29\n",
      "        Bull       0.00      0.00      0.00        15\n",
      "     S. Bear       0.39      0.12      0.19        56\n",
      "     S. Bull       0.00      0.00      0.00        27\n",
      "     W. Bear       0.39      0.63      0.48        97\n",
      "     W. Bull       0.10      0.17      0.12        48\n",
      "\n",
      "   micro avg       0.28      0.28      0.28       272\n",
      "   macro avg       0.15      0.15      0.13       272\n",
      "weighted avg       0.23      0.28      0.23       272\n",
      "\n"
     ]
    }
   ],
   "source": [
    "ada.fit(X_train_pca, target_train)\n",
    "print(classification_report(target_test, ada.predict(X_test_pca)))"
   ]
  },
  {
   "cell_type": "code",
   "execution_count": null,
   "metadata": {},
   "outputs": [],
   "source": []
  },
  {
   "cell_type": "code",
   "execution_count": 148,
   "metadata": {},
   "outputs": [],
   "source": [
    "light = GridSearchCV(lgb.LGBMClassifier(),\n",
    "                   param_grid={'max_depth': range(9, 16),\n",
    "                              'learning_rate': [0.1, 0.3, 0.5, 0.7],\n",
    "                              'n_estimators': [75, 100, 125]}, \n",
    "                   scoring='recall_macro', \n",
    "                   cv=3, verbose=4)"
   ]
  },
  {
   "cell_type": "code",
   "execution_count": 149,
   "metadata": {},
   "outputs": [
    {
     "name": "stdout",
     "output_type": "stream",
     "text": [
      "Fitting 3 folds for each of 84 candidates, totalling 252 fits\n",
      "[CV] learning_rate=0.1, max_depth=9, n_estimators=75 .................\n"
     ]
    },
    {
     "name": "stderr",
     "output_type": "stream",
     "text": [
      "[Parallel(n_jobs=1)]: Using backend SequentialBackend with 1 concurrent workers.\n"
     ]
    },
    {
     "name": "stdout",
     "output_type": "stream",
     "text": [
      "[CV]  learning_rate=0.1, max_depth=9, n_estimators=75, score=0.18564433488154075, total=   7.1s\n",
      "[CV] learning_rate=0.1, max_depth=9, n_estimators=75 .................\n"
     ]
    },
    {
     "name": "stderr",
     "output_type": "stream",
     "text": [
      "[Parallel(n_jobs=1)]: Done   1 out of   1 | elapsed:    7.5s remaining:    0.0s\n"
     ]
    },
    {
     "name": "stdout",
     "output_type": "stream",
     "text": [
      "[CV]  learning_rate=0.1, max_depth=9, n_estimators=75, score=0.17743719501864266, total=   7.6s\n",
      "[CV] learning_rate=0.1, max_depth=9, n_estimators=75 .................\n"
     ]
    },
    {
     "name": "stderr",
     "output_type": "stream",
     "text": [
      "[Parallel(n_jobs=1)]: Done   2 out of   2 | elapsed:   15.6s remaining:    0.0s\n"
     ]
    },
    {
     "name": "stdout",
     "output_type": "stream",
     "text": [
      "[CV]  learning_rate=0.1, max_depth=9, n_estimators=75, score=0.1847917905718536, total=   8.6s\n",
      "[CV] learning_rate=0.1, max_depth=9, n_estimators=100 ................\n"
     ]
    },
    {
     "name": "stderr",
     "output_type": "stream",
     "text": [
      "[Parallel(n_jobs=1)]: Done   3 out of   3 | elapsed:   25.0s remaining:    0.0s\n"
     ]
    },
    {
     "name": "stdout",
     "output_type": "stream",
     "text": [
      "[CV]  learning_rate=0.1, max_depth=9, n_estimators=100, score=0.18765261929742905, total=   9.5s\n",
      "[CV] learning_rate=0.1, max_depth=9, n_estimators=100 ................\n",
      "[CV]  learning_rate=0.1, max_depth=9, n_estimators=100, score=0.17717833575650163, total=  10.4s\n",
      "[CV] learning_rate=0.1, max_depth=9, n_estimators=100 ................\n",
      "[CV]  learning_rate=0.1, max_depth=9, n_estimators=100, score=0.18420068490684058, total=   9.8s\n",
      "[CV] learning_rate=0.1, max_depth=9, n_estimators=125 ................\n",
      "[CV]  learning_rate=0.1, max_depth=9, n_estimators=125, score=0.18876445076211956, total=  12.0s\n",
      "[CV] learning_rate=0.1, max_depth=9, n_estimators=125 ................\n",
      "[CV]  learning_rate=0.1, max_depth=9, n_estimators=125, score=0.1772101561275333, total=  13.4s\n",
      "[CV] learning_rate=0.1, max_depth=9, n_estimators=125 ................\n",
      "[CV]  learning_rate=0.1, max_depth=9, n_estimators=125, score=0.18143331959615097, total=  12.9s\n",
      "[CV] learning_rate=0.1, max_depth=10, n_estimators=75 ................\n",
      "[CV]  learning_rate=0.1, max_depth=10, n_estimators=75, score=0.18877664339591796, total=   7.8s\n",
      "[CV] learning_rate=0.1, max_depth=10, n_estimators=75 ................\n",
      "[CV]  learning_rate=0.1, max_depth=10, n_estimators=75, score=0.1773372857565585, total=   8.4s\n",
      "[CV] learning_rate=0.1, max_depth=10, n_estimators=75 ................\n",
      "[CV]  learning_rate=0.1, max_depth=10, n_estimators=75, score=0.18609575294487515, total=   7.8s\n",
      "[CV] learning_rate=0.1, max_depth=10, n_estimators=100 ...............\n",
      "[CV]  learning_rate=0.1, max_depth=10, n_estimators=100, score=0.19028842366257362, total=  10.7s\n",
      "[CV] learning_rate=0.1, max_depth=10, n_estimators=100 ...............\n",
      "[CV]  learning_rate=0.1, max_depth=10, n_estimators=100, score=0.1782204498837255, total=  10.2s\n",
      "[CV] learning_rate=0.1, max_depth=10, n_estimators=100 ...............\n",
      "[CV]  learning_rate=0.1, max_depth=10, n_estimators=100, score=0.18512527880143803, total=  11.1s\n",
      "[CV] learning_rate=0.1, max_depth=10, n_estimators=125 ...............\n",
      "[CV]  learning_rate=0.1, max_depth=10, n_estimators=125, score=0.18882562517229054, total=  13.9s\n",
      "[CV] learning_rate=0.1, max_depth=10, n_estimators=125 ...............\n",
      "[CV]  learning_rate=0.1, max_depth=10, n_estimators=125, score=0.17828977606421303, total=  11.8s\n",
      "[CV] learning_rate=0.1, max_depth=10, n_estimators=125 ...............\n",
      "[CV]  learning_rate=0.1, max_depth=10, n_estimators=125, score=0.18430930820633043, total=  13.7s\n",
      "[CV] learning_rate=0.1, max_depth=11, n_estimators=75 ................\n",
      "[CV]  learning_rate=0.1, max_depth=11, n_estimators=75, score=0.18564943820114066, total=   9.6s\n",
      "[CV] learning_rate=0.1, max_depth=11, n_estimators=75 ................\n",
      "[CV]  learning_rate=0.1, max_depth=11, n_estimators=75, score=0.17211238804139936, total=   8.5s\n",
      "[CV] learning_rate=0.1, max_depth=11, n_estimators=75 ................\n",
      "[CV]  learning_rate=0.1, max_depth=11, n_estimators=75, score=0.1811621472291287, total=   8.1s\n",
      "[CV] learning_rate=0.1, max_depth=11, n_estimators=100 ...............\n",
      "[CV]  learning_rate=0.1, max_depth=11, n_estimators=100, score=0.18662675115756666, total=  11.0s\n",
      "[CV] learning_rate=0.1, max_depth=11, n_estimators=100 ...............\n",
      "[CV]  learning_rate=0.1, max_depth=11, n_estimators=100, score=0.17426776845834432, total=  10.2s\n",
      "[CV] learning_rate=0.1, max_depth=11, n_estimators=100 ...............\n",
      "[CV]  learning_rate=0.1, max_depth=11, n_estimators=100, score=0.1829645814096897, total=  10.4s\n",
      "[CV] learning_rate=0.1, max_depth=11, n_estimators=125 ...............\n",
      "[CV]  learning_rate=0.1, max_depth=11, n_estimators=125, score=0.18675938329833933, total=  13.8s\n",
      "[CV] learning_rate=0.1, max_depth=11, n_estimators=125 ...............\n",
      "[CV]  learning_rate=0.1, max_depth=11, n_estimators=125, score=0.17491375061397005, total=  13.4s\n",
      "[CV] learning_rate=0.1, max_depth=11, n_estimators=125 ...............\n",
      "[CV]  learning_rate=0.1, max_depth=11, n_estimators=125, score=0.18386062611735687, total=  13.3s\n",
      "[CV] learning_rate=0.1, max_depth=12, n_estimators=75 ................\n",
      "[CV]  learning_rate=0.1, max_depth=12, n_estimators=75, score=0.18509039918177175, total=   8.0s\n",
      "[CV] learning_rate=0.1, max_depth=12, n_estimators=75 ................\n",
      "[CV]  learning_rate=0.1, max_depth=12, n_estimators=75, score=0.1724347508859995, total=   9.9s\n",
      "[CV] learning_rate=0.1, max_depth=12, n_estimators=75 ................\n",
      "[CV]  learning_rate=0.1, max_depth=12, n_estimators=75, score=0.1871707402777237, total=   8.8s\n",
      "[CV] learning_rate=0.1, max_depth=12, n_estimators=100 ...............\n",
      "[CV]  learning_rate=0.1, max_depth=12, n_estimators=100, score=0.18522156333565623, total=   9.8s\n",
      "[CV] learning_rate=0.1, max_depth=12, n_estimators=100 ...............\n",
      "[CV]  learning_rate=0.1, max_depth=12, n_estimators=100, score=0.17375228951776264, total=  10.8s\n",
      "[CV] learning_rate=0.1, max_depth=12, n_estimators=100 ...............\n",
      "[CV]  learning_rate=0.1, max_depth=12, n_estimators=100, score=0.18743164490920264, total=  10.6s\n",
      "[CV] learning_rate=0.1, max_depth=12, n_estimators=125 ...............\n",
      "[CV]  learning_rate=0.1, max_depth=12, n_estimators=125, score=0.18405077931610891, total=  12.2s\n",
      "[CV] learning_rate=0.1, max_depth=12, n_estimators=125 ...............\n",
      "[CV]  learning_rate=0.1, max_depth=12, n_estimators=125, score=0.17562195332086747, total=  13.1s\n",
      "[CV] learning_rate=0.1, max_depth=12, n_estimators=125 ...............\n",
      "[CV]  learning_rate=0.1, max_depth=12, n_estimators=125, score=0.1828543505824515, total=  13.5s\n",
      "[CV] learning_rate=0.1, max_depth=13, n_estimators=75 ................\n",
      "[CV]  learning_rate=0.1, max_depth=13, n_estimators=75, score=0.18824705735255542, total=   8.6s\n",
      "[CV] learning_rate=0.1, max_depth=13, n_estimators=75 ................\n",
      "[CV]  learning_rate=0.1, max_depth=13, n_estimators=75, score=0.17413872355272905, total=   7.4s\n",
      "[CV] learning_rate=0.1, max_depth=13, n_estimators=75 ................\n",
      "[CV]  learning_rate=0.1, max_depth=13, n_estimators=75, score=0.18162904181817496, total=   8.8s\n",
      "[CV] learning_rate=0.1, max_depth=13, n_estimators=100 ...............\n",
      "[CV]  learning_rate=0.1, max_depth=13, n_estimators=100, score=0.18975066861440323, total=  10.6s\n",
      "[CV] learning_rate=0.1, max_depth=13, n_estimators=100 ...............\n",
      "[CV]  learning_rate=0.1, max_depth=13, n_estimators=100, score=0.17347581870456277, total=  11.6s\n",
      "[CV] learning_rate=0.1, max_depth=13, n_estimators=100 ...............\n",
      "[CV]  learning_rate=0.1, max_depth=13, n_estimators=100, score=0.1825948379639313, total=  11.9s\n",
      "[CV] learning_rate=0.1, max_depth=13, n_estimators=125 ...............\n",
      "[CV]  learning_rate=0.1, max_depth=13, n_estimators=125, score=0.18646038747080707, total=  13.5s\n",
      "[CV] learning_rate=0.1, max_depth=13, n_estimators=125 ...............\n",
      "[CV]  learning_rate=0.1, max_depth=13, n_estimators=125, score=0.17609922699293445, total=  17.2s\n",
      "[CV] learning_rate=0.1, max_depth=13, n_estimators=125 ...............\n",
      "[CV]  learning_rate=0.1, max_depth=13, n_estimators=125, score=0.18312937509653862, total=  13.9s\n",
      "[CV] learning_rate=0.1, max_depth=14, n_estimators=75 ................\n",
      "[CV]  learning_rate=0.1, max_depth=14, n_estimators=75, score=0.183610425694659, total=   8.3s\n",
      "[CV] learning_rate=0.1, max_depth=14, n_estimators=75 ................\n",
      "[CV]  learning_rate=0.1, max_depth=14, n_estimators=75, score=0.17440036720087795, total=   8.2s\n",
      "[CV] learning_rate=0.1, max_depth=14, n_estimators=75 ................\n",
      "[CV]  learning_rate=0.1, max_depth=14, n_estimators=75, score=0.18374076646495208, total=   8.5s\n",
      "[CV] learning_rate=0.1, max_depth=14, n_estimators=100 ...............\n",
      "[CV]  learning_rate=0.1, max_depth=14, n_estimators=100, score=0.18414792320691045, total=  10.3s\n",
      "[CV] learning_rate=0.1, max_depth=14, n_estimators=100 ...............\n",
      "[CV]  learning_rate=0.1, max_depth=14, n_estimators=100, score=0.17756905263398215, total=  10.9s\n",
      "[CV] learning_rate=0.1, max_depth=14, n_estimators=100 ...............\n",
      "[CV]  learning_rate=0.1, max_depth=14, n_estimators=100, score=0.18206110117835062, total=  11.4s\n",
      "[CV] learning_rate=0.1, max_depth=14, n_estimators=125 ...............\n",
      "[CV]  learning_rate=0.1, max_depth=14, n_estimators=125, score=0.18708342947152798, total=  13.2s\n",
      "[CV] learning_rate=0.1, max_depth=14, n_estimators=125 ...............\n",
      "[CV]  learning_rate=0.1, max_depth=14, n_estimators=125, score=0.1760054383912754, total=  15.0s\n",
      "[CV] learning_rate=0.1, max_depth=14, n_estimators=125 ...............\n",
      "[CV]  learning_rate=0.1, max_depth=14, n_estimators=125, score=0.18392352392487707, total=  21.6s\n",
      "[CV] learning_rate=0.1, max_depth=15, n_estimators=75 ................\n",
      "[CV]  learning_rate=0.1, max_depth=15, n_estimators=75, score=0.1823393526767302, total=  14.2s\n",
      "[CV] learning_rate=0.1, max_depth=15, n_estimators=75 ................\n",
      "[CV]  learning_rate=0.1, max_depth=15, n_estimators=75, score=0.17233644045205807, total=  13.4s\n",
      "[CV] learning_rate=0.1, max_depth=15, n_estimators=75 ................\n",
      "[CV]  learning_rate=0.1, max_depth=15, n_estimators=75, score=0.18502647122758872, total=  14.5s\n",
      "[CV] learning_rate=0.1, max_depth=15, n_estimators=100 ...............\n",
      "[CV]  learning_rate=0.1, max_depth=15, n_estimators=100, score=0.18232304183211825, total=  19.5s\n",
      "[CV] learning_rate=0.1, max_depth=15, n_estimators=100 ...............\n",
      "[CV]  learning_rate=0.1, max_depth=15, n_estimators=100, score=0.17436390509573915, total=  18.7s\n",
      "[CV] learning_rate=0.1, max_depth=15, n_estimators=100 ...............\n",
      "[CV]  learning_rate=0.1, max_depth=15, n_estimators=100, score=0.18434867648397116, total=  18.2s\n",
      "[CV] learning_rate=0.1, max_depth=15, n_estimators=125 ...............\n",
      "[CV]  learning_rate=0.1, max_depth=15, n_estimators=125, score=0.185243613056338, total=  21.8s\n",
      "[CV] learning_rate=0.1, max_depth=15, n_estimators=125 ...............\n",
      "[CV]  learning_rate=0.1, max_depth=15, n_estimators=125, score=0.17581357080366886, total=  34.8s\n",
      "[CV] learning_rate=0.1, max_depth=15, n_estimators=125 ...............\n",
      "[CV]  learning_rate=0.1, max_depth=15, n_estimators=125, score=0.18465778484165082, total=  22.7s\n",
      "[CV] learning_rate=0.3, max_depth=9, n_estimators=75 .................\n",
      "[CV]  learning_rate=0.3, max_depth=9, n_estimators=75, score=0.1897884661726094, total=  12.7s\n",
      "[CV] learning_rate=0.3, max_depth=9, n_estimators=75 .................\n",
      "[CV]  learning_rate=0.3, max_depth=9, n_estimators=75, score=0.17377979482516262, total=  12.6s\n",
      "[CV] learning_rate=0.3, max_depth=9, n_estimators=75 .................\n",
      "[CV]  learning_rate=0.3, max_depth=9, n_estimators=75, score=0.18770851041203765, total=  14.1s\n",
      "[CV] learning_rate=0.3, max_depth=9, n_estimators=100 ................\n",
      "[CV]  learning_rate=0.3, max_depth=9, n_estimators=100, score=0.19091457527898878, total=  17.1s\n",
      "[CV] learning_rate=0.3, max_depth=9, n_estimators=100 ................\n",
      "[CV]  learning_rate=0.3, max_depth=9, n_estimators=100, score=0.1733620246905542, total=  23.9s\n",
      "[CV] learning_rate=0.3, max_depth=9, n_estimators=100 ................\n",
      "[CV]  learning_rate=0.3, max_depth=9, n_estimators=100, score=0.18640353786474873, total=  28.6s\n",
      "[CV] learning_rate=0.3, max_depth=9, n_estimators=125 ................\n",
      "[CV]  learning_rate=0.3, max_depth=9, n_estimators=125, score=0.19071131211898948, total=  29.7s\n",
      "[CV] learning_rate=0.3, max_depth=9, n_estimators=125 ................\n",
      "[CV]  learning_rate=0.3, max_depth=9, n_estimators=125, score=0.17678669241970327, total=  21.0s\n",
      "[CV] learning_rate=0.3, max_depth=9, n_estimators=125 ................\n",
      "[CV]  learning_rate=0.3, max_depth=9, n_estimators=125, score=0.18602207224163583, total=  27.2s\n",
      "[CV] learning_rate=0.3, max_depth=10, n_estimators=75 ................\n",
      "[CV]  learning_rate=0.3, max_depth=10, n_estimators=75, score=0.1852090687011445, total=  24.2s\n",
      "[CV] learning_rate=0.3, max_depth=10, n_estimators=75 ................\n",
      "[CV]  learning_rate=0.3, max_depth=10, n_estimators=75, score=0.17823400108544465, total=  26.3s\n",
      "[CV] learning_rate=0.3, max_depth=10, n_estimators=75 ................\n",
      "[CV]  learning_rate=0.3, max_depth=10, n_estimators=75, score=0.1842265278754135, total=  15.6s\n",
      "[CV] learning_rate=0.3, max_depth=10, n_estimators=100 ...............\n",
      "[CV]  learning_rate=0.3, max_depth=10, n_estimators=100, score=0.1860534272411384, total=  20.0s\n",
      "[CV] learning_rate=0.3, max_depth=10, n_estimators=100 ...............\n",
      "[CV]  learning_rate=0.3, max_depth=10, n_estimators=100, score=0.17859351307700888, total=  21.7s\n",
      "[CV] learning_rate=0.3, max_depth=10, n_estimators=100 ...............\n",
      "[CV]  learning_rate=0.3, max_depth=10, n_estimators=100, score=0.18531547401873727, total=  21.6s\n",
      "[CV] learning_rate=0.3, max_depth=10, n_estimators=125 ...............\n",
      "[CV]  learning_rate=0.3, max_depth=10, n_estimators=125, score=0.18586403258257853, total=  25.0s\n",
      "[CV] learning_rate=0.3, max_depth=10, n_estimators=125 ...............\n",
      "[CV]  learning_rate=0.3, max_depth=10, n_estimators=125, score=0.1800641152398705, total=  23.4s\n",
      "[CV] learning_rate=0.3, max_depth=10, n_estimators=125 ...............\n",
      "[CV]  learning_rate=0.3, max_depth=10, n_estimators=125, score=0.1838915039877207, total=  23.7s\n",
      "[CV] learning_rate=0.3, max_depth=11, n_estimators=75 ................\n",
      "[CV]  learning_rate=0.3, max_depth=11, n_estimators=75, score=0.18404013679483247, total=  15.3s\n",
      "[CV] learning_rate=0.3, max_depth=11, n_estimators=75 ................\n",
      "[CV]  learning_rate=0.3, max_depth=11, n_estimators=75, score=0.17477153821571814, total=  15.7s\n",
      "[CV] learning_rate=0.3, max_depth=11, n_estimators=75 ................\n",
      "[CV]  learning_rate=0.3, max_depth=11, n_estimators=75, score=0.18488490829923596, total=  15.0s\n",
      "[CV] learning_rate=0.3, max_depth=11, n_estimators=100 ...............\n",
      "[CV]  learning_rate=0.3, max_depth=11, n_estimators=100, score=0.18591851790710243, total=  19.7s\n",
      "[CV] learning_rate=0.3, max_depth=11, n_estimators=100 ...............\n",
      "[CV]  learning_rate=0.3, max_depth=11, n_estimators=100, score=0.17631658901151573, total=  21.5s\n",
      "[CV] learning_rate=0.3, max_depth=11, n_estimators=100 ...............\n",
      "[CV]  learning_rate=0.3, max_depth=11, n_estimators=100, score=0.181562892399567, total=  20.3s\n",
      "[CV] learning_rate=0.3, max_depth=11, n_estimators=125 ...............\n",
      "[CV]  learning_rate=0.3, max_depth=11, n_estimators=125, score=0.1853860230165727, total=  27.0s\n",
      "[CV] learning_rate=0.3, max_depth=11, n_estimators=125 ...............\n",
      "[CV]  learning_rate=0.3, max_depth=11, n_estimators=125, score=0.17346681675169587, total=  25.7s\n",
      "[CV] learning_rate=0.3, max_depth=11, n_estimators=125 ...............\n",
      "[CV]  learning_rate=0.3, max_depth=11, n_estimators=125, score=0.17979342727875314, total=  24.1s\n",
      "[CV] learning_rate=0.3, max_depth=12, n_estimators=75 ................\n",
      "[CV]  learning_rate=0.3, max_depth=12, n_estimators=75, score=0.1904921700473171, total=  15.3s\n",
      "[CV] learning_rate=0.3, max_depth=12, n_estimators=75 ................\n",
      "[CV]  learning_rate=0.3, max_depth=12, n_estimators=75, score=0.17499726989586598, total=  15.3s\n",
      "[CV] learning_rate=0.3, max_depth=12, n_estimators=75 ................\n",
      "[CV]  learning_rate=0.3, max_depth=12, n_estimators=75, score=0.18192839769117986, total=  15.3s\n",
      "[CV] learning_rate=0.3, max_depth=12, n_estimators=100 ...............\n",
      "[CV]  learning_rate=0.3, max_depth=12, n_estimators=100, score=0.1910015700378489, total=  19.8s\n",
      "[CV] learning_rate=0.3, max_depth=12, n_estimators=100 ...............\n",
      "[CV]  learning_rate=0.3, max_depth=12, n_estimators=100, score=0.17834957070089652, total=  16.1s\n",
      "[CV] learning_rate=0.3, max_depth=12, n_estimators=100 ...............\n",
      "[CV]  learning_rate=0.3, max_depth=12, n_estimators=100, score=0.18455036689433313, total=  12.6s\n",
      "[CV] learning_rate=0.3, max_depth=12, n_estimators=125 ...............\n",
      "[CV]  learning_rate=0.3, max_depth=12, n_estimators=125, score=0.19122745779310338, total=  13.1s\n",
      "[CV] learning_rate=0.3, max_depth=12, n_estimators=125 ...............\n",
      "[CV]  learning_rate=0.3, max_depth=12, n_estimators=125, score=0.17666026916644126, total=  12.7s\n",
      "[CV] learning_rate=0.3, max_depth=12, n_estimators=125 ...............\n",
      "[CV]  learning_rate=0.3, max_depth=12, n_estimators=125, score=0.18224205239731375, total=  13.6s\n",
      "[CV] learning_rate=0.3, max_depth=13, n_estimators=75 ................\n",
      "[CV]  learning_rate=0.3, max_depth=13, n_estimators=75, score=0.1903096554737358, total=   7.0s\n",
      "[CV] learning_rate=0.3, max_depth=13, n_estimators=75 ................\n",
      "[CV]  learning_rate=0.3, max_depth=13, n_estimators=75, score=0.1794793231028987, total=   8.7s\n",
      "[CV] learning_rate=0.3, max_depth=13, n_estimators=75 ................\n",
      "[CV]  learning_rate=0.3, max_depth=13, n_estimators=75, score=0.1753200304440665, total=   8.0s\n",
      "[CV] learning_rate=0.3, max_depth=13, n_estimators=100 ...............\n",
      "[CV]  learning_rate=0.3, max_depth=13, n_estimators=100, score=0.18962156161803922, total=  13.3s\n",
      "[CV] learning_rate=0.3, max_depth=13, n_estimators=100 ...............\n",
      "[CV]  learning_rate=0.3, max_depth=13, n_estimators=100, score=0.18185933948777444, total=  12.1s\n",
      "[CV] learning_rate=0.3, max_depth=13, n_estimators=100 ...............\n",
      "[CV]  learning_rate=0.3, max_depth=13, n_estimators=100, score=0.17492891320883808, total=  16.9s\n",
      "[CV] learning_rate=0.3, max_depth=13, n_estimators=125 ...............\n",
      "[CV]  learning_rate=0.3, max_depth=13, n_estimators=125, score=0.18932168604294589, total=  19.8s\n",
      "[CV] learning_rate=0.3, max_depth=13, n_estimators=125 ...............\n",
      "[CV]  learning_rate=0.3, max_depth=13, n_estimators=125, score=0.17877046834175717, total=  21.5s\n",
      "[CV] learning_rate=0.3, max_depth=13, n_estimators=125 ...............\n",
      "[CV]  learning_rate=0.3, max_depth=13, n_estimators=125, score=0.17379609643875935, total=  21.6s\n",
      "[CV] learning_rate=0.3, max_depth=14, n_estimators=75 ................\n",
      "[CV]  learning_rate=0.3, max_depth=14, n_estimators=75, score=0.1853789479318555, total=  13.4s\n",
      "[CV] learning_rate=0.3, max_depth=14, n_estimators=75 ................\n",
      "[CV]  learning_rate=0.3, max_depth=14, n_estimators=75, score=0.17308097130866215, total=  13.7s\n",
      "[CV] learning_rate=0.3, max_depth=14, n_estimators=75 ................\n",
      "[CV]  learning_rate=0.3, max_depth=14, n_estimators=75, score=0.18049771598506728, total=  13.4s\n",
      "[CV] learning_rate=0.3, max_depth=14, n_estimators=100 ...............\n",
      "[CV]  learning_rate=0.3, max_depth=14, n_estimators=100, score=0.1869053471761477, total=  17.5s\n",
      "[CV] learning_rate=0.3, max_depth=14, n_estimators=100 ...............\n",
      "[CV]  learning_rate=0.3, max_depth=14, n_estimators=100, score=0.17362517281316772, total=  17.4s\n",
      "[CV] learning_rate=0.3, max_depth=14, n_estimators=100 ...............\n",
      "[CV]  learning_rate=0.3, max_depth=14, n_estimators=100, score=0.18252412958897998, total=  17.4s\n",
      "[CV] learning_rate=0.3, max_depth=14, n_estimators=125 ...............\n",
      "[CV]  learning_rate=0.3, max_depth=14, n_estimators=125, score=0.18710377195722425, total=  21.5s\n",
      "[CV] learning_rate=0.3, max_depth=14, n_estimators=125 ...............\n",
      "[CV]  learning_rate=0.3, max_depth=14, n_estimators=125, score=0.17375149682732438, total=  21.7s\n",
      "[CV] learning_rate=0.3, max_depth=14, n_estimators=125 ...............\n",
      "[CV]  learning_rate=0.3, max_depth=14, n_estimators=125, score=0.17953648078638285, total=  21.3s\n",
      "[CV] learning_rate=0.3, max_depth=15, n_estimators=75 ................\n",
      "[CV]  learning_rate=0.3, max_depth=15, n_estimators=75, score=0.19532539052580158, total=  13.4s\n",
      "[CV] learning_rate=0.3, max_depth=15, n_estimators=75 ................\n",
      "[CV]  learning_rate=0.3, max_depth=15, n_estimators=75, score=0.1759936385317108, total=  13.3s\n",
      "[CV] learning_rate=0.3, max_depth=15, n_estimators=75 ................\n",
      "[CV]  learning_rate=0.3, max_depth=15, n_estimators=75, score=0.1847324061917485, total=  13.5s\n",
      "[CV] learning_rate=0.3, max_depth=15, n_estimators=100 ...............\n",
      "[CV]  learning_rate=0.3, max_depth=15, n_estimators=100, score=0.19406091713585927, total=  17.3s\n",
      "[CV] learning_rate=0.3, max_depth=15, n_estimators=100 ...............\n",
      "[CV]  learning_rate=0.3, max_depth=15, n_estimators=100, score=0.17474688795912074, total=  17.5s\n",
      "[CV] learning_rate=0.3, max_depth=15, n_estimators=100 ...............\n",
      "[CV]  learning_rate=0.3, max_depth=15, n_estimators=100, score=0.18528594576185328, total=  17.4s\n",
      "[CV] learning_rate=0.3, max_depth=15, n_estimators=125 ...............\n",
      "[CV]  learning_rate=0.3, max_depth=15, n_estimators=125, score=0.19628134485830576, total=  21.2s\n",
      "[CV] learning_rate=0.3, max_depth=15, n_estimators=125 ...............\n",
      "[CV]  learning_rate=0.3, max_depth=15, n_estimators=125, score=0.17301415552796548, total=  21.8s\n",
      "[CV] learning_rate=0.3, max_depth=15, n_estimators=125 ...............\n",
      "[CV]  learning_rate=0.3, max_depth=15, n_estimators=125, score=0.18540918436842216, total=  21.5s\n",
      "[CV] learning_rate=0.5, max_depth=9, n_estimators=75 .................\n",
      "[CV]  learning_rate=0.5, max_depth=9, n_estimators=75, score=0.18309940240237385, total=  12.7s\n",
      "[CV] learning_rate=0.5, max_depth=9, n_estimators=75 .................\n",
      "[CV]  learning_rate=0.5, max_depth=9, n_estimators=75, score=0.17889093725700858, total=   7.9s\n",
      "[CV] learning_rate=0.5, max_depth=9, n_estimators=75 .................\n",
      "[CV]  learning_rate=0.5, max_depth=9, n_estimators=75, score=0.18409168883383478, total=   6.9s\n",
      "[CV] learning_rate=0.5, max_depth=9, n_estimators=100 ................\n",
      "[CV]  learning_rate=0.5, max_depth=9, n_estimators=100, score=0.18690874411783273, total=  10.3s\n",
      "[CV] learning_rate=0.5, max_depth=9, n_estimators=100 ................\n",
      "[CV]  learning_rate=0.5, max_depth=9, n_estimators=100, score=0.17916678060236965, total=  10.5s\n",
      "[CV] learning_rate=0.5, max_depth=9, n_estimators=100 ................\n",
      "[CV]  learning_rate=0.5, max_depth=9, n_estimators=100, score=0.18153726570234055, total=  11.4s\n",
      "[CV] learning_rate=0.5, max_depth=9, n_estimators=125 ................\n",
      "[CV]  learning_rate=0.5, max_depth=9, n_estimators=125, score=0.18999988619271854, total=  11.5s\n",
      "[CV] learning_rate=0.5, max_depth=9, n_estimators=125 ................\n",
      "[CV]  learning_rate=0.5, max_depth=9, n_estimators=125, score=0.1773838617643718, total=  13.2s\n",
      "[CV] learning_rate=0.5, max_depth=9, n_estimators=125 ................\n",
      "[CV]  learning_rate=0.5, max_depth=9, n_estimators=125, score=0.18297272724007385, total=  13.4s\n",
      "[CV] learning_rate=0.5, max_depth=10, n_estimators=75 ................\n",
      "[CV]  learning_rate=0.5, max_depth=10, n_estimators=75, score=0.18952333352612524, total=   7.7s\n",
      "[CV] learning_rate=0.5, max_depth=10, n_estimators=75 ................\n",
      "[CV]  learning_rate=0.5, max_depth=10, n_estimators=75, score=0.17592808789827796, total=   7.9s\n",
      "[CV] learning_rate=0.5, max_depth=10, n_estimators=75 ................\n",
      "[CV]  learning_rate=0.5, max_depth=10, n_estimators=75, score=0.18453471609002378, total=   7.8s\n",
      "[CV] learning_rate=0.5, max_depth=10, n_estimators=100 ...............\n",
      "[CV]  learning_rate=0.5, max_depth=10, n_estimators=100, score=0.18959384633631246, total=   9.9s\n",
      "[CV] learning_rate=0.5, max_depth=10, n_estimators=100 ...............\n",
      "[CV]  learning_rate=0.5, max_depth=10, n_estimators=100, score=0.17481177185459454, total=  10.7s\n",
      "[CV] learning_rate=0.5, max_depth=10, n_estimators=100 ...............\n",
      "[CV]  learning_rate=0.5, max_depth=10, n_estimators=100, score=0.18382258774817517, total=  11.1s\n",
      "[CV] learning_rate=0.5, max_depth=10, n_estimators=125 ...............\n",
      "[CV]  learning_rate=0.5, max_depth=10, n_estimators=125, score=0.18942295997958083, total=  12.3s\n",
      "[CV] learning_rate=0.5, max_depth=10, n_estimators=125 ...............\n",
      "[CV]  learning_rate=0.5, max_depth=10, n_estimators=125, score=0.17596066209647507, total=  12.1s\n",
      "[CV] learning_rate=0.5, max_depth=10, n_estimators=125 ...............\n",
      "[CV]  learning_rate=0.5, max_depth=10, n_estimators=125, score=0.18439259563385738, total=  13.8s\n",
      "[CV] learning_rate=0.5, max_depth=11, n_estimators=75 ................\n",
      "[CV]  learning_rate=0.5, max_depth=11, n_estimators=75, score=0.18701051496336282, total=   8.4s\n",
      "[CV] learning_rate=0.5, max_depth=11, n_estimators=75 ................\n",
      "[CV]  learning_rate=0.5, max_depth=11, n_estimators=75, score=0.17319296528836134, total=   6.6s\n",
      "[CV] learning_rate=0.5, max_depth=11, n_estimators=75 ................\n",
      "[CV]  learning_rate=0.5, max_depth=11, n_estimators=75, score=0.179999324979102, total=   8.9s\n",
      "[CV] learning_rate=0.5, max_depth=11, n_estimators=100 ...............\n",
      "[CV]  learning_rate=0.5, max_depth=11, n_estimators=100, score=0.18664918839205477, total=  12.8s\n",
      "[CV] learning_rate=0.5, max_depth=11, n_estimators=100 ...............\n",
      "[CV]  learning_rate=0.5, max_depth=11, n_estimators=100, score=0.17449259197700887, total=  10.4s\n",
      "[CV] learning_rate=0.5, max_depth=11, n_estimators=100 ...............\n",
      "[CV]  learning_rate=0.5, max_depth=11, n_estimators=100, score=0.17815096207305978, total=  12.2s\n",
      "[CV] learning_rate=0.5, max_depth=11, n_estimators=125 ...............\n",
      "[CV]  learning_rate=0.5, max_depth=11, n_estimators=125, score=0.18601297471214698, total=  13.9s\n",
      "[CV] learning_rate=0.5, max_depth=11, n_estimators=125 ...............\n",
      "[CV]  learning_rate=0.5, max_depth=11, n_estimators=125, score=0.1729760910280914, total=  13.3s\n",
      "[CV] learning_rate=0.5, max_depth=11, n_estimators=125 ...............\n",
      "[CV]  learning_rate=0.5, max_depth=11, n_estimators=125, score=0.17609942658262331, total=  13.6s\n",
      "[CV] learning_rate=0.5, max_depth=12, n_estimators=75 ................\n",
      "[CV]  learning_rate=0.5, max_depth=12, n_estimators=75, score=0.18355782087504946, total=   7.6s\n",
      "[CV] learning_rate=0.5, max_depth=12, n_estimators=75 ................\n",
      "[CV]  learning_rate=0.5, max_depth=12, n_estimators=75, score=0.1768688811882687, total=   8.2s\n",
      "[CV] learning_rate=0.5, max_depth=12, n_estimators=75 ................\n",
      "[CV]  learning_rate=0.5, max_depth=12, n_estimators=75, score=0.18388451916433057, total=   8.1s\n",
      "[CV] learning_rate=0.5, max_depth=12, n_estimators=100 ...............\n",
      "[CV]  learning_rate=0.5, max_depth=12, n_estimators=100, score=0.1855295422478512, total=  10.8s\n",
      "[CV] learning_rate=0.5, max_depth=12, n_estimators=100 ...............\n",
      "[CV]  learning_rate=0.5, max_depth=12, n_estimators=100, score=0.16991317218138233, total=  14.8s\n",
      "[CV] learning_rate=0.5, max_depth=12, n_estimators=100 ...............\n",
      "[CV]  learning_rate=0.5, max_depth=12, n_estimators=100, score=0.18375529900276502, total=  11.8s\n",
      "[CV] learning_rate=0.5, max_depth=12, n_estimators=125 ...............\n",
      "[CV]  learning_rate=0.5, max_depth=12, n_estimators=125, score=0.18569821440874557, total=  13.9s\n",
      "[CV] learning_rate=0.5, max_depth=12, n_estimators=125 ...............\n",
      "[CV]  learning_rate=0.5, max_depth=12, n_estimators=125, score=0.1729191956950272, total=  14.4s\n",
      "[CV] learning_rate=0.5, max_depth=12, n_estimators=125 ...............\n",
      "[CV]  learning_rate=0.5, max_depth=12, n_estimators=125, score=0.1791747529268266, total=  14.3s\n",
      "[CV] learning_rate=0.5, max_depth=13, n_estimators=75 ................\n",
      "[CV]  learning_rate=0.5, max_depth=13, n_estimators=75, score=0.18809432049362454, total=  14.8s\n",
      "[CV] learning_rate=0.5, max_depth=13, n_estimators=75 ................\n",
      "[CV]  learning_rate=0.5, max_depth=13, n_estimators=75, score=0.17077451432008564, total=  12.0s\n",
      "[CV] learning_rate=0.5, max_depth=13, n_estimators=75 ................\n",
      "[CV]  learning_rate=0.5, max_depth=13, n_estimators=75, score=0.18481291778032696, total=  10.7s\n",
      "[CV] learning_rate=0.5, max_depth=13, n_estimators=100 ...............\n",
      "[CV]  learning_rate=0.5, max_depth=13, n_estimators=100, score=0.19214412104646095, total=  11.4s\n",
      "[CV] learning_rate=0.5, max_depth=13, n_estimators=100 ...............\n",
      "[CV]  learning_rate=0.5, max_depth=13, n_estimators=100, score=0.17131149811874544, total=  10.7s\n",
      "[CV] learning_rate=0.5, max_depth=13, n_estimators=100 ...............\n",
      "[CV]  learning_rate=0.5, max_depth=13, n_estimators=100, score=0.1777695303635801, total=  10.5s\n",
      "[CV] learning_rate=0.5, max_depth=13, n_estimators=125 ...............\n",
      "[CV]  learning_rate=0.5, max_depth=13, n_estimators=125, score=0.18870288108842684, total=  13.2s\n",
      "[CV] learning_rate=0.5, max_depth=13, n_estimators=125 ...............\n",
      "[CV]  learning_rate=0.5, max_depth=13, n_estimators=125, score=0.17141742622413858, total=  13.6s\n",
      "[CV] learning_rate=0.5, max_depth=13, n_estimators=125 ...............\n",
      "[CV]  learning_rate=0.5, max_depth=13, n_estimators=125, score=0.17995224157185966, total=  14.0s\n",
      "[CV] learning_rate=0.5, max_depth=14, n_estimators=75 ................\n",
      "[CV]  learning_rate=0.5, max_depth=14, n_estimators=75, score=0.18054609596131863, total=   8.8s\n",
      "[CV] learning_rate=0.5, max_depth=14, n_estimators=75 ................\n",
      "[CV]  learning_rate=0.5, max_depth=14, n_estimators=75, score=0.17016877256095855, total=   7.9s\n",
      "[CV] learning_rate=0.5, max_depth=14, n_estimators=75 ................\n",
      "[CV]  learning_rate=0.5, max_depth=14, n_estimators=75, score=0.17718314910691768, total=  10.1s\n",
      "[CV] learning_rate=0.5, max_depth=14, n_estimators=100 ...............\n",
      "[CV]  learning_rate=0.5, max_depth=14, n_estimators=100, score=0.17961461292432412, total=  12.4s\n",
      "[CV] learning_rate=0.5, max_depth=14, n_estimators=100 ...............\n",
      "[CV]  learning_rate=0.5, max_depth=14, n_estimators=100, score=0.1704380924913389, total=  13.4s\n",
      "[CV] learning_rate=0.5, max_depth=14, n_estimators=100 ...............\n",
      "[CV]  learning_rate=0.5, max_depth=14, n_estimators=100, score=0.17823522340785178, total=  11.3s\n",
      "[CV] learning_rate=0.5, max_depth=14, n_estimators=125 ...............\n",
      "[CV]  learning_rate=0.5, max_depth=14, n_estimators=125, score=0.17961940363444348, total=  16.2s\n",
      "[CV] learning_rate=0.5, max_depth=14, n_estimators=125 ...............\n",
      "[CV]  learning_rate=0.5, max_depth=14, n_estimators=125, score=0.1660080804116971, total=  15.7s\n",
      "[CV] learning_rate=0.5, max_depth=14, n_estimators=125 ...............\n",
      "[CV]  learning_rate=0.5, max_depth=14, n_estimators=125, score=0.17474737863839948, total=  17.6s\n",
      "[CV] learning_rate=0.5, max_depth=15, n_estimators=75 ................\n",
      "[CV]  learning_rate=0.5, max_depth=15, n_estimators=75, score=0.187258391146592, total=   9.4s\n",
      "[CV] learning_rate=0.5, max_depth=15, n_estimators=75 ................\n",
      "[CV]  learning_rate=0.5, max_depth=15, n_estimators=75, score=0.17080676574901088, total=   8.2s\n",
      "[CV] learning_rate=0.5, max_depth=15, n_estimators=75 ................\n",
      "[CV]  learning_rate=0.5, max_depth=15, n_estimators=75, score=0.18001522379049037, total=   8.0s\n",
      "[CV] learning_rate=0.5, max_depth=15, n_estimators=100 ...............\n",
      "[CV]  learning_rate=0.5, max_depth=15, n_estimators=100, score=0.18424922653864195, total=  11.1s\n",
      "[CV] learning_rate=0.5, max_depth=15, n_estimators=100 ...............\n",
      "[CV]  learning_rate=0.5, max_depth=15, n_estimators=100, score=0.17074208246660394, total=  10.3s\n",
      "[CV] learning_rate=0.5, max_depth=15, n_estimators=100 ...............\n",
      "[CV]  learning_rate=0.5, max_depth=15, n_estimators=100, score=0.1797588604352025, total=  10.6s\n",
      "[CV] learning_rate=0.5, max_depth=15, n_estimators=125 ...............\n",
      "[CV]  learning_rate=0.5, max_depth=15, n_estimators=125, score=0.18450350630518964, total=  12.9s\n",
      "[CV] learning_rate=0.5, max_depth=15, n_estimators=125 ...............\n",
      "[CV]  learning_rate=0.5, max_depth=15, n_estimators=125, score=0.1714173798384514, total=  13.5s\n",
      "[CV] learning_rate=0.5, max_depth=15, n_estimators=125 ...............\n",
      "[CV]  learning_rate=0.5, max_depth=15, n_estimators=125, score=0.18254199520814926, total=  13.0s\n",
      "[CV] learning_rate=0.7, max_depth=9, n_estimators=75 .................\n",
      "[CV]  learning_rate=0.7, max_depth=9, n_estimators=75, score=0.18618774738321153, total=   8.0s\n",
      "[CV] learning_rate=0.7, max_depth=9, n_estimators=75 .................\n",
      "[CV]  learning_rate=0.7, max_depth=9, n_estimators=75, score=0.17842671834220836, total=   8.6s\n",
      "[CV] learning_rate=0.7, max_depth=9, n_estimators=75 .................\n",
      "[CV]  learning_rate=0.7, max_depth=9, n_estimators=75, score=0.18365826711393182, total=   8.4s\n",
      "[CV] learning_rate=0.7, max_depth=9, n_estimators=100 ................\n",
      "[CV]  learning_rate=0.7, max_depth=9, n_estimators=100, score=0.18061355870838683, total=   9.7s\n",
      "[CV] learning_rate=0.7, max_depth=9, n_estimators=100 ................\n",
      "[CV]  learning_rate=0.7, max_depth=9, n_estimators=100, score=0.18029230099073898, total=  10.9s\n",
      "[CV] learning_rate=0.7, max_depth=9, n_estimators=100 ................\n",
      "[CV]  learning_rate=0.7, max_depth=9, n_estimators=100, score=0.18153167463203615, total=  11.5s\n",
      "[CV] learning_rate=0.7, max_depth=9, n_estimators=125 ................\n",
      "[CV]  learning_rate=0.7, max_depth=9, n_estimators=125, score=0.18887249107609005, total=  15.3s\n",
      "[CV] learning_rate=0.7, max_depth=9, n_estimators=125 ................\n",
      "[CV]  learning_rate=0.7, max_depth=9, n_estimators=125, score=0.17670954656828539, total=  16.8s\n",
      "[CV] learning_rate=0.7, max_depth=9, n_estimators=125 ................\n",
      "[CV]  learning_rate=0.7, max_depth=9, n_estimators=125, score=0.18259127390913044, total=  14.0s\n",
      "[CV] learning_rate=0.7, max_depth=10, n_estimators=75 ................\n",
      "[CV]  learning_rate=0.7, max_depth=10, n_estimators=75, score=0.18674272833850414, total=   7.0s\n",
      "[CV] learning_rate=0.7, max_depth=10, n_estimators=75 ................\n",
      "[CV]  learning_rate=0.7, max_depth=10, n_estimators=75, score=0.17690277876336533, total=   8.7s\n",
      "[CV] learning_rate=0.7, max_depth=10, n_estimators=75 ................\n",
      "[CV]  learning_rate=0.7, max_depth=10, n_estimators=75, score=0.17872884694446486, total=   8.2s\n",
      "[CV] learning_rate=0.7, max_depth=10, n_estimators=100 ...............\n",
      "[CV]  learning_rate=0.7, max_depth=10, n_estimators=100, score=0.1867546863354703, total=  10.0s\n",
      "[CV] learning_rate=0.7, max_depth=10, n_estimators=100 ...............\n",
      "[CV]  learning_rate=0.7, max_depth=10, n_estimators=100, score=0.17479184618453036, total=  11.2s\n",
      "[CV] learning_rate=0.7, max_depth=10, n_estimators=100 ...............\n",
      "[CV]  learning_rate=0.7, max_depth=10, n_estimators=100, score=0.1746084819539506, total=  10.9s\n",
      "[CV] learning_rate=0.7, max_depth=10, n_estimators=125 ...............\n",
      "[CV]  learning_rate=0.7, max_depth=10, n_estimators=125, score=0.18534935254132456, total=  12.9s\n",
      "[CV] learning_rate=0.7, max_depth=10, n_estimators=125 ...............\n",
      "[CV]  learning_rate=0.7, max_depth=10, n_estimators=125, score=0.1716654725867528, total=  12.1s\n",
      "[CV] learning_rate=0.7, max_depth=10, n_estimators=125 ...............\n",
      "[CV]  learning_rate=0.7, max_depth=10, n_estimators=125, score=0.17685107892468185, total=  13.4s\n",
      "[CV] learning_rate=0.7, max_depth=11, n_estimators=75 ................\n",
      "[CV]  learning_rate=0.7, max_depth=11, n_estimators=75, score=0.18425609717502703, total=   8.8s\n",
      "[CV] learning_rate=0.7, max_depth=11, n_estimators=75 ................\n",
      "[CV]  learning_rate=0.7, max_depth=11, n_estimators=75, score=0.17595876946039293, total=   7.6s\n",
      "[CV] learning_rate=0.7, max_depth=11, n_estimators=75 ................\n",
      "[CV]  learning_rate=0.7, max_depth=11, n_estimators=75, score=0.17957743081863486, total=   8.2s\n",
      "[CV] learning_rate=0.7, max_depth=11, n_estimators=100 ...............\n",
      "[CV]  learning_rate=0.7, max_depth=11, n_estimators=100, score=0.18644283952643018, total=  10.3s\n",
      "[CV] learning_rate=0.7, max_depth=11, n_estimators=100 ...............\n",
      "[CV]  learning_rate=0.7, max_depth=11, n_estimators=100, score=0.17694206814189695, total=  11.3s\n",
      "[CV] learning_rate=0.7, max_depth=11, n_estimators=100 ...............\n",
      "[CV]  learning_rate=0.7, max_depth=11, n_estimators=100, score=0.17968259839823966, total=  12.2s\n",
      "[CV] learning_rate=0.7, max_depth=11, n_estimators=125 ...............\n",
      "[CV]  learning_rate=0.7, max_depth=11, n_estimators=125, score=0.1821786697670318, total=  14.2s\n",
      "[CV] learning_rate=0.7, max_depth=11, n_estimators=125 ...............\n",
      "[CV]  learning_rate=0.7, max_depth=11, n_estimators=125, score=0.17688330050861448, total=  13.5s\n",
      "[CV] learning_rate=0.7, max_depth=11, n_estimators=125 ...............\n",
      "[CV]  learning_rate=0.7, max_depth=11, n_estimators=125, score=0.18138255188193794, total=  12.9s\n",
      "[CV] learning_rate=0.7, max_depth=12, n_estimators=75 ................\n",
      "[CV]  learning_rate=0.7, max_depth=12, n_estimators=75, score=0.1824998222368239, total=   7.4s\n",
      "[CV] learning_rate=0.7, max_depth=12, n_estimators=75 ................\n",
      "[CV]  learning_rate=0.7, max_depth=12, n_estimators=75, score=0.17712339392423973, total=   8.8s\n",
      "[CV] learning_rate=0.7, max_depth=12, n_estimators=75 ................\n",
      "[CV]  learning_rate=0.7, max_depth=12, n_estimators=75, score=0.18285183666518426, total=   8.9s\n",
      "[CV] learning_rate=0.7, max_depth=12, n_estimators=100 ...............\n",
      "[CV]  learning_rate=0.7, max_depth=12, n_estimators=100, score=0.18344100536251315, total=  11.0s\n",
      "[CV] learning_rate=0.7, max_depth=12, n_estimators=100 ...............\n",
      "[CV]  learning_rate=0.7, max_depth=12, n_estimators=100, score=0.174101695746087, total=  10.8s\n",
      "[CV] learning_rate=0.7, max_depth=12, n_estimators=100 ...............\n",
      "[CV]  learning_rate=0.7, max_depth=12, n_estimators=100, score=0.18048804477974179, total=  11.6s\n",
      "[CV] learning_rate=0.7, max_depth=12, n_estimators=125 ...............\n",
      "[CV]  learning_rate=0.7, max_depth=12, n_estimators=125, score=0.18339434504375898, total=  12.6s\n",
      "[CV] learning_rate=0.7, max_depth=12, n_estimators=125 ...............\n",
      "[CV]  learning_rate=0.7, max_depth=12, n_estimators=125, score=0.17758850499833054, total=  14.1s\n",
      "[CV] learning_rate=0.7, max_depth=12, n_estimators=125 ...............\n",
      "[CV]  learning_rate=0.7, max_depth=12, n_estimators=125, score=0.17899973019874915, total=  13.5s\n",
      "[CV] learning_rate=0.7, max_depth=13, n_estimators=75 ................\n",
      "[CV]  learning_rate=0.7, max_depth=13, n_estimators=75, score=0.1774103567739361, total=   7.9s\n",
      "[CV] learning_rate=0.7, max_depth=13, n_estimators=75 ................\n",
      "[CV]  learning_rate=0.7, max_depth=13, n_estimators=75, score=0.17417505376216677, total=   8.1s\n",
      "[CV] learning_rate=0.7, max_depth=13, n_estimators=75 ................\n",
      "[CV]  learning_rate=0.7, max_depth=13, n_estimators=75, score=0.18313161998994557, total=   8.4s\n",
      "[CV] learning_rate=0.7, max_depth=13, n_estimators=100 ...............\n",
      "[CV]  learning_rate=0.7, max_depth=13, n_estimators=100, score=0.17994845097734127, total=  11.0s\n",
      "[CV] learning_rate=0.7, max_depth=13, n_estimators=100 ...............\n",
      "[CV]  learning_rate=0.7, max_depth=13, n_estimators=100, score=0.1761695477385269, total=  10.7s\n",
      "[CV] learning_rate=0.7, max_depth=13, n_estimators=100 ...............\n",
      "[CV]  learning_rate=0.7, max_depth=13, n_estimators=100, score=0.1822786982774733, total=  10.7s\n",
      "[CV] learning_rate=0.7, max_depth=13, n_estimators=125 ...............\n",
      "[CV]  learning_rate=0.7, max_depth=13, n_estimators=125, score=0.18556964768063697, total=  13.8s\n",
      "[CV] learning_rate=0.7, max_depth=13, n_estimators=125 ...............\n",
      "[CV]  learning_rate=0.7, max_depth=13, n_estimators=125, score=0.17842305390926916, total=  13.0s\n",
      "[CV] learning_rate=0.7, max_depth=13, n_estimators=125 ...............\n",
      "[CV]  learning_rate=0.7, max_depth=13, n_estimators=125, score=0.1814415243851016, total=  13.9s\n",
      "[CV] learning_rate=0.7, max_depth=14, n_estimators=75 ................\n",
      "[CV]  learning_rate=0.7, max_depth=14, n_estimators=75, score=0.18941374630814925, total=   7.5s\n",
      "[CV] learning_rate=0.7, max_depth=14, n_estimators=75 ................\n",
      "[CV]  learning_rate=0.7, max_depth=14, n_estimators=75, score=0.17505128423778601, total=   8.9s\n",
      "[CV] learning_rate=0.7, max_depth=14, n_estimators=75 ................\n",
      "[CV]  learning_rate=0.7, max_depth=14, n_estimators=75, score=0.17950523372070704, total=   8.2s\n",
      "[CV] learning_rate=0.7, max_depth=14, n_estimators=100 ...............\n",
      "[CV]  learning_rate=0.7, max_depth=14, n_estimators=100, score=0.1899164708207101, total=  11.2s\n",
      "[CV] learning_rate=0.7, max_depth=14, n_estimators=100 ...............\n",
      "[CV]  learning_rate=0.7, max_depth=14, n_estimators=100, score=0.17652072333908095, total=  10.6s\n",
      "[CV] learning_rate=0.7, max_depth=14, n_estimators=100 ...............\n",
      "[CV]  learning_rate=0.7, max_depth=14, n_estimators=100, score=0.176049882069935, total=  10.4s\n",
      "[CV] learning_rate=0.7, max_depth=14, n_estimators=125 ...............\n",
      "[CV]  learning_rate=0.7, max_depth=14, n_estimators=125, score=0.18727199268754213, total=  13.7s\n",
      "[CV] learning_rate=0.7, max_depth=14, n_estimators=125 ...............\n",
      "[CV]  learning_rate=0.7, max_depth=14, n_estimators=125, score=0.17396602366364533, total=  13.6s\n",
      "[CV] learning_rate=0.7, max_depth=14, n_estimators=125 ...............\n",
      "[CV]  learning_rate=0.7, max_depth=14, n_estimators=125, score=0.17452048878863927, total=  13.0s\n",
      "[CV] learning_rate=0.7, max_depth=15, n_estimators=75 ................\n",
      "[CV]  learning_rate=0.7, max_depth=15, n_estimators=75, score=0.18372985300381098, total=   8.8s\n",
      "[CV] learning_rate=0.7, max_depth=15, n_estimators=75 ................\n",
      "[CV]  learning_rate=0.7, max_depth=15, n_estimators=75, score=0.17439574385923137, total=   7.6s\n",
      "[CV] learning_rate=0.7, max_depth=15, n_estimators=75 ................\n",
      "[CV]  learning_rate=0.7, max_depth=15, n_estimators=75, score=0.18486645688057043, total=   8.4s\n",
      "[CV] learning_rate=0.7, max_depth=15, n_estimators=100 ...............\n",
      "[CV]  learning_rate=0.7, max_depth=15, n_estimators=100, score=0.18071998058910746, total=  10.1s\n",
      "[CV] learning_rate=0.7, max_depth=15, n_estimators=100 ...............\n",
      "[CV]  learning_rate=0.7, max_depth=15, n_estimators=100, score=0.17690152973101822, total=  12.2s\n",
      "[CV] learning_rate=0.7, max_depth=15, n_estimators=100 ...............\n",
      "[CV]  learning_rate=0.7, max_depth=15, n_estimators=100, score=0.18294603754957403, total=  10.7s\n",
      "[CV] learning_rate=0.7, max_depth=15, n_estimators=125 ...............\n",
      "[CV]  learning_rate=0.7, max_depth=15, n_estimators=125, score=0.18067250605622373, total=  13.7s\n",
      "[CV] learning_rate=0.7, max_depth=15, n_estimators=125 ...............\n",
      "[CV]  learning_rate=0.7, max_depth=15, n_estimators=125, score=0.17852055592383453, total=  14.1s\n",
      "[CV] learning_rate=0.7, max_depth=15, n_estimators=125 ...............\n",
      "[CV]  learning_rate=0.7, max_depth=15, n_estimators=125, score=0.1865228724790203, total=  13.4s\n"
     ]
    },
    {
     "name": "stderr",
     "output_type": "stream",
     "text": [
      "[Parallel(n_jobs=1)]: Done 252 out of 252 | elapsed: 58.3min finished\n"
     ]
    },
    {
     "name": "stdout",
     "output_type": "stream",
     "text": [
      "Wall time: 58min 28s\n",
      "Best params are: {'learning_rate': 0.3, 'max_depth': 15, 'n_estimators': 75} \n",
      "\n",
      "              precision    recall  f1-score   support\n",
      "\n",
      "        Bear       0.00      0.00      0.00        29\n",
      "        Bull       0.17      0.07      0.10        15\n",
      "     S. Bear       0.30      0.11      0.16        56\n",
      "     S. Bull       0.14      0.15      0.15        27\n",
      "     W. Bear       0.35      0.43      0.39        97\n",
      "     W. Bull       0.20      0.40      0.27        48\n",
      "\n",
      "   micro avg       0.26      0.26      0.26       272\n",
      "   macro avg       0.19      0.19      0.18       272\n",
      "weighted avg       0.25      0.26      0.24       272\n",
      "\n"
     ]
    }
   ],
   "source": [
    "%time light.fit(features_train.values, target_train.values)\n",
    "print('Best params are:', light.best_params_, '\\n')\n",
    "light_best = lgb.LGBMClassifier(**light.best_params_)\n",
    "light_best.fit(features_train.values, target_train.values)\n",
    "print(classification_report(target_test.values, light_best.predict(features_test.values)))"
   ]
  },
  {
   "cell_type": "code",
   "execution_count": null,
   "metadata": {},
   "outputs": [],
   "source": []
  }
 ],
 "metadata": {
  "kernelspec": {
   "display_name": "Python 3",
   "language": "python",
   "name": "python3"
  },
  "language_info": {
   "codemirror_mode": {
    "name": "ipython",
    "version": 3
   },
   "file_extension": ".py",
   "mimetype": "text/x-python",
   "name": "python",
   "nbconvert_exporter": "python",
   "pygments_lexer": "ipython3",
   "version": "3.7.1"
  }
 },
 "nbformat": 4,
 "nbformat_minor": 2
}
