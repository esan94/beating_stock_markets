{
 "cells": [
  {
   "cell_type": "markdown",
   "metadata": {},
   "source": [
    "# Financial Model Prediction"
   ]
  },
  {
   "cell_type": "code",
   "execution_count": 1,
   "metadata": {},
   "outputs": [
    {
     "name": "stderr",
     "output_type": "stream",
     "text": [
      "C:\\Users\\esteb\\Anaconda3\\lib\\site-packages\\sklearn\\ensemble\\weight_boosting.py:29: DeprecationWarning: numpy.core.umath_tests is an internal NumPy module and should not be imported. It will be removed in a future NumPy release.\n",
      "  from numpy.core.umath_tests import inner1d\n"
     ]
    }
   ],
   "source": [
    "import pandas as pd\n",
    "import numpy as np\n",
    "import seaborn as sbn\n",
    "import re\n",
    "\n",
    "import warnings\n",
    "warnings.filterwarnings('ignore')\n",
    "\n",
    "import matplotlib.pyplot as plt\n",
    "\n",
    "from sklearn.model_selection import train_test_split, GridSearchCV\n",
    "from sklearn.neighbors import KNeighborsClassifier\n",
    "from sklearn.tree import DecisionTreeClassifier\n",
    "from sklearn.ensemble import RandomForestClassifier\n",
    "from sklearn.preprocessing import RobustScaler, OneHotEncoder\n",
    "from sklearn.metrics import classification_report\n",
    "from sklearn.decomposition import PCA\n",
    "\n",
    "import lightgbm as lgb\n",
    "\n",
    "%matplotlib inline"
   ]
  },
  {
   "cell_type": "code",
   "execution_count": 2,
   "metadata": {},
   "outputs": [],
   "source": [
    "def add_shifts(df_, col_to_shift, new_col, shift):\n",
    "    \"\"\"\n",
    "    This function add shifted columns to data by ticker.\n",
    "    \n",
    "    :param pd.DataFrame df_: Dataframe with financial data.\n",
    "    :param str col_to_shift: Column over to create the shift.\n",
    "    :param str new_col: Name of the shifted column.\n",
    "    :param int shift: Days to use as shift.\n",
    "    :return pd.DataFrame: Dataframe with the shift added.\n",
    "    \"\"\"\n",
    "    \n",
    "    for id_ in df_['ticker'].unique():\n",
    "        df_by_id = df_[df_['ticker'] == id_]\n",
    "        df_.loc[df_['ticker'] == id_, new_col] = df_by_id[col_to_shift] - df_by_id[col_to_shift].shift(shift)\n",
    "        \n",
    "    return df_"
   ]
  },
  {
   "cell_type": "code",
   "execution_count": 29,
   "metadata": {},
   "outputs": [],
   "source": [
    "def get_non_n_cols(df_, n):\n",
    "    \"\"\"\n",
    "    Get the columns that his window is not n days\n",
    "    \n",
    "    :param pd.DataFrame df_: Dataframe with financial data.\n",
    "    :param int n: n days to get columns with.\n",
    "    :return list: List with the name of the columns.\n",
    "    \"\"\"\n",
    "    \n",
    "    return [elem for elem in df_.columns if (re.search(r'\\d+$', elem) is not None) and (int(elem[-2:].strip().strip('_')) < n)]"
   ]
  },
  {
   "cell_type": "code",
   "execution_count": 4,
   "metadata": {},
   "outputs": [],
   "source": [
    "def interpolate_nan_values(df_, to_interpolate):\n",
    "    \"\"\"\n",
    "    Interpolate and extrapolate nan values for numerical columns.\n",
    "    \n",
    "    :param pd.DataFrame df_: Dataframe with financial data with NaN values.\n",
    "    :param list to_interpolate: List with columns to interpolate.\n",
    "    :return pd.DataFrame: Dataframe with financial data without NaN values.\n",
    "    \"\"\"\n",
    "    \n",
    "    list_df = []\n",
    "    for tick in df_['ticker'].unique():\n",
    "        df_by_ticker = df_[df_['ticker'] == tick]\n",
    "        for col in to_interpolate:\n",
    "            df_by_ticker[col] = df_by_ticker[col].interpolate(method='linear', limit_direction='both')\n",
    "        list_df.append(df_by_ticker)\n",
    "    return pd.concat(list_df)"
   ]
  },
  {
   "cell_type": "code",
   "execution_count": 5,
   "metadata": {},
   "outputs": [],
   "source": [
    "def categorize_each_difference(num_list, df_):\n",
    "    \"\"\"\n",
    "    This function categorize the shifted columns in Weak Bull o Bear (W. Bull, W. Bear), \n",
    "    Bull or Bear and Strong Bull or Bear (S. Bull, S. Bear) depending on the value of the shifted column and\n",
    "    his statistics (median, p25, p75) by ticker, year, month and sign.\n",
    "    \n",
    "    :param list num_list: List with days to categorize.\n",
    "    :param pd.DataFrame df_: Dataframe to categorize.\n",
    "    :return pd.DataFrame: Dataframe recalculated.\n",
    "    \"\"\"\n",
    "    cols_to_keep = list(df_.columns)\n",
    "    df_['year'], df_['month'] = df_['date'].dt.year, df_['date'].dt.month\n",
    "    for num_ in num_list:\n",
    "        df_.loc[df_['close_shifted_%i' % num_] >= 0, 'sign_%i' % num_] = 'Bull'\n",
    "        df_.loc[df_['close_shifted_%i' % num_] < 0, 'sign_%i' % num_] = 'Bear'\n",
    "        group = df_.groupby(['ticker', 'year', 'month', 'sign_%i' % num_])['close_shifted_%i' % num_].describe()\n",
    "        group = group[['25%', '50%', '75%', 'std']].reset_index()\n",
    "        group.rename({'std': 'std_%i' % num_}, axis='columns', inplace=True)\n",
    "        df_ = pd.merge(left=df_, right=group, on=['ticker', 'year', 'month', 'sign_%i' % num_], how='inner')\n",
    "        \n",
    "        df_.loc[(df_['sign_%i' % num_] == 'Bull') & \n",
    "                (df_['close_shifted_%i' % num_] <= df_['50%']), 'cat_close_shifted_%i' % num_] = 'W. ' + df_['sign_%i' % num_]\n",
    "        df_.loc[(df_['sign_%i' % num_] == 'Bull') & \n",
    "                   (df_['close_shifted_%i' % num_] > df_['50%']) &\n",
    "                   (df_['close_shifted_%i' % num_] < df_['75%']), 'cat_close_shifted_%i' % num_] = df_['sign_%i' % num_]\n",
    "        df_.loc[(df_['sign_%i' % num_] == 'Bull') &\n",
    "                   (df_['close_shifted_%i' % num_] >= df_['75%']), 'cat_close_shifted_%i' % num_] = 'S. ' + df_['sign_%i' % num_]\n",
    "        df_.loc[(df_['sign_%i' % num_] == 'Bear') & \n",
    "                (df_['close_shifted_%i' % num_] >= df_['50%']), 'cat_close_shifted_%i' % num_] = 'W. ' + df_['sign_%i' % num_]\n",
    "        df_.loc[(df_['sign_%i' % num_] == 'Bear') & \n",
    "                   (df_['close_shifted_%i' % num_] < df_['50%']) &\n",
    "                   (df_['close_shifted_%i' % num_] > df_['25%']), 'cat_close_shifted_%i' % num_] = df_['sign_%i' % num_]\n",
    "        df_.loc[(df_['sign_%i' % num_] == 'Bear') & \n",
    "                   (df_['close_shifted_%i' % num_] <= df_['25%']), 'cat_close_shifted_%i' % num_] = 'S. ' + df_['sign_%i' % num_]\n",
    "        \n",
    "        df_.drop(['25%', '50%', '75%'], axis='columns', inplace=True)\n",
    "        cols_to_keep.extend(['cat_close_shifted_%i' % num_, 'std_%i' % num_])\n",
    "    return df_[cols_to_keep]"
   ]
  },
  {
   "cell_type": "code",
   "execution_count": 6,
   "metadata": {},
   "outputs": [],
   "source": [
    "df_categorical = pd.read_csv('../data/db_bsm_categorical.csv')\n",
    "df_financial = pd.read_csv('../data/db_bsm_financial.csv')"
   ]
  },
  {
   "cell_type": "code",
   "execution_count": 7,
   "metadata": {},
   "outputs": [
    {
     "data": {
      "text/html": [
       "<div>\n",
       "<style scoped>\n",
       "    .dataframe tbody tr th:only-of-type {\n",
       "        vertical-align: middle;\n",
       "    }\n",
       "\n",
       "    .dataframe tbody tr th {\n",
       "        vertical-align: top;\n",
       "    }\n",
       "\n",
       "    .dataframe thead th {\n",
       "        text-align: right;\n",
       "    }\n",
       "</style>\n",
       "<table border=\"1\" class=\"dataframe\">\n",
       "  <thead>\n",
       "    <tr style=\"text-align: right;\">\n",
       "      <th></th>\n",
       "      <th>Null Values</th>\n",
       "    </tr>\n",
       "  </thead>\n",
       "  <tbody>\n",
       "    <tr>\n",
       "      <th>close</th>\n",
       "      <td>1081</td>\n",
       "    </tr>\n",
       "    <tr>\n",
       "      <th>volume</th>\n",
       "      <td>1996</td>\n",
       "    </tr>\n",
       "  </tbody>\n",
       "</table>\n",
       "</div>"
      ],
      "text/plain": [
       "        Null Values\n",
       "close          1081\n",
       "volume         1996"
      ]
     },
     "execution_count": 7,
     "metadata": {},
     "output_type": "execute_result"
    }
   ],
   "source": [
    "df_financial.replace(0, np.NaN, inplace=True)\n",
    "df_financial.isnull().sum().to_frame('Null Values').loc[['close', 'volume']]"
   ]
  },
  {
   "cell_type": "code",
   "execution_count": 8,
   "metadata": {},
   "outputs": [],
   "source": [
    "df_financial_not_nan = interpolate_nan_values(df_financial, ['close', 'volume'])"
   ]
  },
  {
   "cell_type": "code",
   "execution_count": 9,
   "metadata": {},
   "outputs": [
    {
     "data": {
      "text/html": [
       "<div>\n",
       "<style scoped>\n",
       "    .dataframe tbody tr th:only-of-type {\n",
       "        vertical-align: middle;\n",
       "    }\n",
       "\n",
       "    .dataframe tbody tr th {\n",
       "        vertical-align: top;\n",
       "    }\n",
       "\n",
       "    .dataframe thead th {\n",
       "        text-align: right;\n",
       "    }\n",
       "</style>\n",
       "<table border=\"1\" class=\"dataframe\">\n",
       "  <thead>\n",
       "    <tr style=\"text-align: right;\">\n",
       "      <th></th>\n",
       "      <th>Null Values</th>\n",
       "    </tr>\n",
       "  </thead>\n",
       "  <tbody>\n",
       "    <tr>\n",
       "      <th>close</th>\n",
       "      <td>0</td>\n",
       "    </tr>\n",
       "    <tr>\n",
       "      <th>volume</th>\n",
       "      <td>0</td>\n",
       "    </tr>\n",
       "  </tbody>\n",
       "</table>\n",
       "</div>"
      ],
      "text/plain": [
       "        Null Values\n",
       "close             0\n",
       "volume            0"
      ]
     },
     "execution_count": 9,
     "metadata": {},
     "output_type": "execute_result"
    }
   ],
   "source": [
    "df_financial_not_nan.isnull().sum().to_frame('Null Values').loc[['close', 'volume']]"
   ]
  },
  {
   "cell_type": "code",
   "execution_count": 10,
   "metadata": {},
   "outputs": [],
   "source": [
    "num_list = [3, 5, 7, 14, 21]"
   ]
  },
  {
   "cell_type": "code",
   "execution_count": 11,
   "metadata": {},
   "outputs": [],
   "source": [
    "for num_ in num_list:\n",
    "    df_fin = add_shifts(df_financial_not_nan, 'close', 'close_shifted_%i' % num_, num_)"
   ]
  },
  {
   "cell_type": "code",
   "execution_count": 12,
   "metadata": {},
   "outputs": [],
   "source": [
    "df_fin.dropna(subset=['close_shifted_21'], inplace=True)"
   ]
  },
  {
   "cell_type": "code",
   "execution_count": 13,
   "metadata": {},
   "outputs": [],
   "source": [
    "df_fin_not_nan = interpolate_nan_values(df_fin, list(df_fin.select_dtypes(float)))"
   ]
  },
  {
   "cell_type": "code",
   "execution_count": 14,
   "metadata": {},
   "outputs": [
    {
     "data": {
      "text/html": [
       "<div>\n",
       "<style scoped>\n",
       "    .dataframe tbody tr th:only-of-type {\n",
       "        vertical-align: middle;\n",
       "    }\n",
       "\n",
       "    .dataframe tbody tr th {\n",
       "        vertical-align: top;\n",
       "    }\n",
       "\n",
       "    .dataframe thead th {\n",
       "        text-align: right;\n",
       "    }\n",
       "</style>\n",
       "<table border=\"1\" class=\"dataframe\">\n",
       "  <thead>\n",
       "    <tr style=\"text-align: right;\">\n",
       "      <th></th>\n",
       "      <th>Null Values</th>\n",
       "    </tr>\n",
       "  </thead>\n",
       "  <tbody>\n",
       "    <tr>\n",
       "      <th>ADX 14</th>\n",
       "      <td>0</td>\n",
       "    </tr>\n",
       "    <tr>\n",
       "      <th>RSI 21</th>\n",
       "      <td>0</td>\n",
       "    </tr>\n",
       "    <tr>\n",
       "      <th>ROCR 14</th>\n",
       "      <td>0</td>\n",
       "    </tr>\n",
       "  </tbody>\n",
       "</table>\n",
       "</div>"
      ],
      "text/plain": [
       "         Null Values\n",
       "ADX 14             0\n",
       "RSI 21             0\n",
       "ROCR 14            0"
      ]
     },
     "execution_count": 14,
     "metadata": {},
     "output_type": "execute_result"
    }
   ],
   "source": [
    "df_fin_not_nan.isnull().sum().to_frame('Null Values').sort_values(by='Null Values', ascending=False).head(3)"
   ]
  },
  {
   "cell_type": "code",
   "execution_count": 15,
   "metadata": {},
   "outputs": [],
   "source": [
    "df_fin_not_nan['date'] = pd.to_datetime(df_fin_not_nan['date'])"
   ]
  },
  {
   "cell_type": "code",
   "execution_count": 16,
   "metadata": {},
   "outputs": [
    {
     "name": "stdout",
     "output_type": "stream",
     "text": [
      "Wall time: 13min 46s\n"
     ]
    }
   ],
   "source": [
    "%time df_final = categorize_each_difference(num_list, df_fin_not_nan)"
   ]
  },
  {
   "cell_type": "code",
   "execution_count": 17,
   "metadata": {},
   "outputs": [],
   "source": [
    "df_categorical = df_categorical.dropna()\n",
    "df_categorical = df_categorical.drop_duplicates(subset=['ticker'], keep='first')"
   ]
  },
  {
   "cell_type": "code",
   "execution_count": 18,
   "metadata": {},
   "outputs": [],
   "source": [
    "df_final = pd.merge(left=df_final, right=df_categorical, how='inner', on='ticker')"
   ]
  },
  {
   "cell_type": "code",
   "execution_count": 19,
   "metadata": {},
   "outputs": [
    {
     "data": {
      "text/plain": [
       "array(['Financials', 'Consumer discretionary', 'Communication services',\n",
       "       'Energy', 'Industrials', 'Healthcare', 'Information technology',\n",
       "       'Consumer staples', 'Utilities'], dtype=object)"
      ]
     },
     "execution_count": 19,
     "metadata": {},
     "output_type": "execute_result"
    }
   ],
   "source": [
    "df_final['sector_gics'].unique()"
   ]
  },
  {
   "cell_type": "code",
   "execution_count": 23,
   "metadata": {},
   "outputs": [],
   "source": [
    "# %time df_final = pd.get_dummies(df_final, columns='sector_gics', prefix='sector_gics_')"
   ]
  },
  {
   "cell_type": "code",
   "execution_count": 24,
   "metadata": {},
   "outputs": [],
   "source": [
    "# df_final.loc[df_final['sector_gics'] == 'Utilities', 'sector_gics_Utilities'] = 1\n",
    "# df_final.loc[df_final['sector_gics'] == 'Healthcare', 'sector_gics_Heatlhcare'] = 1\n",
    "# df_final.loc[df_final['sector_gics'] == 'Financials', 'sector_gics_Financials'] = 1\n",
    "# df_final.loc[df_final['sector_gics'] == 'Consumer discretionary', 'sector_gics_Consumer_discretionary'] = 1\n",
    "# df_final.loc[df_final['sector_gics'] == 'Communication services', 'sector_gics_Communication_services'] = 1\n",
    "# df_final.loc[df_final['sector_gics'] == 'Energy', 'sector_gics_Energy'] = 1\n",
    "# df_final.loc[df_final['sector_gics'] == 'Industrials', 'sector_gics_Industrials'] = 1\n",
    "# df_final.loc[df_final['sector_gics'] == 'Information technology', 'sector_gics_Information_technology'] = 1\n",
    "# df_final.loc[df_final['sector_gics'] == 'Consumer staples', 'sector_gics_Consumer_staples'] = 1"
   ]
  },
  {
   "cell_type": "code",
   "execution_count": 25,
   "metadata": {},
   "outputs": [],
   "source": [
    "# df_final[['sector_gics_Utilities', 'sector_gics_Heatlhcare',\n",
    "#           'sector_gics_Financials', 'sector_gics_Consumer_discretionary',\n",
    "#           'sector_gics_Communication_services', 'sector_gics_Energy',\n",
    "#           'sector_gics_Industrials', 'sector_gics_Information_technology',\n",
    "#           'sector_gics_Consumer_staples']] = df_final[['sector_gics_Utilities', 'sector_gics_Heatlhcare',\n",
    "#           'sector_gics_Financials', 'sector_gics_Consumer_discretionary',\n",
    "#           'sector_gics_Communication_services', 'sector_gics_Energy',\n",
    "#           'sector_gics_Industrials', 'sector_gics_Information_technology',\n",
    "#           'sector_gics_Consumer_staples']].replace(np.NaN, 0)"
   ]
  },
  {
   "cell_type": "code",
   "execution_count": 39,
   "metadata": {},
   "outputs": [],
   "source": [
    "df_final = df_final.dropna()"
   ]
  },
  {
   "cell_type": "code",
   "execution_count": 40,
   "metadata": {},
   "outputs": [],
   "source": [
    "df_final_train = df_final[df_final['date'].dt.year < 2019]\n",
    "df_final_test = df_final[df_final['date'].dt.year >= 2019]"
   ]
  },
  {
   "cell_type": "markdown",
   "metadata": {},
   "source": [
    "# Inforation Tech"
   ]
  },
  {
   "cell_type": "code",
   "execution_count": 47,
   "metadata": {},
   "outputs": [],
   "source": [
    "df_final_train_inf_tech = df_final_train[df_final_train['sector_gics'] == 'Information technology']\n",
    "df_final_test_inf_tech = df_final_test[df_final_test['sector_gics'] == 'Information technology']"
   ]
  },
  {
   "cell_type": "code",
   "execution_count": 48,
   "metadata": {},
   "outputs": [],
   "source": [
    "df_final_train_inf_tech_filt = df_final_train_inf_tech"
   ]
  },
  {
   "cell_type": "code",
   "execution_count": 49,
   "metadata": {},
   "outputs": [],
   "source": [
    "list_to_drop = get_non_n_cols(df_final_train_inf_tech_filt, 7)"
   ]
  },
  {
   "cell_type": "code",
   "execution_count": 50,
   "metadata": {},
   "outputs": [],
   "source": [
    "df_final_train_inf_tech_filt.drop(list_to_drop, axis='columns', inplace=True)\n",
    "df_final_test_inf_tech.drop(list_to_drop, axis='columns', inplace=True)"
   ]
  },
  {
   "cell_type": "markdown",
   "metadata": {},
   "source": [
    "# 7 Days prediction"
   ]
  },
  {
   "cell_type": "code",
   "execution_count": 51,
   "metadata": {},
   "outputs": [],
   "source": [
    "target_train = df_final_train_inf_tech_filt['cat_close_shifted_7']\n",
    "features_train = df_final_train_inf_tech_filt[df_final_train_inf_tech_filt.select_dtypes(float).columns]\n",
    "features_test = df_final_test_inf_tech[df_final_test_inf_tech.select_dtypes(float).columns]\n",
    "target_test = df_final_test_inf_tech['cat_close_shifted_7']"
   ]
  },
  {
   "cell_type": "code",
   "execution_count": 52,
   "metadata": {},
   "outputs": [
    {
     "name": "stdout",
     "output_type": "stream",
     "text": [
      "Fitting 5 folds for each of 44 candidates, totalling 220 fits\n",
      "[CV] max_depth=7, n_estimators=10 ....................................\n",
      "[CV]  max_depth=7, n_estimators=10, score=0.533663419280502, total=   3.3s\n",
      "[CV] max_depth=7, n_estimators=10 ....................................\n"
     ]
    },
    {
     "name": "stderr",
     "output_type": "stream",
     "text": [
      "[Parallel(n_jobs=1)]: Done   1 out of   1 | elapsed:    3.5s remaining:    0.0s\n"
     ]
    },
    {
     "name": "stdout",
     "output_type": "stream",
     "text": [
      "[CV]  max_depth=7, n_estimators=10, score=0.5318872924066862, total=   3.0s\n",
      "[CV] max_depth=7, n_estimators=10 ....................................\n"
     ]
    },
    {
     "name": "stderr",
     "output_type": "stream",
     "text": [
      "[Parallel(n_jobs=1)]: Done   2 out of   2 | elapsed:    6.9s remaining:    0.0s\n"
     ]
    },
    {
     "name": "stdout",
     "output_type": "stream",
     "text": [
      "[CV]  max_depth=7, n_estimators=10, score=0.5285016028267123, total=   3.0s\n",
      "[CV] max_depth=7, n_estimators=10 ....................................\n"
     ]
    },
    {
     "name": "stderr",
     "output_type": "stream",
     "text": [
      "[Parallel(n_jobs=1)]: Done   3 out of   3 | elapsed:   10.2s remaining:    0.0s\n"
     ]
    },
    {
     "name": "stdout",
     "output_type": "stream",
     "text": [
      "[CV]  max_depth=7, n_estimators=10, score=0.5328195251988442, total=   3.2s\n",
      "[CV] max_depth=7, n_estimators=10 ....................................\n"
     ]
    },
    {
     "name": "stderr",
     "output_type": "stream",
     "text": [
      "[Parallel(n_jobs=1)]: Done   4 out of   4 | elapsed:   13.7s remaining:    0.0s\n"
     ]
    },
    {
     "name": "stdout",
     "output_type": "stream",
     "text": [
      "[CV]  max_depth=7, n_estimators=10, score=0.5283981382590321, total=   3.1s\n",
      "[CV] max_depth=7, n_estimators=11 ....................................\n"
     ]
    },
    {
     "name": "stderr",
     "output_type": "stream",
     "text": [
      "[Parallel(n_jobs=1)]: Done   5 out of   5 | elapsed:   17.1s remaining:    0.0s\n"
     ]
    },
    {
     "name": "stdout",
     "output_type": "stream",
     "text": [
      "[CV]  max_depth=7, n_estimators=11, score=0.5290952870336657, total=   3.6s\n",
      "[CV] max_depth=7, n_estimators=11 ....................................\n"
     ]
    },
    {
     "name": "stderr",
     "output_type": "stream",
     "text": [
      "[Parallel(n_jobs=1)]: Done   6 out of   6 | elapsed:   21.1s remaining:    0.0s\n"
     ]
    },
    {
     "name": "stdout",
     "output_type": "stream",
     "text": [
      "[CV]  max_depth=7, n_estimators=11, score=0.5250574796857622, total=   3.6s\n",
      "[CV] max_depth=7, n_estimators=11 ....................................\n"
     ]
    },
    {
     "name": "stderr",
     "output_type": "stream",
     "text": [
      "[Parallel(n_jobs=1)]: Done   7 out of   7 | elapsed:   24.9s remaining:    0.0s\n"
     ]
    },
    {
     "name": "stdout",
     "output_type": "stream",
     "text": [
      "[CV]  max_depth=7, n_estimators=11, score=0.5291682547479153, total=   3.5s\n",
      "[CV] max_depth=7, n_estimators=11 ....................................\n"
     ]
    },
    {
     "name": "stderr",
     "output_type": "stream",
     "text": [
      "[Parallel(n_jobs=1)]: Done   8 out of   8 | elapsed:   28.8s remaining:    0.0s\n"
     ]
    },
    {
     "name": "stdout",
     "output_type": "stream",
     "text": [
      "[CV]  max_depth=7, n_estimators=11, score=0.5376368011811351, total=   3.5s\n",
      "[CV] max_depth=7, n_estimators=11 ....................................\n"
     ]
    },
    {
     "name": "stderr",
     "output_type": "stream",
     "text": [
      "[Parallel(n_jobs=1)]: Done   9 out of   9 | elapsed:   32.6s remaining:    0.0s\n"
     ]
    },
    {
     "name": "stdout",
     "output_type": "stream",
     "text": [
      "[CV]  max_depth=7, n_estimators=11, score=0.5261514652584481, total=   3.5s\n",
      "[CV] max_depth=7, n_estimators=12 ....................................\n",
      "[CV]  max_depth=7, n_estimators=12, score=0.5417330823401131, total=   3.7s\n",
      "[CV] max_depth=7, n_estimators=12 ....................................\n",
      "[CV]  max_depth=7, n_estimators=12, score=0.5250548893249803, total=   4.2s\n",
      "[CV] max_depth=7, n_estimators=12 ....................................\n",
      "[CV]  max_depth=7, n_estimators=12, score=0.5207855348574771, total=   3.9s\n",
      "[CV] max_depth=7, n_estimators=12 ....................................\n",
      "[CV]  max_depth=7, n_estimators=12, score=0.5398364380830121, total=   3.9s\n",
      "[CV] max_depth=7, n_estimators=12 ....................................\n",
      "[CV]  max_depth=7, n_estimators=12, score=0.5310183828687846, total=   3.9s\n",
      "[CV] max_depth=7, n_estimators=13 ....................................\n",
      "[CV]  max_depth=7, n_estimators=13, score=0.5327236638738555, total=   4.1s\n",
      "[CV] max_depth=7, n_estimators=13 ....................................\n",
      "[CV]  max_depth=7, n_estimators=13, score=0.5331788700870234, total=   4.2s\n",
      "[CV] max_depth=7, n_estimators=13 ....................................\n",
      "[CV]  max_depth=7, n_estimators=13, score=0.5191436015411992, total=   4.2s\n",
      "[CV] max_depth=7, n_estimators=13 ....................................\n",
      "[CV]  max_depth=7, n_estimators=13, score=0.5441256780719897, total=   4.2s\n",
      "[CV] max_depth=7, n_estimators=13 ....................................\n",
      "[CV]  max_depth=7, n_estimators=13, score=0.5378524715130507, total=   4.1s\n",
      "[CV] max_depth=7, n_estimators=14 ....................................\n",
      "[CV]  max_depth=7, n_estimators=14, score=0.5318080970827274, total=   4.6s\n",
      "[CV] max_depth=7, n_estimators=14 ....................................\n",
      "[CV]  max_depth=7, n_estimators=14, score=0.5228920168902768, total=   4.8s\n",
      "[CV] max_depth=7, n_estimators=14 ....................................\n",
      "[CV]  max_depth=7, n_estimators=14, score=0.5211931679314595, total=   4.3s\n",
      "[CV] max_depth=7, n_estimators=14 ....................................\n",
      "[CV]  max_depth=7, n_estimators=14, score=0.5417695894282917, total=   4.0s\n",
      "[CV] max_depth=7, n_estimators=14 ....................................\n",
      "[CV]  max_depth=7, n_estimators=14, score=0.5394114779244263, total=   4.0s\n",
      "[CV] max_depth=7, n_estimators=15 ....................................\n",
      "[CV]  max_depth=7, n_estimators=15, score=0.5422119398368482, total=   4.3s\n",
      "[CV] max_depth=7, n_estimators=15 ....................................\n",
      "[CV]  max_depth=7, n_estimators=15, score=0.5370498583382189, total=   4.2s\n",
      "[CV] max_depth=7, n_estimators=15 ....................................\n",
      "[CV]  max_depth=7, n_estimators=15, score=0.5154276985034243, total=   4.4s\n",
      "[CV] max_depth=7, n_estimators=15 ....................................\n",
      "[CV]  max_depth=7, n_estimators=15, score=0.5377608446302001, total=   4.5s\n",
      "[CV] max_depth=7, n_estimators=15 ....................................\n",
      "[CV]  max_depth=7, n_estimators=15, score=0.5325725890378185, total=   4.4s\n",
      "[CV] max_depth=7, n_estimators=16 ....................................\n",
      "[CV]  max_depth=7, n_estimators=16, score=0.5312365076022089, total=   4.7s\n",
      "[CV] max_depth=7, n_estimators=16 ....................................\n",
      "[CV]  max_depth=7, n_estimators=16, score=0.5399191634372308, total=   4.6s\n",
      "[CV] max_depth=7, n_estimators=16 ....................................\n",
      "[CV]  max_depth=7, n_estimators=16, score=0.5178920319284489, total=   4.7s\n",
      "[CV] max_depth=7, n_estimators=16 ....................................\n",
      "[CV]  max_depth=7, n_estimators=16, score=0.5402366448451642, total=   4.7s\n",
      "[CV] max_depth=7, n_estimators=16 ....................................\n",
      "[CV]  max_depth=7, n_estimators=16, score=0.5219084903012691, total=   5.1s\n",
      "[CV] max_depth=7, n_estimators=17 ....................................\n",
      "[CV]  max_depth=7, n_estimators=17, score=0.53980503092224, total=   4.9s\n",
      "[CV] max_depth=7, n_estimators=17 ....................................\n",
      "[CV]  max_depth=7, n_estimators=17, score=0.5298230747152107, total=   5.0s\n",
      "[CV] max_depth=7, n_estimators=17 ....................................\n",
      "[CV]  max_depth=7, n_estimators=17, score=0.5239648115230243, total=   5.1s\n",
      "[CV] max_depth=7, n_estimators=17 ....................................\n",
      "[CV]  max_depth=7, n_estimators=17, score=0.5339341945853581, total=   4.9s\n",
      "[CV] max_depth=7, n_estimators=17 ....................................\n",
      "[CV]  max_depth=7, n_estimators=17, score=0.5331844871153882, total=   4.8s\n",
      "[CV] max_depth=7, n_estimators=18 ....................................\n",
      "[CV]  max_depth=7, n_estimators=18, score=0.536755845137332, total=   5.2s\n",
      "[CV] max_depth=7, n_estimators=18 ....................................\n",
      "[CV]  max_depth=7, n_estimators=18, score=0.5266407640679984, total=   5.2s\n",
      "[CV] max_depth=7, n_estimators=18 ....................................\n",
      "[CV]  max_depth=7, n_estimators=18, score=0.5248513206898893, total=   5.1s\n",
      "[CV] max_depth=7, n_estimators=18 ....................................\n",
      "[CV]  max_depth=7, n_estimators=18, score=0.5398817889617394, total=   5.2s\n",
      "[CV] max_depth=7, n_estimators=18 ....................................\n",
      "[CV]  max_depth=7, n_estimators=18, score=0.5350574276147996, total=   5.3s\n",
      "[CV] max_depth=7, n_estimators=19 ....................................\n",
      "[CV]  max_depth=7, n_estimators=19, score=0.541748428197566, total=   5.3s\n",
      "[CV] max_depth=7, n_estimators=19 ....................................\n",
      "[CV]  max_depth=7, n_estimators=19, score=0.5301378909172844, total=   5.6s\n",
      "[CV] max_depth=7, n_estimators=19 ....................................\n",
      "[CV]  max_depth=7, n_estimators=19, score=0.5194987077543533, total=   5.5s\n",
      "[CV] max_depth=7, n_estimators=19 ....................................\n",
      "[CV]  max_depth=7, n_estimators=19, score=0.5432653151115353, total=   5.5s\n",
      "[CV] max_depth=7, n_estimators=19 ....................................\n",
      "[CV]  max_depth=7, n_estimators=19, score=0.5367830395024208, total=   5.5s\n",
      "[CV] max_depth=7, n_estimators=20 ....................................\n",
      "[CV]  max_depth=7, n_estimators=20, score=0.5354382659615454, total=   6.0s\n",
      "[CV] max_depth=7, n_estimators=20 ....................................\n",
      "[CV]  max_depth=7, n_estimators=20, score=0.5299053339673949, total=   5.8s\n",
      "[CV] max_depth=7, n_estimators=20 ....................................\n",
      "[CV]  max_depth=7, n_estimators=20, score=0.528658790879808, total=   5.8s\n",
      "[CV] max_depth=7, n_estimators=20 ....................................\n",
      "[CV]  max_depth=7, n_estimators=20, score=0.5312104113997006, total=   5.8s\n",
      "[CV] max_depth=7, n_estimators=20 ....................................\n",
      "[CV]  max_depth=7, n_estimators=20, score=0.5322576265828594, total=   5.7s\n",
      "[CV] max_depth=12, n_estimators=10 ...................................\n",
      "[CV]  max_depth=12, n_estimators=10, score=0.5710565857187289, total=   4.2s\n",
      "[CV] max_depth=12, n_estimators=10 ...................................\n",
      "[CV]  max_depth=12, n_estimators=10, score=0.5620936099075372, total=   4.2s\n",
      "[CV] max_depth=12, n_estimators=10 ...................................\n",
      "[CV]  max_depth=12, n_estimators=10, score=0.5619604458319934, total=   4.0s\n",
      "[CV] max_depth=12, n_estimators=10 ...................................\n",
      "[CV]  max_depth=12, n_estimators=10, score=0.5805896708592431, total=   4.3s\n",
      "[CV] max_depth=12, n_estimators=10 ...................................\n",
      "[CV]  max_depth=12, n_estimators=10, score=0.5677185497377336, total=   4.1s\n",
      "[CV] max_depth=12, n_estimators=11 ...................................\n",
      "[CV]  max_depth=12, n_estimators=11, score=0.5799728698433315, total=   4.4s\n",
      "[CV] max_depth=12, n_estimators=11 ...................................\n",
      "[CV]  max_depth=12, n_estimators=11, score=0.5680629513575909, total=   4.5s\n",
      "[CV] max_depth=12, n_estimators=11 ...................................\n",
      "[CV]  max_depth=12, n_estimators=11, score=0.5628111985957881, total=   4.5s\n",
      "[CV] max_depth=12, n_estimators=11 ...................................\n",
      "[CV]  max_depth=12, n_estimators=11, score=0.5712540436484953, total=   4.7s\n",
      "[CV] max_depth=12, n_estimators=11 ...................................\n",
      "[CV]  max_depth=12, n_estimators=11, score=0.5736311644071157, total=   4.6s\n",
      "[CV] max_depth=12, n_estimators=12 ...................................\n",
      "[CV]  max_depth=12, n_estimators=12, score=0.5726129730973623, total=   5.1s\n",
      "[CV] max_depth=12, n_estimators=12 ...................................\n",
      "[CV]  max_depth=12, n_estimators=12, score=0.5783580222210661, total=   5.0s\n",
      "[CV] max_depth=12, n_estimators=12 ...................................\n",
      "[CV]  max_depth=12, n_estimators=12, score=0.5599011116031564, total=   4.9s\n",
      "[CV] max_depth=12, n_estimators=12 ...................................\n",
      "[CV]  max_depth=12, n_estimators=12, score=0.5738795315216642, total=   5.0s\n",
      "[CV] max_depth=12, n_estimators=12 ...................................\n",
      "[CV]  max_depth=12, n_estimators=12, score=0.5734376995067422, total=   4.9s\n",
      "[CV] max_depth=12, n_estimators=13 ...................................\n",
      "[CV]  max_depth=12, n_estimators=13, score=0.5717668306499556, total=   5.5s\n",
      "[CV] max_depth=12, n_estimators=13 ...................................\n",
      "[CV]  max_depth=12, n_estimators=13, score=0.578755974794494, total=   5.4s\n",
      "[CV] max_depth=12, n_estimators=13 ...................................\n",
      "[CV]  max_depth=12, n_estimators=13, score=0.5682555881320287, total=   5.4s\n",
      "[CV] max_depth=12, n_estimators=13 ...................................\n",
      "[CV]  max_depth=12, n_estimators=13, score=0.5839986762920428, total=   5.4s\n",
      "[CV] max_depth=12, n_estimators=13 ...................................\n",
      "[CV]  max_depth=12, n_estimators=13, score=0.5763372599247664, total=   5.3s\n",
      "[CV] max_depth=12, n_estimators=14 ...................................\n",
      "[CV]  max_depth=12, n_estimators=14, score=0.5775778867200684, total=   5.9s\n",
      "[CV] max_depth=12, n_estimators=14 ...................................\n",
      "[CV]  max_depth=12, n_estimators=14, score=0.5865535483640959, total=   6.1s\n",
      "[CV] max_depth=12, n_estimators=14 ...................................\n",
      "[CV]  max_depth=12, n_estimators=14, score=0.5665180715590968, total=   5.6s\n",
      "[CV] max_depth=12, n_estimators=14 ...................................\n",
      "[CV]  max_depth=12, n_estimators=14, score=0.5704655052879559, total=   6.0s\n",
      "[CV] max_depth=12, n_estimators=14 ...................................\n",
      "[CV]  max_depth=12, n_estimators=14, score=0.5749158578464149, total=   5.7s\n",
      "[CV] max_depth=12, n_estimators=15 ...................................\n",
      "[CV]  max_depth=12, n_estimators=15, score=0.5770401031125715, total=   6.4s\n",
      "[CV] max_depth=12, n_estimators=15 ...................................\n",
      "[CV]  max_depth=12, n_estimators=15, score=0.5789163388723112, total=   6.1s\n",
      "[CV] max_depth=12, n_estimators=15 ...................................\n",
      "[CV]  max_depth=12, n_estimators=15, score=0.5665743586552575, total=   6.4s\n",
      "[CV] max_depth=12, n_estimators=15 ...................................\n",
      "[CV]  max_depth=12, n_estimators=15, score=0.5834387936992605, total=   6.2s\n",
      "[CV] max_depth=12, n_estimators=15 ...................................\n",
      "[CV]  max_depth=12, n_estimators=15, score=0.5741408615548532, total=   6.3s\n",
      "[CV] max_depth=12, n_estimators=16 ...................................\n",
      "[CV]  max_depth=12, n_estimators=16, score=0.5755419473046697, total=   6.7s\n",
      "[CV] max_depth=12, n_estimators=16 ...................................\n",
      "[CV]  max_depth=12, n_estimators=16, score=0.5831597449230174, total=   6.8s\n",
      "[CV] max_depth=12, n_estimators=16 ...................................\n",
      "[CV]  max_depth=12, n_estimators=16, score=0.561055629833284, total=   6.5s\n",
      "[CV] max_depth=12, n_estimators=16 ...................................\n",
      "[CV]  max_depth=12, n_estimators=16, score=0.5830938545025812, total=   6.6s\n",
      "[CV] max_depth=12, n_estimators=16 ...................................\n",
      "[CV]  max_depth=12, n_estimators=16, score=0.5757027945129767, total=   6.4s\n",
      "[CV] max_depth=12, n_estimators=17 ...................................\n",
      "[CV]  max_depth=12, n_estimators=17, score=0.5836656220253148, total=   7.0s\n",
      "[CV] max_depth=12, n_estimators=17 ...................................\n",
      "[CV]  max_depth=12, n_estimators=17, score=0.5793032681082152, total=   7.0s\n",
      "[CV] max_depth=12, n_estimators=17 ...................................\n",
      "[CV]  max_depth=12, n_estimators=17, score=0.5629258129348244, total=   6.8s\n",
      "[CV] max_depth=12, n_estimators=17 ...................................\n",
      "[CV]  max_depth=12, n_estimators=17, score=0.5738794008114084, total=   7.2s\n",
      "[CV] max_depth=12, n_estimators=17 ...................................\n",
      "[CV]  max_depth=12, n_estimators=17, score=0.5741828775705956, total=   6.9s\n",
      "[CV] max_depth=12, n_estimators=18 ...................................\n",
      "[CV]  max_depth=12, n_estimators=18, score=0.5793062022761776, total=   7.3s\n",
      "[CV] max_depth=12, n_estimators=18 ...................................\n",
      "[CV]  max_depth=12, n_estimators=18, score=0.5696464017661952, total=   7.5s\n",
      "[CV] max_depth=12, n_estimators=18 ...................................\n",
      "[CV]  max_depth=12, n_estimators=18, score=0.5635084793080817, total=   7.5s\n",
      "[CV] max_depth=12, n_estimators=18 ...................................\n",
      "[CV]  max_depth=12, n_estimators=18, score=0.5825047512204281, total=   7.6s\n",
      "[CV] max_depth=12, n_estimators=18 ...................................\n",
      "[CV]  max_depth=12, n_estimators=18, score=0.5695157578416169, total=   7.4s\n",
      "[CV] max_depth=12, n_estimators=19 ...................................\n",
      "[CV]  max_depth=12, n_estimators=19, score=0.5742002488325564, total=   8.1s\n",
      "[CV] max_depth=12, n_estimators=19 ...................................\n",
      "[CV]  max_depth=12, n_estimators=19, score=0.569245829307603, total=   8.1s\n",
      "[CV] max_depth=12, n_estimators=19 ...................................\n",
      "[CV]  max_depth=12, n_estimators=19, score=0.5630035473049056, total=   8.3s\n",
      "[CV] max_depth=12, n_estimators=19 ...................................\n",
      "[CV]  max_depth=12, n_estimators=19, score=0.5835061012570927, total=   8.2s\n",
      "[CV] max_depth=12, n_estimators=19 ...................................\n",
      "[CV]  max_depth=12, n_estimators=19, score=0.5690406498635416, total=   8.0s\n",
      "[CV] max_depth=12, n_estimators=20 ...................................\n",
      "[CV]  max_depth=12, n_estimators=20, score=0.5847086227824435, total=   8.4s\n",
      "[CV] max_depth=12, n_estimators=20 ...................................\n",
      "[CV]  max_depth=12, n_estimators=20, score=0.5792645207370394, total=   8.1s\n",
      "[CV] max_depth=12, n_estimators=20 ...................................\n",
      "[CV]  max_depth=12, n_estimators=20, score=0.5587066385984862, total=   8.3s\n",
      "[CV] max_depth=12, n_estimators=20 ...................................\n",
      "[CV]  max_depth=12, n_estimators=20, score=0.5754072638031512, total=   8.5s\n",
      "[CV] max_depth=12, n_estimators=20 ...................................\n",
      "[CV]  max_depth=12, n_estimators=20, score=0.5699504013163973, total=   9.0s\n",
      "[CV] max_depth=15, n_estimators=10 ...................................\n",
      "[CV]  max_depth=15, n_estimators=10, score=0.5793149219855911, total=   5.0s\n",
      "[CV] max_depth=15, n_estimators=10 ...................................\n",
      "[CV]  max_depth=15, n_estimators=10, score=0.571866405926719, total=   4.7s\n",
      "[CV] max_depth=15, n_estimators=10 ...................................\n",
      "[CV]  max_depth=15, n_estimators=10, score=0.5632743164281013, total=   4.5s\n",
      "[CV] max_depth=15, n_estimators=10 ...................................\n",
      "[CV]  max_depth=15, n_estimators=10, score=0.5761415515163703, total=   4.6s\n",
      "[CV] max_depth=15, n_estimators=10 ...................................\n",
      "[CV]  max_depth=15, n_estimators=10, score=0.5783075501795315, total=   4.5s\n",
      "[CV] max_depth=15, n_estimators=11 ...................................\n",
      "[CV]  max_depth=15, n_estimators=11, score=0.5784929765008174, total=   5.1s\n",
      "[CV] max_depth=15, n_estimators=11 ...................................\n",
      "[CV]  max_depth=15, n_estimators=11, score=0.5814706108837758, total=   5.0s\n",
      "[CV] max_depth=15, n_estimators=11 ...................................\n",
      "[CV]  max_depth=15, n_estimators=11, score=0.5587116801231328, total=   5.0s\n",
      "[CV] max_depth=15, n_estimators=11 ...................................\n",
      "[CV]  max_depth=15, n_estimators=11, score=0.5848173199565053, total=   5.1s\n",
      "[CV] max_depth=15, n_estimators=11 ...................................\n",
      "[CV]  max_depth=15, n_estimators=11, score=0.5682240866796563, total=   5.1s\n",
      "[CV] max_depth=15, n_estimators=12 ...................................\n",
      "[CV]  max_depth=15, n_estimators=12, score=0.5815969890204347, total=   5.5s\n",
      "[CV] max_depth=15, n_estimators=12 ...................................\n",
      "[CV]  max_depth=15, n_estimators=12, score=0.5878196116168237, total=   5.4s\n",
      "[CV] max_depth=15, n_estimators=12 ...................................\n",
      "[CV]  max_depth=15, n_estimators=12, score=0.5719760324931938, total=   6.1s\n",
      "[CV] max_depth=15, n_estimators=12 ...................................\n",
      "[CV]  max_depth=15, n_estimators=12, score=0.5890698112147623, total=   5.5s\n",
      "[CV] max_depth=15, n_estimators=12 ...................................\n",
      "[CV]  max_depth=15, n_estimators=12, score=0.5834222882533684, total=   5.8s\n",
      "[CV] max_depth=15, n_estimators=13 ...................................\n",
      "[CV]  max_depth=15, n_estimators=13, score=0.5833956775472483, total=   6.0s\n",
      "[CV] max_depth=15, n_estimators=13 ...................................\n",
      "[CV]  max_depth=15, n_estimators=13, score=0.5839001848096707, total=   5.7s\n",
      "[CV] max_depth=15, n_estimators=13 ...................................\n",
      "[CV]  max_depth=15, n_estimators=13, score=0.5678136945804156, total=   5.9s\n",
      "[CV] max_depth=15, n_estimators=13 ...................................\n",
      "[CV]  max_depth=15, n_estimators=13, score=0.5892942051278345, total=   5.8s\n",
      "[CV] max_depth=15, n_estimators=13 ...................................\n",
      "[CV]  max_depth=15, n_estimators=13, score=0.5791129675404924, total=   5.8s\n",
      "[CV] max_depth=15, n_estimators=14 ...................................\n",
      "[CV]  max_depth=15, n_estimators=14, score=0.5813748905306702, total=   6.6s\n",
      "[CV] max_depth=15, n_estimators=14 ...................................\n",
      "[CV]  max_depth=15, n_estimators=14, score=0.5807626515115251, total=   6.1s\n",
      "[CV] max_depth=15, n_estimators=14 ...................................\n",
      "[CV]  max_depth=15, n_estimators=14, score=0.5712554226027994, total=   6.2s\n",
      "[CV] max_depth=15, n_estimators=14 ...................................\n",
      "[CV]  max_depth=15, n_estimators=14, score=0.5941456569483835, total=   6.5s\n",
      "[CV] max_depth=15, n_estimators=14 ...................................\n",
      "[CV]  max_depth=15, n_estimators=14, score=0.584531306521037, total=   6.3s\n",
      "[CV] max_depth=15, n_estimators=15 ...................................\n",
      "[CV]  max_depth=15, n_estimators=15, score=0.5766911456583403, total=   6.9s\n",
      "[CV] max_depth=15, n_estimators=15 ...................................\n",
      "[CV]  max_depth=15, n_estimators=15, score=0.5722145889675917, total=   7.0s\n",
      "[CV] max_depth=15, n_estimators=15 ...................................\n",
      "[CV]  max_depth=15, n_estimators=15, score=0.5600610572729465, total=   6.9s\n",
      "[CV] max_depth=15, n_estimators=15 ...................................\n",
      "[CV]  max_depth=15, n_estimators=15, score=0.5922640264484308, total=   6.5s\n",
      "[CV] max_depth=15, n_estimators=15 ...................................\n",
      "[CV]  max_depth=15, n_estimators=15, score=0.5800655210052408, total=   6.9s\n",
      "[CV] max_depth=15, n_estimators=16 ...................................\n",
      "[CV]  max_depth=15, n_estimators=16, score=0.5820664764934492, total=   7.1s\n",
      "[CV] max_depth=15, n_estimators=16 ...................................\n",
      "[CV]  max_depth=15, n_estimators=16, score=0.5710975374539956, total=   7.4s\n",
      "[CV] max_depth=15, n_estimators=16 ...................................\n",
      "[CV]  max_depth=15, n_estimators=16, score=0.5734036125919925, total=   7.3s\n",
      "[CV] max_depth=15, n_estimators=16 ...................................\n",
      "[CV]  max_depth=15, n_estimators=16, score=0.583588751871509, total=   7.4s\n",
      "[CV] max_depth=15, n_estimators=16 ...................................\n",
      "[CV]  max_depth=15, n_estimators=16, score=0.5837818403376337, total=   7.1s\n",
      "[CV] max_depth=15, n_estimators=17 ...................................\n",
      "[CV]  max_depth=15, n_estimators=17, score=0.5894271433597608, total=   7.5s\n",
      "[CV] max_depth=15, n_estimators=17 ...................................\n",
      "[CV]  max_depth=15, n_estimators=17, score=0.5723259107839848, total=   7.6s\n",
      "[CV] max_depth=15, n_estimators=17 ...................................\n",
      "[CV]  max_depth=15, n_estimators=17, score=0.5615879311598593, total=   7.7s\n",
      "[CV] max_depth=15, n_estimators=17 ...................................\n",
      "[CV]  max_depth=15, n_estimators=17, score=0.5807379210479432, total=   7.8s\n",
      "[CV] max_depth=15, n_estimators=17 ...................................\n",
      "[CV]  max_depth=15, n_estimators=17, score=0.5850771501201587, total=   7.8s\n",
      "[CV] max_depth=15, n_estimators=18 ...................................\n",
      "[CV]  max_depth=15, n_estimators=18, score=0.5831737521539553, total=   8.1s\n",
      "[CV] max_depth=15, n_estimators=18 ...................................\n",
      "[CV]  max_depth=15, n_estimators=18, score=0.5795264121682252, total=   8.2s\n",
      "[CV] max_depth=15, n_estimators=18 ...................................\n",
      "[CV]  max_depth=15, n_estimators=18, score=0.5664711378365147, total=   8.0s\n",
      "[CV] max_depth=15, n_estimators=18 ...................................\n",
      "[CV]  max_depth=15, n_estimators=18, score=0.5905820064545387, total=   8.1s\n",
      "[CV] max_depth=15, n_estimators=18 ...................................\n",
      "[CV]  max_depth=15, n_estimators=18, score=0.584079285880097, total=   8.1s\n",
      "[CV] max_depth=15, n_estimators=19 ...................................\n",
      "[CV]  max_depth=15, n_estimators=19, score=0.59530041645127, total=   8.6s\n",
      "[CV] max_depth=15, n_estimators=19 ...................................\n",
      "[CV]  max_depth=15, n_estimators=19, score=0.5794814415093801, total=   8.7s\n",
      "[CV] max_depth=15, n_estimators=19 ...................................\n",
      "[CV]  max_depth=15, n_estimators=19, score=0.5748866198632729, total=   8.6s\n",
      "[CV] max_depth=15, n_estimators=19 ...................................\n",
      "[CV]  max_depth=15, n_estimators=19, score=0.5828236112571782, total=   8.7s\n",
      "[CV] max_depth=15, n_estimators=19 ...................................\n",
      "[CV]  max_depth=15, n_estimators=19, score=0.5809898174296527, total=   8.8s\n",
      "[CV] max_depth=15, n_estimators=20 ...................................\n",
      "[CV]  max_depth=15, n_estimators=20, score=0.5864511470603141, total=   9.1s\n",
      "[CV] max_depth=15, n_estimators=20 ...................................\n",
      "[CV]  max_depth=15, n_estimators=20, score=0.5730043219373644, total=   9.2s\n",
      "[CV] max_depth=15, n_estimators=20 ...................................\n",
      "[CV]  max_depth=15, n_estimators=20, score=0.5651364129876262, total=   9.4s\n",
      "[CV] max_depth=15, n_estimators=20 ...................................\n",
      "[CV]  max_depth=15, n_estimators=20, score=0.5842133070103234, total=   9.1s\n",
      "[CV] max_depth=15, n_estimators=20 ...................................\n",
      "[CV]  max_depth=15, n_estimators=20, score=0.5860504069294127, total=   9.0s\n",
      "[CV] max_depth=17, n_estimators=10 ...................................\n",
      "[CV]  max_depth=17, n_estimators=10, score=0.5843566434417126, total=   4.6s\n",
      "[CV] max_depth=17, n_estimators=10 ...................................\n",
      "[CV]  max_depth=17, n_estimators=10, score=0.5773106344329411, total=   4.7s\n",
      "[CV] max_depth=17, n_estimators=10 ...................................\n",
      "[CV]  max_depth=17, n_estimators=10, score=0.558960248493432, total=   4.7s\n",
      "[CV] max_depth=17, n_estimators=10 ...................................\n",
      "[CV]  max_depth=17, n_estimators=10, score=0.5731688541500337, total=   4.7s\n",
      "[CV] max_depth=17, n_estimators=10 ...................................\n",
      "[CV]  max_depth=17, n_estimators=10, score=0.5861518953239188, total=   4.6s\n",
      "[CV] max_depth=17, n_estimators=11 ...................................\n",
      "[CV]  max_depth=17, n_estimators=11, score=0.5697459108863122, total=   5.2s\n",
      "[CV] max_depth=17, n_estimators=11 ...................................\n",
      "[CV]  max_depth=17, n_estimators=11, score=0.5745873351954788, total=   5.2s\n",
      "[CV] max_depth=17, n_estimators=11 ...................................\n",
      "[CV]  max_depth=17, n_estimators=11, score=0.56568851389354, total=   5.3s\n",
      "[CV] max_depth=17, n_estimators=11 ...................................\n",
      "[CV]  max_depth=17, n_estimators=11, score=0.5867407416118978, total=   5.0s\n",
      "[CV] max_depth=17, n_estimators=11 ...................................\n",
      "[CV]  max_depth=17, n_estimators=11, score=0.5812397809190145, total=   5.2s\n",
      "[CV] max_depth=17, n_estimators=12 ...................................\n",
      "[CV]  max_depth=17, n_estimators=12, score=0.5897896523969891, total=   5.4s\n",
      "[CV] max_depth=17, n_estimators=12 ...................................\n",
      "[CV]  max_depth=17, n_estimators=12, score=0.5724049675611876, total=   5.6s\n",
      "[CV] max_depth=17, n_estimators=12 ...................................\n",
      "[CV]  max_depth=17, n_estimators=12, score=0.5683562851234688, total=   5.6s\n",
      "[CV] max_depth=17, n_estimators=12 ...................................\n",
      "[CV]  max_depth=17, n_estimators=12, score=0.5820865165369273, total=   5.5s\n",
      "[CV] max_depth=17, n_estimators=12 ...................................\n",
      "[CV]  max_depth=17, n_estimators=12, score=0.5858887090779764, total=   5.5s\n",
      "[CV] max_depth=17, n_estimators=13 ...................................\n",
      "[CV]  max_depth=17, n_estimators=13, score=0.5793696857549252, total=   6.3s\n",
      "[CV] max_depth=17, n_estimators=13 ...................................\n",
      "[CV]  max_depth=17, n_estimators=13, score=0.5773014829511179, total=   5.9s\n",
      "[CV] max_depth=17, n_estimators=13 ...................................\n",
      "[CV]  max_depth=17, n_estimators=13, score=0.5724249573709524, total=   6.0s\n",
      "[CV] max_depth=17, n_estimators=13 ...................................\n",
      "[CV]  max_depth=17, n_estimators=13, score=0.5821044590569103, total=   6.1s\n",
      "[CV] max_depth=17, n_estimators=13 ...................................\n",
      "[CV]  max_depth=17, n_estimators=13, score=0.5756318565789257, total=   6.0s\n",
      "[CV] max_depth=17, n_estimators=14 ...................................\n",
      "[CV]  max_depth=17, n_estimators=14, score=0.5912040949633499, total=   6.3s\n",
      "[CV] max_depth=17, n_estimators=14 ...................................\n",
      "[CV]  max_depth=17, n_estimators=14, score=0.5809594383021762, total=   6.5s\n",
      "[CV] max_depth=17, n_estimators=14 ...................................\n",
      "[CV]  max_depth=17, n_estimators=14, score=0.569964905258039, total=   6.6s\n",
      "[CV] max_depth=17, n_estimators=14 ...................................\n",
      "[CV]  max_depth=17, n_estimators=14, score=0.5806530997080234, total=   6.5s\n",
      "[CV] max_depth=17, n_estimators=14 ...................................\n",
      "[CV]  max_depth=17, n_estimators=14, score=0.5785608116027854, total=   6.5s\n",
      "[CV] max_depth=17, n_estimators=15 ...................................\n",
      "[CV]  max_depth=17, n_estimators=15, score=0.5884987123991069, total=   7.1s\n",
      "[CV] max_depth=17, n_estimators=15 ...................................\n",
      "[CV]  max_depth=17, n_estimators=15, score=0.5801273248607124, total=   7.1s\n",
      "[CV] max_depth=17, n_estimators=15 ...................................\n",
      "[CV]  max_depth=17, n_estimators=15, score=0.5706497386290871, total=   6.8s\n",
      "[CV] max_depth=17, n_estimators=15 ...................................\n",
      "[CV]  max_depth=17, n_estimators=15, score=0.5822853832022993, total=   7.0s\n",
      "[CV] max_depth=17, n_estimators=15 ...................................\n",
      "[CV]  max_depth=17, n_estimators=15, score=0.5877922576412985, total=   6.8s\n",
      "[CV] max_depth=17, n_estimators=16 ...................................\n",
      "[CV]  max_depth=17, n_estimators=16, score=0.582424803397591, total=   7.7s\n",
      "[CV] max_depth=17, n_estimators=16 ...................................\n",
      "[CV]  max_depth=17, n_estimators=16, score=0.5875841832310388, total=   7.2s\n",
      "[CV] max_depth=17, n_estimators=16 ...................................\n",
      "[CV]  max_depth=17, n_estimators=16, score=0.5710457855035779, total=   7.5s\n",
      "[CV] max_depth=17, n_estimators=16 ...................................\n",
      "[CV]  max_depth=17, n_estimators=16, score=0.5834308549087682, total=   7.4s\n",
      "[CV] max_depth=17, n_estimators=16 ...................................\n",
      "[CV]  max_depth=17, n_estimators=16, score=0.5763129611437431, total=   7.7s\n",
      "[CV] max_depth=17, n_estimators=17 ...................................\n",
      "[CV]  max_depth=17, n_estimators=17, score=0.583561831762797, total=   7.9s\n",
      "[CV] max_depth=17, n_estimators=17 ...................................\n",
      "[CV]  max_depth=17, n_estimators=17, score=0.5733353531553664, total=   8.2s\n",
      "[CV] max_depth=17, n_estimators=17 ...................................\n",
      "[CV]  max_depth=17, n_estimators=17, score=0.5700427898529116, total=   7.8s\n",
      "[CV] max_depth=17, n_estimators=17 ...................................\n",
      "[CV]  max_depth=17, n_estimators=17, score=0.5855311612585709, total=   8.2s\n",
      "[CV] max_depth=17, n_estimators=17 ...................................\n",
      "[CV]  max_depth=17, n_estimators=17, score=0.5905256728285803, total=   8.3s\n",
      "[CV] max_depth=17, n_estimators=18 ...................................\n",
      "[CV]  max_depth=17, n_estimators=18, score=0.5863183714864676, total=   9.0s\n",
      "[CV] max_depth=17, n_estimators=18 ...................................\n",
      "[CV]  max_depth=17, n_estimators=18, score=0.5750633879474617, total=   8.5s\n",
      "[CV] max_depth=17, n_estimators=18 ...................................\n",
      "[CV]  max_depth=17, n_estimators=18, score=0.573602251927269, total=   8.2s\n",
      "[CV] max_depth=17, n_estimators=18 ...................................\n",
      "[CV]  max_depth=17, n_estimators=18, score=0.5944289977256668, total=   8.1s\n",
      "[CV] max_depth=17, n_estimators=18 ...................................\n",
      "[CV]  max_depth=17, n_estimators=18, score=0.5906142342193973, total=   8.3s\n",
      "[CV] max_depth=17, n_estimators=19 ...................................\n",
      "[CV]  max_depth=17, n_estimators=19, score=0.5912758425669401, total=   8.7s\n",
      "[CV] max_depth=17, n_estimators=19 ...................................\n",
      "[CV]  max_depth=17, n_estimators=19, score=0.5851835408848589, total=   8.7s\n",
      "[CV] max_depth=17, n_estimators=19 ...................................\n",
      "[CV]  max_depth=17, n_estimators=19, score=0.575322645561582, total=   8.7s\n",
      "[CV] max_depth=17, n_estimators=19 ...................................\n",
      "[CV]  max_depth=17, n_estimators=19, score=0.5918715390128866, total=   8.8s\n",
      "[CV] max_depth=17, n_estimators=19 ...................................\n",
      "[CV]  max_depth=17, n_estimators=19, score=0.585176194365483, total=   8.7s\n",
      "[CV] max_depth=17, n_estimators=20 ...................................\n",
      "[CV]  max_depth=17, n_estimators=20, score=0.5871255087411537, total=   9.1s\n",
      "[CV] max_depth=17, n_estimators=20 ...................................\n",
      "[CV]  max_depth=17, n_estimators=20, score=0.5849756460356835, total=   9.3s\n",
      "[CV] max_depth=17, n_estimators=20 ...................................\n",
      "[CV]  max_depth=17, n_estimators=20, score=0.577922199586164, total=   9.1s\n",
      "[CV] max_depth=17, n_estimators=20 ...................................\n",
      "[CV]  max_depth=17, n_estimators=20, score=0.5867642528790961, total=   9.4s\n",
      "[CV] max_depth=17, n_estimators=20 ...................................\n",
      "[CV]  max_depth=17, n_estimators=20, score=0.5795125625482224, total=   9.3s\n"
     ]
    },
    {
     "name": "stderr",
     "output_type": "stream",
     "text": [
      "[Parallel(n_jobs=1)]: Done 220 out of 220 | elapsed: 23.8min finished\n"
     ]
    },
    {
     "name": "stdout",
     "output_type": "stream",
     "text": [
      "Wall time: 23min 58s\n",
      "             precision    recall  f1-score   support\n",
      "\n",
      "       Bear       0.15      0.07      0.10        28\n",
      "       Bull       0.42      0.30      0.35        56\n",
      "    S. Bear       0.59      0.50      0.54        52\n",
      "    S. Bull       0.61      0.72      0.66        86\n",
      "    W. Bear       0.66      0.83      0.74        93\n",
      "    W. Bull       0.78      0.78      0.78       157\n",
      "\n",
      "avg / total       0.63      0.65      0.63       472\n",
      "\n"
     ]
    }
   ],
   "source": [
    "random_forest = GridSearchCV(RandomForestClassifier(criterion='entropy'),\n",
    "                   param_grid={'n_estimators': range(10, 21),\n",
    "                              'max_depth': [7, 12, 15, 17]}, \n",
    "                   scoring='recall_macro', \n",
    "                   cv=5, verbose=10)\n",
    "%time random_forest.fit(features_train.values, target_train.values)\n",
    "random_forest = RandomForestClassifier(**random_forest.best_params_)\n",
    "random_forest.fit(features_train.values, target_train.values)\n",
    "print(classification_report(target_test.values, random_forest.predict(features_test.values)))"
   ]
  },
  {
   "cell_type": "code",
   "execution_count": 36,
   "metadata": {},
   "outputs": [
    {
     "name": "stdout",
     "output_type": "stream",
     "text": [
      "              precision    recall  f1-score   support\n",
      "\n",
      "        Bear       0.07      0.11      0.08       226\n",
      "        Bull       0.11      0.06      0.07       482\n",
      "     S. Bear       0.13      0.18      0.15       455\n",
      "     S. Bull       0.18      0.14      0.16       725\n",
      "     W. Bear       0.20      0.32      0.25       828\n",
      "     W. Bull       0.34      0.23      0.28      1317\n",
      "\n",
      "   micro avg       0.20      0.20      0.20      4033\n",
      "   macro avg       0.17      0.17      0.17      4033\n",
      "weighted avg       0.22      0.20      0.20      4033\n",
      "\n"
     ]
    }
   ],
   "source": [
    "features_test = df_final_test[df_final_test.select_dtypes(float).columns]\n",
    "target_test = df_final_test['cat_close_shifted_3']\n",
    "print(classification_report(target_test.values, knn.predict(features_test.values)))"
   ]
  },
  {
   "cell_type": "code",
   "execution_count": null,
   "metadata": {},
   "outputs": [],
   "source": []
  }
 ],
 "metadata": {
  "kernelspec": {
   "display_name": "Python 3",
   "language": "python",
   "name": "python3"
  },
  "language_info": {
   "codemirror_mode": {
    "name": "ipython",
    "version": 3
   },
   "file_extension": ".py",
   "mimetype": "text/x-python",
   "name": "python",
   "nbconvert_exporter": "python",
   "pygments_lexer": "ipython3",
   "version": "3.7.0"
  }
 },
 "nbformat": 4,
 "nbformat_minor": 2
}
