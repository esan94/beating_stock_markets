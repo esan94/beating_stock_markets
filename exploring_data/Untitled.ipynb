{
 "cells": [
  {
   "cell_type": "code",
   "execution_count": 1,
   "metadata": {},
   "outputs": [
    {
     "name": "stderr",
     "output_type": "stream",
     "text": [
      "C:\\Users\\esteb\\Anaconda3\\lib\\site-packages\\sklearn\\ensemble\\weight_boosting.py:29: DeprecationWarning: numpy.core.umath_tests is an internal NumPy module and should not be imported. It will be removed in a future NumPy release.\n",
      "  from numpy.core.umath_tests import inner1d\n"
     ]
    }
   ],
   "source": [
    "import pandas as pd\n",
    "import numpy as np\n",
    "import re\n",
    "\n",
    "from sklearn.model_selection import train_test_split, GridSearchCV\n",
    "from sklearn.neighbors import KNeighborsClassifier\n",
    "from sklearn.tree import DecisionTreeClassifier\n",
    "from sklearn.ensemble import RandomForestClassifier\n",
    "from sklearn.preprocessing import RobustScaler, StandardScaler\n",
    "\n",
    "from xgboost import XGBClassifier\n",
    "from lightgbm import LGBMClassifier"
   ]
  },
  {
   "cell_type": "code",
   "execution_count": 2,
   "metadata": {},
   "outputs": [],
   "source": [
    "def add_shifts(df_, col_id, col_calc_pl, new_col, shift):\n",
    "    for id_ in df_[col_id].unique():\n",
    "        df_by_id = df_[df_[col_id] == id_]\n",
    "        df_.loc[df_[col_id] == id_, new_col] = df_by_id[col_calc_pl] - df_by_id[col_calc_pl].shift(shift)\n",
    "        \n",
    "    return df_"
   ]
  },
  {
   "cell_type": "code",
   "execution_count": 3,
   "metadata": {},
   "outputs": [],
   "source": [
    "def get_non_42_cols(df_):\n",
    "    return [elem for elem in df_.columns if (re.search(r'\\d+$', elem) is not None) and (int(elem[-2:].strip()) != 42)]"
   ]
  },
  {
   "cell_type": "code",
   "execution_count": 4,
   "metadata": {},
   "outputs": [],
   "source": [
    "def interpolate_nan_values(df_):\n",
    "    list_df = []\n",
    "    for tick in df_['ticker'].unique():\n",
    "        df_by_ticker = df_[df_['ticker'] == tick]\n",
    "        float_columns = df_by_ticker.select_dtypes(float).columns\n",
    "        df_by_ticker[float_columns] = df_by_ticker[float_columns].interpolate(method='pad', axis=1)\n",
    "        list_df.append(df_by_ticker)\n",
    "    return pd.concat(list_df)"
   ]
  },
  {
   "cell_type": "code",
   "execution_count": 5,
   "metadata": {},
   "outputs": [],
   "source": [
    "df_categorical = pd.read_csv('../data/db_bsm_categorical.csv')"
   ]
  },
  {
   "cell_type": "code",
   "execution_count": 6,
   "metadata": {},
   "outputs": [],
   "source": [
    "df_financial = pd.read_csv('../data/db_bsm_financial.csv')"
   ]
  },
  {
   "cell_type": "code",
   "execution_count": 7,
   "metadata": {},
   "outputs": [],
   "source": [
    "list_cols_to_drop = get_non_42_cols(df_financial)"
   ]
  },
  {
   "cell_type": "code",
   "execution_count": 8,
   "metadata": {},
   "outputs": [],
   "source": [
    "df_financial = df_financial.drop(list_cols_to_drop, 1)"
   ]
  },
  {
   "cell_type": "code",
   "execution_count": 9,
   "metadata": {},
   "outputs": [],
   "source": [
    "df_financial = df_financial.replace(0, np.nan)"
   ]
  },
  {
   "cell_type": "code",
   "execution_count": 10,
   "metadata": {},
   "outputs": [
    {
     "name": "stderr",
     "output_type": "stream",
     "text": [
      "C:\\Users\\esteb\\Anaconda3\\lib\\site-packages\\pandas\\core\\frame.py:3140: SettingWithCopyWarning: \n",
      "A value is trying to be set on a copy of a slice from a DataFrame.\n",
      "Try using .loc[row_indexer,col_indexer] = value instead\n",
      "\n",
      "See the caveats in the documentation: http://pandas.pydata.org/pandas-docs/stable/indexing.html#indexing-view-versus-copy\n",
      "  self[k1] = value[k2]\n"
     ]
    }
   ],
   "source": [
    "df_financial_no_empty = interpolate_nan_values(df_financial)"
   ]
  },
  {
   "cell_type": "code",
   "execution_count": 11,
   "metadata": {},
   "outputs": [],
   "source": [
    "df_financial_no_empty = add_shifts(df_financial_no_empty, 'ticker', 'close', 'daily_pl', 1)"
   ]
  },
  {
   "cell_type": "code",
   "execution_count": 12,
   "metadata": {},
   "outputs": [],
   "source": [
    "df_categorical = df_categorical.dropna()"
   ]
  },
  {
   "cell_type": "code",
   "execution_count": 13,
   "metadata": {},
   "outputs": [],
   "source": [
    "df_categorical = df_categorical.drop_duplicates(subset=['ticker'], keep='first')"
   ]
  },
  {
   "cell_type": "code",
   "execution_count": 14,
   "metadata": {},
   "outputs": [],
   "source": [
    "df_fin_cat = pd.merge(left=df_financial_no_empty, right=df_categorical, how='inner', on='ticker')"
   ]
  },
  {
   "cell_type": "code",
   "execution_count": 15,
   "metadata": {},
   "outputs": [],
   "source": [
    "df_fin_cat = df_fin_cat.dropna()"
   ]
  },
  {
   "cell_type": "code",
   "execution_count": 16,
   "metadata": {},
   "outputs": [],
   "source": [
    "target = df_fin_cat['sector_gics'].values\n",
    "features = df_fin_cat.select_dtypes(float).values"
   ]
  },
  {
   "cell_type": "code",
   "execution_count": 17,
   "metadata": {},
   "outputs": [],
   "source": [
    "features_rs = RobustScaler().fit_transform(features)\n",
    "features_ss = StandardScaler().fit_transform(features)"
   ]
  },
  {
   "cell_type": "code",
   "execution_count": 18,
   "metadata": {},
   "outputs": [],
   "source": [
    "X_train, X_test, y_train, y_test = train_test_split(features, target, test_size=0.1, random_state=32)\n",
    "X_train_rs, X_test_rs, y_train_rs, y_test_rs = train_test_split(features_rs, target, test_size=0.1, random_state=32)\n",
    "X_train_ss, X_test_ss, y_train_ss, y_test_ss = train_test_split(features_ss, target, test_size=0.1, random_state=32)"
   ]
  },
  {
   "cell_type": "code",
   "execution_count": 19,
   "metadata": {},
   "outputs": [],
   "source": [
    "knn = GridSearchCV(KNeighborsClassifier(),\n",
    "                   param_grid={'n_neighbors': range(1, 11)}, \n",
    "                   scoring='recall_macro', \n",
    "                   cv=5)\n",
    "knn_rs = GridSearchCV(KNeighborsClassifier(),\n",
    "                   param_grid={'n_neighbors': range(1, 11)}, \n",
    "                   scoring='recall_macro', \n",
    "                   cv=5)\n",
    "knn_ss = GridSearchCV(KNeighborsClassifier(),\n",
    "                   param_grid={'n_neighbors': range(1, 11)}, \n",
    "                   scoring='recall_macro', \n",
    "                   cv=5)"
   ]
  },
  {
   "cell_type": "code",
   "execution_count": null,
   "metadata": {},
   "outputs": [],
   "source": [
    "knn.fit(X_train, y_train)\n",
    "print('knn done')"
   ]
  },
  {
   "cell_type": "code",
   "execution_count": null,
   "metadata": {},
   "outputs": [
    {
     "name": "stdout",
     "output_type": "stream",
     "text": [
      "knn done\n"
     ]
    }
   ],
   "source": [
    "knn_rs.fit(X_train_rs, y_train_rs)\n",
    "print('knn_rs done')\n",
    "knn_ss.fit(X_train_ss, y_train_ss)\n",
    "print('knn_ss done')"
   ]
  },
  {
   "cell_type": "code",
   "execution_count": null,
   "metadata": {},
   "outputs": [],
   "source": [
    "knn = KNeighborsClassifier(**knn.best_params_)\n",
    "knn.fit(X_train, y_train)\n",
    "\n",
    "knn_rs = KNeighborsClassifier(**knn_rs.best_params_)\n",
    "knn_rs.fit(X_train_rs, y_train_rs)\n",
    "\n",
    "knn_ss = KNeighborsClassifier(**knn_ss.best_params_)\n",
    "knn_ss.fit(X_train_ss, y_train_ss)"
   ]
  },
  {
   "cell_type": "code",
   "execution_count": null,
   "metadata": {},
   "outputs": [],
   "source": [
    "random_forest = GridSearchCV(RandomForestClassifier(criterion='entropy'),\n",
    "                   param_grid={'max_depth': range(1, 21)}, \n",
    "                   scoring='recall_macro', \n",
    "                   cv=5)\n",
    "random_forest_rs = GridSearchCV(RandomForestClassifier(criterion='entropy'),\n",
    "                   param_grid={'max_depth': range(1, 21)}, \n",
    "                   scoring='recall_macro', \n",
    "                   cv=5)\n",
    "random_forest_ss = GridSearchCV(RandomForestClassifier(criterion='entropy'),\n",
    "                   param_grid={'max_depth': range(1, 21)}, \n",
    "                   scoring='recall_macro', \n",
    "                   cv=5)"
   ]
  },
  {
   "cell_type": "code",
   "execution_count": null,
   "metadata": {},
   "outputs": [],
   "source": [
    "random_forest.fit(X_train, y_train)\n",
    "print('random_forest done')\n",
    "random_forest_rs.fit(X_train_rs, y_train_rs)\n",
    "print('random_forest_rs done')\n",
    "random_forest_ss.fit(X_train_ss, y_train_ss)\n",
    "print('random_forest_ss done')"
   ]
  },
  {
   "cell_type": "code",
   "execution_count": null,
   "metadata": {},
   "outputs": [],
   "source": [
    "random_forest = RandomForestClassifier(**random_forest.best_params_)\n",
    "random_forest.fit(X_train, y_train)\n",
    "\n",
    "random_forest_rs = RandomForestClassifier(**random_forest_rs.best_params_)\n",
    "random_forest_rs.fit(X_train_rs, y_train_rs)\n",
    "\n",
    "random_forest_ss = RandomForestClassifier(**random_forest_ss.best_params_)\n",
    "random_forest_ss.fit(X_train_ss, y_train_ss)"
   ]
  },
  {
   "cell_type": "code",
   "execution_count": null,
   "metadata": {},
   "outputs": [],
   "source": [
    "dec_tree = GridSearchCV(DecisionTreeClassifier(criterion='entropy'),\n",
    "                   param_grid={'max_depth': range(1, 21)}, \n",
    "                   scoring='recall_macro', \n",
    "                   cv=5)\n",
    "dec_tree_rs = GridSearchCV(DecisionTreeClassifier(criterion='entropy'),\n",
    "                   param_grid={'max_depth': range(1, 21)}, \n",
    "                   scoring='recall_macro', \n",
    "                   cv=5)\n",
    "dec_tree_ss = GridSearchCV(DecisionTreeClassifier(criterion='entropy'),\n",
    "                   param_grid={'max_depth': range(1, 21)}, \n",
    "                   scoring='recall_macro', \n",
    "                   cv=5)"
   ]
  },
  {
   "cell_type": "code",
   "execution_count": null,
   "metadata": {},
   "outputs": [],
   "source": [
    "dec_tree.fit(X_train, y_train)\n",
    "print('dec_tree done')\n",
    "dec_tree_rs.fit(X_train_rs, y_train_rs)\n",
    "print('dec_tree_rs done')\n",
    "dec_tree_ss.fit(X_train_ss, y_train_ss)\n",
    "print('dec_tree_ss done')"
   ]
  },
  {
   "cell_type": "code",
   "execution_count": null,
   "metadata": {},
   "outputs": [],
   "source": [
    "dec_tree = DecisionTreeClassifier(**dec_tree.best_params_)\n",
    "dec_tree.fit(X_train, y_train)\n",
    "\n",
    "dec_tree_rs = DecisionTreeClassifier(**dec_tree_rs.best_params_)\n",
    "dec_tree_rs.fit(X_train_rs, y_train_rs)\n",
    "\n",
    "dec_tree_ss = DecisionTreeClassifier(**dec_tree_ss.best_params_)\n",
    "dec_tree_ss.fit(X_train_ss, y_train_ss)"
   ]
  },
  {
   "cell_type": "code",
   "execution_count": null,
   "metadata": {},
   "outputs": [],
   "source": []
  },
  {
   "cell_type": "code",
   "execution_count": null,
   "metadata": {},
   "outputs": [],
   "source": []
  }
 ],
 "metadata": {
  "kernelspec": {
   "display_name": "Python 3",
   "language": "python",
   "name": "python3"
  },
  "language_info": {
   "codemirror_mode": {
    "name": "ipython",
    "version": 3
   },
   "file_extension": ".py",
   "mimetype": "text/x-python",
   "name": "python",
   "nbconvert_exporter": "python",
   "pygments_lexer": "ipython3",
   "version": "3.7.0"
  }
 },
 "nbformat": 4,
 "nbformat_minor": 2
}
